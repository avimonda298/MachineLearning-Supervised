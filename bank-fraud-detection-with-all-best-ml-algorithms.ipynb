{
 "cells": [
  {
   "cell_type": "code",
   "execution_count": 1,
   "id": "4d0ff74c",
   "metadata": {
    "execution": {
     "iopub.execute_input": "2022-11-25T16:12:12.416879Z",
     "iopub.status.busy": "2022-11-25T16:12:12.416406Z",
     "iopub.status.idle": "2022-11-25T16:12:14.878618Z",
     "shell.execute_reply": "2022-11-25T16:12:14.877886Z"
    },
    "id": "Y8EXf3Ma2JyF",
    "papermill": {
     "duration": 2.481197,
     "end_time": "2022-11-25T16:12:14.880871",
     "exception": false,
     "start_time": "2022-11-25T16:12:12.399674",
     "status": "completed"
    },
    "tags": []
   },
   "outputs": [
    {
     "data": {
      "text/html": [
       "<style type='text/css'>\n",
       ".datatable table.frame { margin-bottom: 0; }\n",
       ".datatable table.frame thead { border-bottom: none; }\n",
       ".datatable table.frame tr.coltypes td {  color: #FFFFFF;  line-height: 6px;  padding: 0 0.5em;}\n",
       ".datatable .bool    { background: #DDDD99; }\n",
       ".datatable .object  { background: #565656; }\n",
       ".datatable .int     { background: #5D9E5D; }\n",
       ".datatable .float   { background: #4040CC; }\n",
       ".datatable .str     { background: #CC4040; }\n",
       ".datatable .time    { background: #40CC40; }\n",
       ".datatable .row_index {  background: var(--jp-border-color3);  border-right: 1px solid var(--jp-border-color0);  color: var(--jp-ui-font-color3);  font-size: 9px;}\n",
       ".datatable .frame tbody td { text-align: left; }\n",
       ".datatable .frame tr.coltypes .row_index {  background: var(--jp-border-color0);}\n",
       ".datatable th:nth-child(2) { padding-left: 12px; }\n",
       ".datatable .hellipsis {  color: var(--jp-cell-editor-border-color);}\n",
       ".datatable .vellipsis {  background: var(--jp-layout-color0);  color: var(--jp-cell-editor-border-color);}\n",
       ".datatable .na {  color: var(--jp-cell-editor-border-color);  font-size: 80%;}\n",
       ".datatable .sp {  opacity: 0.25;}\n",
       ".datatable .footer { font-size: 9px; }\n",
       ".datatable .frame_dimensions {  background: var(--jp-border-color3);  border-top: 1px solid var(--jp-border-color0);  color: var(--jp-ui-font-color3);  display: inline-block;  opacity: 0.6;  padding: 1px 10px 1px 5px;}\n",
       "</style>\n"
      ],
      "text/plain": [
       "<IPython.core.display.HTML object>"
      ]
     },
     "metadata": {},
     "output_type": "display_data"
    }
   ],
   "source": [
    "#Calling visualization modules\n",
    "import matplotlib.pyplot as plt\n",
    "\n",
    "#Calling numpy and pandas \n",
    "import pandas as pd\n",
    "import numpy as np\n",
    "\n",
    "#Calling matrix for model evaluation\n",
    "from sklearn.metrics import confusion_matrix, roc_curve, accuracy_score,classification_report\n",
    "\n",
    "#Callling traing split library\n",
    "from sklearn.model_selection import train_test_split\n",
    "\n",
    "#Importing ML algorithm libraries\n",
    "from sklearn.linear_model import LogisticRegression\n",
    "from sklearn.tree import DecisionTreeClassifier\n",
    "from sklearn.ensemble import RandomForestClassifier\n",
    "from sklearn.neighbors import KNeighborsClassifier\n",
    "from sklearn.ensemble import GradientBoostingClassifier\n",
    "\n",
    "#Calling SMOTE library\n",
    "import imblearn\n",
    "#Importing hyperparameter\n",
    "import xgboost as xgb\n",
    "import lightgbm as lgb \n",
    "#Hyperparameter tuning Cross validation ML library\n",
    "from sklearn.linear_model import LogisticRegressionCV\n",
    "from sklearn.model_selection import GridSearchCV, RandomizedSearchCV\n",
    "\n",
    "#importing scikit-optimization library\n",
    "from skopt import BayesSearchCV"
   ]
  },
  {
   "cell_type": "markdown",
   "id": "f2b158d0",
   "metadata": {
    "id": "U8EEorcA5k6W",
    "papermill": {
     "duration": 0.013886,
     "end_time": "2022-11-25T16:12:14.909839",
     "exception": false,
     "start_time": "2022-11-25T16:12:14.895953",
     "status": "completed"
    },
    "tags": []
   },
   "source": [
    "<a id=\"3\"></a>\n",
    "### <div style=\"text-align: left; background-color: #BB4ED8 ; font-family: Trebuchet MS; color: white; padding: 15px; line-height:1;border-radius:1px; margin-bottom: 0em; text-align: center; font-size: 25px\">LOADING DATASETS</div>"
   ]
  },
  {
   "cell_type": "code",
   "execution_count": 2,
   "id": "00cd0a1a",
   "metadata": {
    "execution": {
     "iopub.execute_input": "2022-11-25T16:12:14.940649Z",
     "iopub.status.busy": "2022-11-25T16:12:14.940185Z",
     "iopub.status.idle": "2022-11-25T16:12:15.170173Z",
     "shell.execute_reply": "2022-11-25T16:12:15.169548Z"
    },
    "id": "sg2sHo9e5oxB",
    "outputId": "3f14ec42-4d44-44cd-cff5-9789c474d5d5",
    "papermill": {
     "duration": 0.248136,
     "end_time": "2022-11-25T16:12:15.172457",
     "exception": false,
     "start_time": "2022-11-25T16:12:14.924321",
     "status": "completed"
    },
    "tags": []
   },
   "outputs": [],
   "source": [
    "data=pd.read_csv(\"/kaggle/input/fraud-detection-bank-dataset-20k-records-binary/fraud_detection_bank_dataset.csv\")"
   ]
  },
  {
   "cell_type": "markdown",
   "id": "23c878d6",
   "metadata": {
    "id": "poETs1xN6sco",
    "papermill": {
     "duration": 0.01395,
     "end_time": "2022-11-25T16:12:15.200633",
     "exception": false,
     "start_time": "2022-11-25T16:12:15.186683",
     "status": "completed"
    },
    "tags": []
   },
   "source": [
    "<a id=\"4\"></a>\n",
    "### <div style=\"text-align: left; background-color: #BB4ED8 ; font-family: Trebuchet MS; color: white; padding: 15px; line-height:1;border-radius:1px; margin-bottom: 0em; text-align: center; font-size: 20px\">DATA EXPLORATION </div>"
   ]
  },
  {
   "cell_type": "code",
   "execution_count": 3,
   "id": "841ca552",
   "metadata": {
    "execution": {
     "iopub.execute_input": "2022-11-25T16:12:15.230521Z",
     "iopub.status.busy": "2022-11-25T16:12:15.230168Z",
     "iopub.status.idle": "2022-11-25T16:12:15.251952Z",
     "shell.execute_reply": "2022-11-25T16:12:15.251385Z"
    },
    "id": "J86bf4pT6r2x",
    "papermill": {
     "duration": 0.038792,
     "end_time": "2022-11-25T16:12:15.253607",
     "exception": false,
     "start_time": "2022-11-25T16:12:15.214815",
     "status": "completed"
    },
    "tags": []
   },
   "outputs": [
    {
     "data": {
      "text/html": [
       "<div>\n",
       "<style scoped>\n",
       "    .dataframe tbody tr th:only-of-type {\n",
       "        vertical-align: middle;\n",
       "    }\n",
       "\n",
       "    .dataframe tbody tr th {\n",
       "        vertical-align: top;\n",
       "    }\n",
       "\n",
       "    .dataframe thead th {\n",
       "        text-align: right;\n",
       "    }\n",
       "</style>\n",
       "<table border=\"1\" class=\"dataframe\">\n",
       "  <thead>\n",
       "    <tr style=\"text-align: right;\">\n",
       "      <th></th>\n",
       "      <th>Unnamed: 0</th>\n",
       "      <th>col_0</th>\n",
       "      <th>col_1</th>\n",
       "      <th>col_2</th>\n",
       "      <th>col_3</th>\n",
       "      <th>col_4</th>\n",
       "      <th>col_5</th>\n",
       "      <th>col_6</th>\n",
       "      <th>col_7</th>\n",
       "      <th>col_8</th>\n",
       "      <th>...</th>\n",
       "      <th>col_103</th>\n",
       "      <th>col_104</th>\n",
       "      <th>col_105</th>\n",
       "      <th>col_106</th>\n",
       "      <th>col_107</th>\n",
       "      <th>col_108</th>\n",
       "      <th>col_109</th>\n",
       "      <th>col_110</th>\n",
       "      <th>col_111</th>\n",
       "      <th>targets</th>\n",
       "    </tr>\n",
       "  </thead>\n",
       "  <tbody>\n",
       "    <tr>\n",
       "      <th>0</th>\n",
       "      <td>0</td>\n",
       "      <td>9</td>\n",
       "      <td>1354</td>\n",
       "      <td>0</td>\n",
       "      <td>18</td>\n",
       "      <td>0</td>\n",
       "      <td>1</td>\n",
       "      <td>7</td>\n",
       "      <td>9</td>\n",
       "      <td>0</td>\n",
       "      <td>...</td>\n",
       "      <td>0</td>\n",
       "      <td>0</td>\n",
       "      <td>0</td>\n",
       "      <td>1</td>\n",
       "      <td>1</td>\n",
       "      <td>0</td>\n",
       "      <td>0</td>\n",
       "      <td>0</td>\n",
       "      <td>49</td>\n",
       "      <td>1</td>\n",
       "    </tr>\n",
       "    <tr>\n",
       "      <th>1</th>\n",
       "      <td>1</td>\n",
       "      <td>0</td>\n",
       "      <td>239</td>\n",
       "      <td>0</td>\n",
       "      <td>1</td>\n",
       "      <td>0</td>\n",
       "      <td>1</td>\n",
       "      <td>0</td>\n",
       "      <td>0</td>\n",
       "      <td>0</td>\n",
       "      <td>...</td>\n",
       "      <td>0</td>\n",
       "      <td>1</td>\n",
       "      <td>0</td>\n",
       "      <td>0</td>\n",
       "      <td>0</td>\n",
       "      <td>0</td>\n",
       "      <td>0</td>\n",
       "      <td>0</td>\n",
       "      <td>55</td>\n",
       "      <td>1</td>\n",
       "    </tr>\n",
       "    <tr>\n",
       "      <th>2</th>\n",
       "      <td>2</td>\n",
       "      <td>0</td>\n",
       "      <td>260</td>\n",
       "      <td>0</td>\n",
       "      <td>4</td>\n",
       "      <td>0</td>\n",
       "      <td>3</td>\n",
       "      <td>6</td>\n",
       "      <td>0</td>\n",
       "      <td>0</td>\n",
       "      <td>...</td>\n",
       "      <td>0</td>\n",
       "      <td>0</td>\n",
       "      <td>0</td>\n",
       "      <td>1</td>\n",
       "      <td>1</td>\n",
       "      <td>0</td>\n",
       "      <td>0</td>\n",
       "      <td>0</td>\n",
       "      <td>56</td>\n",
       "      <td>1</td>\n",
       "    </tr>\n",
       "    <tr>\n",
       "      <th>3</th>\n",
       "      <td>3</td>\n",
       "      <td>17</td>\n",
       "      <td>682</td>\n",
       "      <td>0</td>\n",
       "      <td>1</td>\n",
       "      <td>0</td>\n",
       "      <td>0</td>\n",
       "      <td>8</td>\n",
       "      <td>17</td>\n",
       "      <td>0</td>\n",
       "      <td>...</td>\n",
       "      <td>0</td>\n",
       "      <td>1</td>\n",
       "      <td>0</td>\n",
       "      <td>1</td>\n",
       "      <td>1</td>\n",
       "      <td>0</td>\n",
       "      <td>0</td>\n",
       "      <td>0</td>\n",
       "      <td>65</td>\n",
       "      <td>1</td>\n",
       "    </tr>\n",
       "    <tr>\n",
       "      <th>4</th>\n",
       "      <td>4</td>\n",
       "      <td>1</td>\n",
       "      <td>540</td>\n",
       "      <td>0</td>\n",
       "      <td>2</td>\n",
       "      <td>0</td>\n",
       "      <td>1</td>\n",
       "      <td>7</td>\n",
       "      <td>1</td>\n",
       "      <td>0</td>\n",
       "      <td>...</td>\n",
       "      <td>0</td>\n",
       "      <td>0</td>\n",
       "      <td>0</td>\n",
       "      <td>1</td>\n",
       "      <td>1</td>\n",
       "      <td>0</td>\n",
       "      <td>0</td>\n",
       "      <td>0</td>\n",
       "      <td>175</td>\n",
       "      <td>1</td>\n",
       "    </tr>\n",
       "  </tbody>\n",
       "</table>\n",
       "<p>5 rows × 114 columns</p>\n",
       "</div>"
      ],
      "text/plain": [
       "   Unnamed: 0  col_0  col_1  col_2  col_3  col_4  col_5  col_6  col_7  col_8  \\\n",
       "0           0      9   1354      0     18      0      1      7      9      0   \n",
       "1           1      0    239      0      1      0      1      0      0      0   \n",
       "2           2      0    260      0      4      0      3      6      0      0   \n",
       "3           3     17    682      0      1      0      0      8     17      0   \n",
       "4           4      1    540      0      2      0      1      7      1      0   \n",
       "\n",
       "   ...  col_103  col_104  col_105  col_106  col_107  col_108  col_109  \\\n",
       "0  ...        0        0        0        1        1        0        0   \n",
       "1  ...        0        1        0        0        0        0        0   \n",
       "2  ...        0        0        0        1        1        0        0   \n",
       "3  ...        0        1        0        1        1        0        0   \n",
       "4  ...        0        0        0        1        1        0        0   \n",
       "\n",
       "   col_110  col_111  targets  \n",
       "0        0       49        1  \n",
       "1        0       55        1  \n",
       "2        0       56        1  \n",
       "3        0       65        1  \n",
       "4        0      175        1  \n",
       "\n",
       "[5 rows x 114 columns]"
      ]
     },
     "execution_count": 3,
     "metadata": {},
     "output_type": "execute_result"
    }
   ],
   "source": [
    "#checking the data\n",
    "data.head()"
   ]
  },
  {
   "cell_type": "code",
   "execution_count": 4,
   "id": "1dcbbe02",
   "metadata": {
    "execution": {
     "iopub.execute_input": "2022-11-25T16:12:15.285239Z",
     "iopub.status.busy": "2022-11-25T16:12:15.284279Z",
     "iopub.status.idle": "2022-11-25T16:12:15.290388Z",
     "shell.execute_reply": "2022-11-25T16:12:15.289404Z"
    },
    "id": "rzNfuQiX7dER",
    "outputId": "3f05234b-38b9-46ca-a0ad-abe7cf6d459a",
    "papermill": {
     "duration": 0.023783,
     "end_time": "2022-11-25T16:12:15.292275",
     "exception": false,
     "start_time": "2022-11-25T16:12:15.268492",
     "status": "completed"
    },
    "tags": []
   },
   "outputs": [
    {
     "data": {
      "text/plain": [
       "(20468, 114)"
      ]
     },
     "execution_count": 4,
     "metadata": {},
     "output_type": "execute_result"
    }
   ],
   "source": [
    "#checking the data shape\n",
    "data.shape"
   ]
  },
  {
   "cell_type": "code",
   "execution_count": 5,
   "id": "ffdecd6e",
   "metadata": {
    "execution": {
     "iopub.execute_input": "2022-11-25T16:12:15.323193Z",
     "iopub.status.busy": "2022-11-25T16:12:15.322841Z",
     "iopub.status.idle": "2022-11-25T16:12:15.341169Z",
     "shell.execute_reply": "2022-11-25T16:12:15.340410Z"
    },
    "id": "roeNcVyS61xB",
    "papermill": {
     "duration": 0.036174,
     "end_time": "2022-11-25T16:12:15.343213",
     "exception": false,
     "start_time": "2022-11-25T16:12:15.307039",
     "status": "completed"
    },
    "tags": []
   },
   "outputs": [],
   "source": [
    "#seperating the fraud and no fraud data\n",
    "no_fraud=data[(data[\"targets\"]==0)]\n",
    "fraud=data[data[\"targets\"]==1]\n"
   ]
  },
  {
   "cell_type": "code",
   "execution_count": 6,
   "id": "55bcb9ab",
   "metadata": {
    "execution": {
     "iopub.execute_input": "2022-11-25T16:12:15.372969Z",
     "iopub.status.busy": "2022-11-25T16:12:15.372690Z",
     "iopub.status.idle": "2022-11-25T16:12:15.378551Z",
     "shell.execute_reply": "2022-11-25T16:12:15.377408Z"
    },
    "id": "H3bBR9cO7vIZ",
    "outputId": "8cb2eace-f0d2-45d5-892c-177a42b5661c",
    "papermill": {
     "duration": 0.022756,
     "end_time": "2022-11-25T16:12:15.380426",
     "exception": false,
     "start_time": "2022-11-25T16:12:15.357670",
     "status": "completed"
    },
    "tags": []
   },
   "outputs": [
    {
     "data": {
      "text/plain": [
       "(5438, 114)"
      ]
     },
     "execution_count": 6,
     "metadata": {},
     "output_type": "execute_result"
    }
   ],
   "source": [
    "#checking the shape fraud data\n",
    "fraud.shape"
   ]
  },
  {
   "cell_type": "code",
   "execution_count": 7,
   "id": "8b03204c",
   "metadata": {
    "execution": {
     "iopub.execute_input": "2022-11-25T16:12:15.411790Z",
     "iopub.status.busy": "2022-11-25T16:12:15.411213Z",
     "iopub.status.idle": "2022-11-25T16:12:15.419910Z",
     "shell.execute_reply": "2022-11-25T16:12:15.418669Z"
    },
    "id": "ISvnXCWR73fx",
    "outputId": "a2a6b454-f61f-4385-d4b6-f64f6a055b1e",
    "papermill": {
     "duration": 0.027352,
     "end_time": "2022-11-25T16:12:15.422051",
     "exception": false,
     "start_time": "2022-11-25T16:12:15.394699",
     "status": "completed"
    },
    "tags": []
   },
   "outputs": [
    {
     "data": {
      "text/plain": [
       "(15030, 114)"
      ]
     },
     "execution_count": 7,
     "metadata": {},
     "output_type": "execute_result"
    }
   ],
   "source": [
    "#checking the no-fraud data shape\n",
    "no_fraud.shape"
   ]
  },
  {
   "cell_type": "code",
   "execution_count": 8,
   "id": "d157a7ec",
   "metadata": {
    "execution": {
     "iopub.execute_input": "2022-11-25T16:12:15.457093Z",
     "iopub.status.busy": "2022-11-25T16:12:15.455402Z",
     "iopub.status.idle": "2022-11-25T16:12:15.466927Z",
     "shell.execute_reply": "2022-11-25T16:12:15.466036Z"
    },
    "id": "aZI6OelI78Dx",
    "outputId": "465d216c-fc5a-4aec-a8a9-b6d739fc95db",
    "papermill": {
     "duration": 0.031466,
     "end_time": "2022-11-25T16:12:15.468881",
     "exception": false,
     "start_time": "2022-11-25T16:12:15.437415",
     "status": "completed"
    },
    "tags": []
   },
   "outputs": [
    {
     "data": {
      "text/plain": [
       "0"
      ]
     },
     "execution_count": 8,
     "metadata": {},
     "output_type": "execute_result"
    }
   ],
   "source": [
    "#verifying data null\n",
    "data.isnull().sum().sum()"
   ]
  },
  {
   "cell_type": "code",
   "execution_count": 9,
   "id": "02f7e39d",
   "metadata": {
    "execution": {
     "iopub.execute_input": "2022-11-25T16:12:15.504065Z",
     "iopub.status.busy": "2022-11-25T16:12:15.503519Z",
     "iopub.status.idle": "2022-11-25T16:12:15.512781Z",
     "shell.execute_reply": "2022-11-25T16:12:15.511627Z"
    },
    "id": "1L8OHgbF8VtK",
    "outputId": "0e2f1ddd-785f-4de3-fd25-0d5b3a74bb04",
    "papermill": {
     "duration": 0.028475,
     "end_time": "2022-11-25T16:12:15.514520",
     "exception": false,
     "start_time": "2022-11-25T16:12:15.486045",
     "status": "completed"
    },
    "tags": []
   },
   "outputs": [
    {
     "data": {
      "text/plain": [
       "0"
      ]
     },
     "execution_count": 9,
     "metadata": {},
     "output_type": "execute_result"
    }
   ],
   "source": [
    "#Verifying the NAN\n",
    "data.isna().sum().sum()"
   ]
  },
  {
   "cell_type": "code",
   "execution_count": 10,
   "id": "0aaa9c1a",
   "metadata": {
    "execution": {
     "iopub.execute_input": "2022-11-25T16:12:15.547028Z",
     "iopub.status.busy": "2022-11-25T16:12:15.546135Z",
     "iopub.status.idle": "2022-11-25T16:12:15.579270Z",
     "shell.execute_reply": "2022-11-25T16:12:15.578710Z"
    },
    "id": "K5sxGVGd9J8T",
    "outputId": "2cc17975-3767-4bd9-a88c-dc05814aa3e7",
    "papermill": {
     "duration": 0.051749,
     "end_time": "2022-11-25T16:12:15.581478",
     "exception": false,
     "start_time": "2022-11-25T16:12:15.529729",
     "status": "completed"
    },
    "tags": []
   },
   "outputs": [
    {
     "data": {
      "text/plain": [
       "43797"
      ]
     },
     "execution_count": 10,
     "metadata": {},
     "output_type": "execute_result"
    }
   ],
   "source": [
    "#Checking the unique\n",
    "data.nunique().sum()"
   ]
  },
  {
   "cell_type": "code",
   "execution_count": 11,
   "id": "4f905875",
   "metadata": {
    "execution": {
     "iopub.execute_input": "2022-11-25T16:12:15.614415Z",
     "iopub.status.busy": "2022-11-25T16:12:15.613951Z",
     "iopub.status.idle": "2022-11-25T16:12:15.631704Z",
     "shell.execute_reply": "2022-11-25T16:12:15.630591Z"
    },
    "id": "od9AuQ-e9WqQ",
    "outputId": "025ea6b2-9aaf-432f-cfc1-bc9e2acd0974",
    "papermill": {
     "duration": 0.036392,
     "end_time": "2022-11-25T16:12:15.633661",
     "exception": false,
     "start_time": "2022-11-25T16:12:15.597269",
     "status": "completed"
    },
    "tags": []
   },
   "outputs": [
    {
     "name": "stdout",
     "output_type": "stream",
     "text": [
      "<class 'pandas.core.frame.DataFrame'>\n",
      "RangeIndex: 20468 entries, 0 to 20467\n",
      "Columns: 114 entries, Unnamed: 0 to targets\n",
      "dtypes: float64(1), int64(113)\n",
      "memory usage: 17.8 MB\n"
     ]
    }
   ],
   "source": [
    "#checking info\n",
    "data.info()"
   ]
  },
  {
   "cell_type": "code",
   "execution_count": 12,
   "id": "47e6fd76",
   "metadata": {
    "execution": {
     "iopub.execute_input": "2022-11-25T16:12:15.665651Z",
     "iopub.status.busy": "2022-11-25T16:12:15.665278Z",
     "iopub.status.idle": "2022-11-25T16:12:15.674033Z",
     "shell.execute_reply": "2022-11-25T16:12:15.672435Z"
    },
    "id": "gIFxdj7Z-6W_",
    "papermill": {
     "duration": 0.027439,
     "end_time": "2022-11-25T16:12:15.676373",
     "exception": false,
     "start_time": "2022-11-25T16:12:15.648934",
     "status": "completed"
    },
    "tags": []
   },
   "outputs": [],
   "source": [
    "#dataset for ML algo\n",
    "df=data.copy()"
   ]
  },
  {
   "cell_type": "code",
   "execution_count": 13,
   "id": "58312a04",
   "metadata": {
    "execution": {
     "iopub.execute_input": "2022-11-25T16:12:15.708929Z",
     "iopub.status.busy": "2022-11-25T16:12:15.708600Z",
     "iopub.status.idle": "2022-11-25T16:12:15.718973Z",
     "shell.execute_reply": "2022-11-25T16:12:15.717601Z"
    },
    "id": "wjOxrxLq_CYa",
    "outputId": "bf61793f-f6d9-46ac-c648-4fc764962237",
    "papermill": {
     "duration": 0.029247,
     "end_time": "2022-11-25T16:12:15.721260",
     "exception": false,
     "start_time": "2022-11-25T16:12:15.692013",
     "status": "completed"
    },
    "tags": []
   },
   "outputs": [],
   "source": [
    "X=df.iloc[:,:-1]\n",
    "y=df.iloc[:,-1:]\n"
   ]
  },
  {
   "cell_type": "code",
   "execution_count": 14,
   "id": "15d93f94",
   "metadata": {
    "execution": {
     "iopub.execute_input": "2022-11-25T16:12:15.758395Z",
     "iopub.status.busy": "2022-11-25T16:12:15.758044Z",
     "iopub.status.idle": "2022-11-25T16:12:15.764372Z",
     "shell.execute_reply": "2022-11-25T16:12:15.763131Z"
    },
    "id": "oobmE60mVNMv",
    "papermill": {
     "duration": 0.027921,
     "end_time": "2022-11-25T16:12:15.767022",
     "exception": false,
     "start_time": "2022-11-25T16:12:15.739101",
     "status": "completed"
    },
    "tags": []
   },
   "outputs": [],
   "source": [
    "def plot_roc_curve(y_test,prob):\n",
    "  #Takes actual and predicted probablities as a input and plot receiver operating chracteritics \n",
    "\n",
    "  fpr, tpr, threshold=roc_curve(y_test, prob)\n",
    "  plt.title(\"ROC curve plot\")\n",
    "  plt.plot(fpr,tpr, 'b', label=\"curve measure\")\n",
    "  plt.xlabel(\"False Positive Rate\")\n",
    "  plt.ylabel(\"True Positive Rate\")\n",
    "  plt.legend()\n",
    "  plt.show()\n"
   ]
  },
  {
   "cell_type": "markdown",
   "id": "ecea0eac",
   "metadata": {
    "id": "Ov2_dZpgbalu",
    "papermill": {
     "duration": 0.017607,
     "end_time": "2022-11-25T16:12:15.803225",
     "exception": false,
     "start_time": "2022-11-25T16:12:15.785618",
     "status": "completed"
    },
    "tags": []
   },
   "source": [
    "<h2 style=\"color:#0D8D39 ;font-size: 19px \"><b> Implemented model performance score function"
   ]
  },
  {
   "cell_type": "code",
   "execution_count": 15,
   "id": "36ccc86a",
   "metadata": {
    "execution": {
     "iopub.execute_input": "2022-11-25T16:12:15.840527Z",
     "iopub.status.busy": "2022-11-25T16:12:15.840194Z",
     "iopub.status.idle": "2022-11-25T16:12:15.845623Z",
     "shell.execute_reply": "2022-11-25T16:12:15.843816Z"
    },
    "id": "WaUMXVSOakbi",
    "papermill": {
     "duration": 0.027406,
     "end_time": "2022-11-25T16:12:15.848418",
     "exception": false,
     "start_time": "2022-11-25T16:12:15.821012",
     "status": "completed"
    },
    "tags": []
   },
   "outputs": [],
   "source": [
    "def model_evaluation(test, pred):\n",
    "  print(\"model accuracy: \\n\", accuracy_score(test, pred))\n",
    "  print(\"Confusion metrix: \\n\", confusion_matrix(test, pred))\n",
    "  print(\"classification report: \\n\", classification_report(test,pred))"
   ]
  },
  {
   "cell_type": "markdown",
   "id": "f5a50b6a",
   "metadata": {
    "id": "sjYH_TpITUCN",
    "papermill": {
     "duration": 0.015571,
     "end_time": "2022-11-25T16:12:15.879818",
     "exception": false,
     "start_time": "2022-11-25T16:12:15.864247",
     "status": "completed"
    },
    "tags": []
   },
   "source": [
    "<h2 style=\"color:#0D8D39 ;font-size: 19px \"><b>With out sampling of imblance data"
   ]
  },
  {
   "cell_type": "code",
   "execution_count": 16,
   "id": "299d7ceb",
   "metadata": {
    "execution": {
     "iopub.execute_input": "2022-11-25T16:12:15.913200Z",
     "iopub.status.busy": "2022-11-25T16:12:15.912922Z",
     "iopub.status.idle": "2022-11-25T16:12:15.937863Z",
     "shell.execute_reply": "2022-11-25T16:12:15.936044Z"
    },
    "id": "P9Lv0GcUTFxJ",
    "papermill": {
     "duration": 0.044541,
     "end_time": "2022-11-25T16:12:15.940128",
     "exception": false,
     "start_time": "2022-11-25T16:12:15.895587",
     "status": "completed"
    },
    "tags": []
   },
   "outputs": [],
   "source": [
    "#Splitting train and test data\n",
    "X_train,X_test,y_train,y_test=train_test_split(X,y)"
   ]
  },
  {
   "cell_type": "code",
   "execution_count": 17,
   "id": "ebaf7ebc",
   "metadata": {
    "execution": {
     "iopub.execute_input": "2022-11-25T16:12:15.977334Z",
     "iopub.status.busy": "2022-11-25T16:12:15.976271Z",
     "iopub.status.idle": "2022-11-25T16:12:17.519389Z",
     "shell.execute_reply": "2022-11-25T16:12:17.518682Z"
    },
    "id": "MDGGZcZhTnW1",
    "outputId": "2a888a90-5fdf-4be7-d98a-b18695b3dd67",
    "papermill": {
     "duration": 1.564833,
     "end_time": "2022-11-25T16:12:17.521453",
     "exception": false,
     "start_time": "2022-11-25T16:12:15.956620",
     "status": "completed"
    },
    "tags": []
   },
   "outputs": [],
   "source": [
    "#Initializing KNeighbors object\n",
    "kns=KNeighborsClassifier(n_neighbors=20)\n",
    "\n",
    "#Training the train data\n",
    "kns.fit(X_train,np.ravel(y_train))\n",
    "#Getting prediction value\n",
    "pred=kns.predict(X_test)\n"
   ]
  },
  {
   "cell_type": "code",
   "execution_count": 18,
   "id": "3a1dbce5",
   "metadata": {
    "execution": {
     "iopub.execute_input": "2022-11-25T16:12:17.556838Z",
     "iopub.status.busy": "2022-11-25T16:12:17.556144Z",
     "iopub.status.idle": "2022-11-25T16:12:17.574974Z",
     "shell.execute_reply": "2022-11-25T16:12:17.573550Z"
    },
    "id": "d_FtMMe_cJJz",
    "outputId": "a69e1d56-f2dd-4c45-bfb7-0b7783e2e664",
    "papermill": {
     "duration": 0.038924,
     "end_time": "2022-11-25T16:12:17.576893",
     "exception": false,
     "start_time": "2022-11-25T16:12:17.537969",
     "status": "completed"
    },
    "tags": []
   },
   "outputs": [
    {
     "name": "stdout",
     "output_type": "stream",
     "text": [
      "model accuracy: \n",
      " 0.9894469415673246\n",
      "Confusion metrix: \n",
      " [[3798    2]\n",
      " [  52 1265]]\n",
      "classification report: \n",
      "               precision    recall  f1-score   support\n",
      "\n",
      "           0       0.99      1.00      0.99      3800\n",
      "           1       1.00      0.96      0.98      1317\n",
      "\n",
      "    accuracy                           0.99      5117\n",
      "   macro avg       0.99      0.98      0.99      5117\n",
      "weighted avg       0.99      0.99      0.99      5117\n",
      "\n"
     ]
    }
   ],
   "source": [
    "#Calling model evaluation function\n",
    "model_evaluation(y_test,pred)"
   ]
  },
  {
   "cell_type": "code",
   "execution_count": 19,
   "id": "d7c11a56",
   "metadata": {
    "execution": {
     "iopub.execute_input": "2022-11-25T16:12:17.610616Z",
     "iopub.status.busy": "2022-11-25T16:12:17.609910Z",
     "iopub.status.idle": "2022-11-25T16:12:18.982826Z",
     "shell.execute_reply": "2022-11-25T16:12:18.981790Z"
    },
    "id": "MS25EGs3UYs6",
    "papermill": {
     "duration": 1.39217,
     "end_time": "2022-11-25T16:12:18.985263",
     "exception": false,
     "start_time": "2022-11-25T16:12:17.593093",
     "status": "completed"
    },
    "tags": []
   },
   "outputs": [],
   "source": [
    "#Calculating the probablity \n",
    "kns_prob=kns.predict_proba(X_test)[:,1]"
   ]
  },
  {
   "cell_type": "code",
   "execution_count": 20,
   "id": "b3b2a6a1",
   "metadata": {
    "execution": {
     "iopub.execute_input": "2022-11-25T16:12:19.018483Z",
     "iopub.status.busy": "2022-11-25T16:12:19.018120Z",
     "iopub.status.idle": "2022-11-25T16:12:19.169326Z",
     "shell.execute_reply": "2022-11-25T16:12:19.168274Z"
    },
    "id": "wzqBgf4TU-2_",
    "outputId": "4cfccdd8-f159-417b-e188-68d524f979bb",
    "papermill": {
     "duration": 0.169996,
     "end_time": "2022-11-25T16:12:19.171388",
     "exception": false,
     "start_time": "2022-11-25T16:12:19.001392",
     "status": "completed"
    },
    "tags": []
   },
   "outputs": [
    {
     "data": {
      "image/png": "[encoded data removed]",
      "text/plain": [
       "<Figure size 432x288 with 1 Axes>"
      ]
     },
     "metadata": {
      "needs_background": "light"
     },
     "output_type": "display_data"
    }
   ],
   "source": [
    "#Visualizing the roc\n",
    "plot_roc_curve(y_test,kns_prob)"
   ]
  },
  {
   "cell_type": "markdown",
   "id": "071949cf",
   "metadata": {
    "id": "9XK7HDD4Z59Z",
    "papermill": {
     "duration": 0.015622,
     "end_time": "2022-11-25T16:12:19.203628",
     "exception": false,
     "start_time": "2022-11-25T16:12:19.188006",
     "status": "completed"
    },
    "tags": []
   },
   "source": [
    "<h2 style=\"color:#0D8D39 ;font-size: 19px \"><b>Applying SMOTE over sampling "
   ]
  },
  {
   "cell_type": "code",
   "execution_count": 21,
   "id": "d4c01b98",
   "metadata": {
    "execution": {
     "iopub.execute_input": "2022-11-25T16:12:19.239609Z",
     "iopub.status.busy": "2022-11-25T16:12:19.239120Z",
     "iopub.status.idle": "2022-11-25T16:12:19.243114Z",
     "shell.execute_reply": "2022-11-25T16:12:19.242524Z"
    },
    "id": "LOY6gYDe_9JY",
    "papermill": {
     "duration": 0.024975,
     "end_time": "2022-11-25T16:12:19.245008",
     "exception": false,
     "start_time": "2022-11-25T16:12:19.220033",
     "status": "completed"
    },
    "tags": []
   },
   "outputs": [],
   "source": [
    "#Creating over_sampling object\n",
    "over_smpl=imblearn.over_sampling.SMOTE()"
   ]
  },
  {
   "cell_type": "code",
   "execution_count": 22,
   "id": "e403f8da",
   "metadata": {
    "execution": {
     "iopub.execute_input": "2022-11-25T16:12:19.278500Z",
     "iopub.status.busy": "2022-11-25T16:12:19.277084Z",
     "iopub.status.idle": "2022-11-25T16:12:19.888822Z",
     "shell.execute_reply": "2022-11-25T16:12:19.887752Z"
    },
    "id": "lTRu3RovA2Hc",
    "papermill": {
     "duration": 0.630528,
     "end_time": "2022-11-25T16:12:19.891058",
     "exception": false,
     "start_time": "2022-11-25T16:12:19.260530",
     "status": "completed"
    },
    "tags": []
   },
   "outputs": [],
   "source": [
    "#Sampling the imblance data\n",
    "X_res, y_res=over_smpl.fit_resample(X,y)"
   ]
  },
  {
   "cell_type": "code",
   "execution_count": 23,
   "id": "9a4dbefc",
   "metadata": {
    "execution": {
     "iopub.execute_input": "2022-11-25T16:12:19.923837Z",
     "iopub.status.busy": "2022-11-25T16:12:19.923541Z",
     "iopub.status.idle": "2022-11-25T16:12:19.958911Z",
     "shell.execute_reply": "2022-11-25T16:12:19.957778Z"
    },
    "id": "or8pTMmHENLh",
    "papermill": {
     "duration": 0.05413,
     "end_time": "2022-11-25T16:12:19.961022",
     "exception": false,
     "start_time": "2022-11-25T16:12:19.906892",
     "status": "completed"
    },
    "tags": []
   },
   "outputs": [],
   "source": [
    "#splitting the train and test data\n",
    "X_train,X_test,y_train,y_test=train_test_split(X_res, y_res)"
   ]
  },
  {
   "cell_type": "code",
   "execution_count": 24,
   "id": "6575c868",
   "metadata": {
    "execution": {
     "iopub.execute_input": "2022-11-25T16:12:19.993416Z",
     "iopub.status.busy": "2022-11-25T16:12:19.993083Z",
     "iopub.status.idle": "2022-11-25T16:12:19.997784Z",
     "shell.execute_reply": "2022-11-25T16:12:19.996373Z"
    },
    "id": "wSzngraIEWzY",
    "papermill": {
     "duration": 0.024096,
     "end_time": "2022-11-25T16:12:20.000583",
     "exception": false,
     "start_time": "2022-11-25T16:12:19.976487",
     "status": "completed"
    },
    "tags": []
   },
   "outputs": [],
   "source": [
    "#Initializing object\n",
    "kn=KNeighborsClassifier(n_neighbors=10)"
   ]
  },
  {
   "cell_type": "code",
   "execution_count": 25,
   "id": "e27aa017",
   "metadata": {
    "execution": {
     "iopub.execute_input": "2022-11-25T16:12:20.032922Z",
     "iopub.status.busy": "2022-11-25T16:12:20.031949Z",
     "iopub.status.idle": "2022-11-25T16:12:20.049938Z",
     "shell.execute_reply": "2022-11-25T16:12:20.048279Z"
    },
    "id": "L4K4PGyZEfUs",
    "outputId": "3124219f-6005-4796-e673-6237629f536a",
    "papermill": {
     "duration": 0.036344,
     "end_time": "2022-11-25T16:12:20.052239",
     "exception": false,
     "start_time": "2022-11-25T16:12:20.015895",
     "status": "completed"
    },
    "tags": []
   },
   "outputs": [
    {
     "data": {
      "text/plain": [
       "KNeighborsClassifier(n_neighbors=10)"
      ]
     },
     "execution_count": 25,
     "metadata": {},
     "output_type": "execute_result"
    }
   ],
   "source": [
    "#Training the model\n",
    "kn.fit(X_train,np.ravel(y_train))"
   ]
  },
  {
   "cell_type": "code",
   "execution_count": 26,
   "id": "6cab830e",
   "metadata": {
    "execution": {
     "iopub.execute_input": "2022-11-25T16:12:20.084395Z",
     "iopub.status.busy": "2022-11-25T16:12:20.084064Z",
     "iopub.status.idle": "2022-11-25T16:12:23.285755Z",
     "shell.execute_reply": "2022-11-25T16:12:23.284636Z"
    },
    "id": "jTMTNpMBE9oJ",
    "papermill": {
     "duration": 3.220382,
     "end_time": "2022-11-25T16:12:23.287982",
     "exception": false,
     "start_time": "2022-11-25T16:12:20.067600",
     "status": "completed"
    },
    "tags": []
   },
   "outputs": [],
   "source": [
    "#predicting the model\n",
    "y_pred=kn.predict(X_test)\n"
   ]
  },
  {
   "cell_type": "code",
   "execution_count": 27,
   "id": "0da48069",
   "metadata": {
    "execution": {
     "iopub.execute_input": "2022-11-25T16:12:23.321185Z",
     "iopub.status.busy": "2022-11-25T16:12:23.320887Z",
     "iopub.status.idle": "2022-11-25T16:12:23.343298Z",
     "shell.execute_reply": "2022-11-25T16:12:23.341820Z"
    },
    "id": "WukIJOBReURJ",
    "outputId": "f82ffd03-27ee-4bb3-9794-eded62ec77ae",
    "papermill": {
     "duration": 0.041305,
     "end_time": "2022-11-25T16:12:23.345314",
     "exception": false,
     "start_time": "2022-11-25T16:12:23.304009",
     "status": "completed"
    },
    "tags": []
   },
   "outputs": [
    {
     "name": "stdout",
     "output_type": "stream",
     "text": [
      "model accuracy: \n",
      " 0.9926813040585496\n",
      "Confusion metrix: \n",
      " [[3704   14]\n",
      " [  41 3756]]\n",
      "classification report: \n",
      "               precision    recall  f1-score   support\n",
      "\n",
      "           0       0.99      1.00      0.99      3718\n",
      "           1       1.00      0.99      0.99      3797\n",
      "\n",
      "    accuracy                           0.99      7515\n",
      "   macro avg       0.99      0.99      0.99      7515\n",
      "weighted avg       0.99      0.99      0.99      7515\n",
      "\n"
     ]
    }
   ],
   "source": [
    "#Calling model evaluation function\n",
    "model_evaluation(y_test,y_pred)"
   ]
  },
  {
   "cell_type": "markdown",
   "id": "a5a2c961",
   "metadata": {
    "papermill": {
     "duration": 0.015004,
     "end_time": "2022-11-25T16:12:23.375775",
     "exception": false,
     "start_time": "2022-11-25T16:12:23.360771",
     "status": "completed"
    },
    "tags": []
   },
   "source": [
    "After doing over sampling on imblance data, we got better performance to 99%"
   ]
  },
  {
   "cell_type": "code",
   "execution_count": 28,
   "id": "843ea08e",
   "metadata": {
    "execution": {
     "iopub.execute_input": "2022-11-25T16:12:23.408246Z",
     "iopub.status.busy": "2022-11-25T16:12:23.407891Z",
     "iopub.status.idle": "2022-11-25T16:12:26.436995Z",
     "shell.execute_reply": "2022-11-25T16:12:26.435554Z"
    },
    "id": "g3qpsPuyFpzK",
    "outputId": "dc10f408-5e96-4641-ef1d-0871fac09421",
    "papermill": {
     "duration": 3.048264,
     "end_time": "2022-11-25T16:12:26.439428",
     "exception": false,
     "start_time": "2022-11-25T16:12:23.391164",
     "status": "completed"
    },
    "tags": []
   },
   "outputs": [
    {
     "data": {
      "text/plain": [
       "array([0., 1., 1., ..., 0., 0., 0.])"
      ]
     },
     "execution_count": 28,
     "metadata": {},
     "output_type": "execute_result"
    }
   ],
   "source": [
    "#performance matrix roc\n",
    "y_predroc=kn.predict_proba(X_test)[:,1]\n",
    "y_predroc"
   ]
  },
  {
   "cell_type": "code",
   "execution_count": 29,
   "id": "894f87af",
   "metadata": {
    "execution": {
     "iopub.execute_input": "2022-11-25T16:12:26.472310Z",
     "iopub.status.busy": "2022-11-25T16:12:26.471991Z",
     "iopub.status.idle": "2022-11-25T16:12:26.605910Z",
     "shell.execute_reply": "2022-11-25T16:12:26.605171Z"
    },
    "id": "-UltofrmH4fk",
    "papermill": {
     "duration": 0.152511,
     "end_time": "2022-11-25T16:12:26.607747",
     "exception": false,
     "start_time": "2022-11-25T16:12:26.455236",
     "status": "completed"
    },
    "tags": []
   },
   "outputs": [
    {
     "data": {
      "image/png": "[encoded data removed]",
      "text/plain": [
       "<Figure size 432x288 with 1 Axes>"
      ]
     },
     "metadata": {
      "needs_background": "light"
     },
     "output_type": "display_data"
    }
   ],
   "source": [
    "#calling roc_curve plot\n",
    "plot_roc_curve(y_test,y_predroc)\n"
   ]
  },
  {
   "cell_type": "markdown",
   "id": "f3336fbc",
   "metadata": {
    "id": "y9n1lcK2fmzb",
    "papermill": {
     "duration": 0.015548,
     "end_time": "2022-11-25T16:12:26.640002",
     "exception": false,
     "start_time": "2022-11-25T16:12:26.624454",
     "status": "completed"
    },
    "tags": []
   },
   "source": [
    "<a id=\"4\"></a>\n",
    "### <div style=\"text-align: left; background-color: #BB4ED8 ; font-family: Trebuchet MS; color: white; padding: 15px; line-height:1;border-radius:1px; margin-bottom: 0em; text-align: center; font-size: 20px\">Implementing DecisionTree classifier </div>"
   ]
  },
  {
   "cell_type": "code",
   "execution_count": 30,
   "id": "77a1cc5b",
   "metadata": {
    "execution": {
     "iopub.execute_input": "2022-11-25T16:12:26.673304Z",
     "iopub.status.busy": "2022-11-25T16:12:26.672990Z",
     "iopub.status.idle": "2022-11-25T16:12:26.676934Z",
     "shell.execute_reply": "2022-11-25T16:12:26.675949Z"
    },
    "id": "fIDfdK3lft-N",
    "papermill": {
     "duration": 0.022644,
     "end_time": "2022-11-25T16:12:26.678744",
     "exception": false,
     "start_time": "2022-11-25T16:12:26.656100",
     "status": "completed"
    },
    "tags": []
   },
   "outputs": [],
   "source": [
    "#creating Decision tree object\n",
    "clf=DecisionTreeClassifier()"
   ]
  },
  {
   "cell_type": "code",
   "execution_count": 31,
   "id": "63df1e66",
   "metadata": {
    "execution": {
     "iopub.execute_input": "2022-11-25T16:12:26.711428Z",
     "iopub.status.busy": "2022-11-25T16:12:26.710908Z",
     "iopub.status.idle": "2022-11-25T16:12:26.762078Z",
     "shell.execute_reply": "2022-11-25T16:12:26.761290Z"
    },
    "id": "FaWnDKe-hMFy",
    "outputId": "cf739fff-896c-41aa-ef37-e57606c6aee9",
    "papermill": {
     "duration": 0.069462,
     "end_time": "2022-11-25T16:12:26.763711",
     "exception": false,
     "start_time": "2022-11-25T16:12:26.694249",
     "status": "completed"
    },
    "tags": []
   },
   "outputs": [
    {
     "data": {
      "text/plain": [
       "DecisionTreeClassifier()"
      ]
     },
     "execution_count": 31,
     "metadata": {},
     "output_type": "execute_result"
    }
   ],
   "source": [
    "#Training the model\n",
    "clf.fit(X_train,y_train)"
   ]
  },
  {
   "cell_type": "code",
   "execution_count": 32,
   "id": "f6d01722",
   "metadata": {
    "execution": {
     "iopub.execute_input": "2022-11-25T16:12:26.798177Z",
     "iopub.status.busy": "2022-11-25T16:12:26.797552Z",
     "iopub.status.idle": "2022-11-25T16:12:26.805828Z",
     "shell.execute_reply": "2022-11-25T16:12:26.805060Z"
    },
    "id": "YJJcHSPNhVWC",
    "papermill": {
     "duration": 0.028307,
     "end_time": "2022-11-25T16:12:26.807930",
     "exception": false,
     "start_time": "2022-11-25T16:12:26.779623",
     "status": "completed"
    },
    "tags": []
   },
   "outputs": [],
   "source": [
    "#Predict the model\n",
    "pred=clf.predict(X_test)"
   ]
  },
  {
   "cell_type": "code",
   "execution_count": 33,
   "id": "e9922b3f",
   "metadata": {
    "execution": {
     "iopub.execute_input": "2022-11-25T16:12:26.841563Z",
     "iopub.status.busy": "2022-11-25T16:12:26.841184Z",
     "iopub.status.idle": "2022-11-25T16:12:26.860319Z",
     "shell.execute_reply": "2022-11-25T16:12:26.858261Z"
    },
    "id": "yUMy8JKvhcgI",
    "outputId": "75ddc941-6978-4ce4-c5a1-80282445e4d7",
    "papermill": {
     "duration": 0.039007,
     "end_time": "2022-11-25T16:12:26.863000",
     "exception": false,
     "start_time": "2022-11-25T16:12:26.823993",
     "status": "completed"
    },
    "tags": []
   },
   "outputs": [
    {
     "name": "stdout",
     "output_type": "stream",
     "text": [
      "model accuracy: \n",
      " 1.0\n",
      "Confusion metrix: \n",
      " [[3718    0]\n",
      " [   0 3797]]\n",
      "classification report: \n",
      "               precision    recall  f1-score   support\n",
      "\n",
      "           0       1.00      1.00      1.00      3718\n",
      "           1       1.00      1.00      1.00      3797\n",
      "\n",
      "    accuracy                           1.00      7515\n",
      "   macro avg       1.00      1.00      1.00      7515\n",
      "weighted avg       1.00      1.00      1.00      7515\n",
      "\n"
     ]
    }
   ],
   "source": [
    "#model performance\n",
    "model_evaluation(y_test,pred)"
   ]
  },
  {
   "cell_type": "code",
   "execution_count": 34,
   "id": "b2e92bd1",
   "metadata": {
    "execution": {
     "iopub.execute_input": "2022-11-25T16:12:26.898488Z",
     "iopub.status.busy": "2022-11-25T16:12:26.897047Z",
     "iopub.status.idle": "2022-11-25T16:12:27.037741Z",
     "shell.execute_reply": "2022-11-25T16:12:27.036981Z"
    },
    "id": "NlhNWy1PhnYw",
    "outputId": "a79f4bea-85a7-457d-d61e-16fecf2f4326",
    "papermill": {
     "duration": 0.15961,
     "end_time": "2022-11-25T16:12:27.039286",
     "exception": false,
     "start_time": "2022-11-25T16:12:26.879676",
     "status": "completed"
    },
    "tags": []
   },
   "outputs": [
    {
     "data": {
      "image/png": "[encoded data removed]",
      "text/plain": [
       "<Figure size 432x288 with 1 Axes>"
      ]
     },
     "metadata": {
      "needs_background": "light"
     },
     "output_type": "display_data"
    }
   ],
   "source": [
    "#Roc curve for checking model performance\n",
    "plot_roc_curve(y_test, clf.predict_proba(X_test)[:,1])"
   ]
  },
  {
   "cell_type": "markdown",
   "id": "6a9fd2de",
   "metadata": {
    "id": "hyC_7NwejsZK",
    "papermill": {
     "duration": 0.015799,
     "end_time": "2022-11-25T16:12:27.071284",
     "exception": false,
     "start_time": "2022-11-25T16:12:27.055485",
     "status": "completed"
    },
    "tags": []
   },
   "source": [
    "<a id=\"4\"></a>\n",
    "### <div style=\"text-align: left; background-color: #BB4ED8 ; font-family: Trebuchet MS; color: white; padding: 15px; line-height:1;border-radius:1px; margin-bottom: 0em; text-align: center; font-size: 20px\">Applying RandomForestClassifier for fraud detection </div>"
   ]
  },
  {
   "cell_type": "code",
   "execution_count": 35,
   "id": "5cfceddb",
   "metadata": {
    "execution": {
     "iopub.execute_input": "2022-11-25T16:12:27.105241Z",
     "iopub.status.busy": "2022-11-25T16:12:27.103743Z",
     "iopub.status.idle": "2022-11-25T16:12:27.109099Z",
     "shell.execute_reply": "2022-11-25T16:12:27.108292Z"
    },
    "id": "qbXRIgfNjygq",
    "papermill": {
     "duration": 0.023875,
     "end_time": "2022-11-25T16:12:27.111074",
     "exception": false,
     "start_time": "2022-11-25T16:12:27.087199",
     "status": "completed"
    },
    "tags": []
   },
   "outputs": [],
   "source": [
    "#Creating RFC object\n",
    "rft=RandomForestClassifier(n_estimators=100)"
   ]
  },
  {
   "cell_type": "code",
   "execution_count": 36,
   "id": "353784af",
   "metadata": {
    "execution": {
     "iopub.execute_input": "2022-11-25T16:12:27.146578Z",
     "iopub.status.busy": "2022-11-25T16:12:27.146234Z",
     "iopub.status.idle": "2022-11-25T16:12:29.388838Z",
     "shell.execute_reply": "2022-11-25T16:12:29.387874Z"
    },
    "id": "xpjsS9hYoapA",
    "outputId": "43174236-12f9-4840-92a9-05527e26ea3a",
    "papermill": {
     "duration": 2.262856,
     "end_time": "2022-11-25T16:12:29.390838",
     "exception": false,
     "start_time": "2022-11-25T16:12:27.127982",
     "status": "completed"
    },
    "tags": []
   },
   "outputs": [
    {
     "data": {
      "text/plain": [
       "RandomForestClassifier()"
      ]
     },
     "execution_count": 36,
     "metadata": {},
     "output_type": "execute_result"
    }
   ],
   "source": [
    "#Training the model\n",
    "rft.fit(X_train, np.ravel(y_train))"
   ]
  },
  {
   "cell_type": "code",
   "execution_count": 37,
   "id": "053d2357",
   "metadata": {
    "execution": {
     "iopub.execute_input": "2022-11-25T16:12:29.425270Z",
     "iopub.status.busy": "2022-11-25T16:12:29.424950Z",
     "iopub.status.idle": "2022-11-25T16:12:29.620414Z",
     "shell.execute_reply": "2022-11-25T16:12:29.619337Z"
    },
    "id": "pA1Ltk8SogQJ",
    "papermill": {
     "duration": 0.215687,
     "end_time": "2022-11-25T16:12:29.622741",
     "exception": false,
     "start_time": "2022-11-25T16:12:29.407054",
     "status": "completed"
    },
    "tags": []
   },
   "outputs": [],
   "source": [
    "#predict the model\n",
    "y_pred=rft.predict(X_test)\n",
    "y_roc_pred=rft.predict_proba(X_test)[:,1]"
   ]
  },
  {
   "cell_type": "code",
   "execution_count": 38,
   "id": "abf85dce",
   "metadata": {
    "execution": {
     "iopub.execute_input": "2022-11-25T16:12:29.657020Z",
     "iopub.status.busy": "2022-11-25T16:12:29.656744Z",
     "iopub.status.idle": "2022-11-25T16:12:29.677983Z",
     "shell.execute_reply": "2022-11-25T16:12:29.676052Z"
    },
    "id": "1whmMlNTowlo",
    "outputId": "579acd48-eeac-4807-9272-ca99dc4f5b50",
    "papermill": {
     "duration": 0.041183,
     "end_time": "2022-11-25T16:12:29.680385",
     "exception": false,
     "start_time": "2022-11-25T16:12:29.639202",
     "status": "completed"
    },
    "tags": []
   },
   "outputs": [
    {
     "name": "stdout",
     "output_type": "stream",
     "text": [
      "model accuracy: \n",
      " 1.0\n",
      "Confusion metrix: \n",
      " [[3718    0]\n",
      " [   0 3797]]\n",
      "classification report: \n",
      "               precision    recall  f1-score   support\n",
      "\n",
      "           0       1.00      1.00      1.00      3718\n",
      "           1       1.00      1.00      1.00      3797\n",
      "\n",
      "    accuracy                           1.00      7515\n",
      "   macro avg       1.00      1.00      1.00      7515\n",
      "weighted avg       1.00      1.00      1.00      7515\n",
      "\n"
     ]
    }
   ],
   "source": [
    "#Model performance\n",
    "model_evaluation(y_test, y_pred)"
   ]
  },
  {
   "cell_type": "code",
   "execution_count": 39,
   "id": "64baba6c",
   "metadata": {
    "execution": {
     "iopub.execute_input": "2022-11-25T16:12:29.717086Z",
     "iopub.status.busy": "2022-11-25T16:12:29.715755Z",
     "iopub.status.idle": "2022-11-25T16:12:29.830703Z",
     "shell.execute_reply": "2022-11-25T16:12:29.829709Z"
    },
    "id": "6YMWjCXMo5fo",
    "outputId": "9a5f07f4-17f8-4328-b18a-f0aa160bc7ae",
    "papermill": {
     "duration": 0.13462,
     "end_time": "2022-11-25T16:12:29.832405",
     "exception": false,
     "start_time": "2022-11-25T16:12:29.697785",
     "status": "completed"
    },
    "tags": []
   },
   "outputs": [
    {
     "data": {
      "image/png": "[encoded data removed]",
      "text/plain": [
       "<Figure size 432x288 with 1 Axes>"
      ]
     },
     "metadata": {
      "needs_background": "light"
     },
     "output_type": "display_data"
    }
   ],
   "source": [
    "#Plotting the curve\n",
    "plot_roc_curve(y_test,y_roc_pred)"
   ]
  },
  {
   "cell_type": "markdown",
   "id": "4cf2574a",
   "metadata": {
    "id": "YFFcBzD9pBm5",
    "papermill": {
     "duration": 0.016925,
     "end_time": "2022-11-25T16:12:29.866496",
     "exception": false,
     "start_time": "2022-11-25T16:12:29.849571",
     "status": "completed"
    },
    "tags": []
   },
   "source": [
    "<a id=\"5\"></a>\n",
    "### <div style=\"text-align: left; background-color: #BB4ED8 ; font-family: Trebuchet MS; color: white; padding: 15px; line-height:1;border-radius:1px; margin-bottom: 0em; text-align: center; font-size: 20px\">GradientBosting implemention for fraud detection</div> "
   ]
  },
  {
   "cell_type": "code",
   "execution_count": 40,
   "id": "339efb2d",
   "metadata": {
    "execution": {
     "iopub.execute_input": "2022-11-25T16:12:29.900977Z",
     "iopub.status.busy": "2022-11-25T16:12:29.900648Z",
     "iopub.status.idle": "2022-11-25T16:12:29.905014Z",
     "shell.execute_reply": "2022-11-25T16:12:29.904415Z"
    },
    "id": "73WAsXeOqMOg",
    "papermill": {
     "duration": 0.023754,
     "end_time": "2022-11-25T16:12:29.906672",
     "exception": false,
     "start_time": "2022-11-25T16:12:29.882918",
     "status": "completed"
    },
    "tags": []
   },
   "outputs": [],
   "source": [
    "#Creating Gradient boosting object\n",
    "gbc=GradientBoostingClassifier(n_estimators=100, learning_rate=1.0, max_depth=10)"
   ]
  },
  {
   "cell_type": "code",
   "execution_count": 41,
   "id": "b613eea9",
   "metadata": {
    "execution": {
     "iopub.execute_input": "2022-11-25T16:12:29.941404Z",
     "iopub.status.busy": "2022-11-25T16:12:29.941100Z",
     "iopub.status.idle": "2022-11-25T16:12:30.617050Z",
     "shell.execute_reply": "2022-11-25T16:12:30.615815Z"
    },
    "id": "aRxpP3Bcqw8Y",
    "outputId": "8af92abd-bda0-44f3-d6ca-9f936aaf5d87",
    "papermill": {
     "duration": 0.695449,
     "end_time": "2022-11-25T16:12:30.618955",
     "exception": false,
     "start_time": "2022-11-25T16:12:29.923506",
     "status": "completed"
    },
    "tags": []
   },
   "outputs": [
    {
     "data": {
      "text/plain": [
       "GradientBoostingClassifier(learning_rate=1.0, max_depth=10)"
      ]
     },
     "execution_count": 41,
     "metadata": {},
     "output_type": "execute_result"
    }
   ],
   "source": [
    "#Training the model\n",
    "gbc.fit(X_train,np.ravel(y_train))"
   ]
  },
  {
   "cell_type": "code",
   "execution_count": 42,
   "id": "ac0359e1",
   "metadata": {
    "execution": {
     "iopub.execute_input": "2022-11-25T16:12:30.654063Z",
     "iopub.status.busy": "2022-11-25T16:12:30.653778Z",
     "iopub.status.idle": "2022-11-25T16:12:30.676519Z",
     "shell.execute_reply": "2022-11-25T16:12:30.675338Z"
    },
    "id": "DvEdVy0uq2BP",
    "papermill": {
     "duration": 0.042815,
     "end_time": "2022-11-25T16:12:30.678673",
     "exception": false,
     "start_time": "2022-11-25T16:12:30.635858",
     "status": "completed"
    },
    "tags": []
   },
   "outputs": [],
   "source": [
    "#predicting the model\n",
    "pred=gbc.predict(X_test)\n",
    "roc_pred=gbc.predict_proba(X_test)[:,1]"
   ]
  },
  {
   "cell_type": "code",
   "execution_count": 43,
   "id": "daee0c0e",
   "metadata": {
    "execution": {
     "iopub.execute_input": "2022-11-25T16:12:30.714801Z",
     "iopub.status.busy": "2022-11-25T16:12:30.714485Z",
     "iopub.status.idle": "2022-11-25T16:12:30.734047Z",
     "shell.execute_reply": "2022-11-25T16:12:30.732321Z"
    },
    "id": "68ZGoPAVrDWv",
    "outputId": "044be33a-291b-45db-dcda-414e68916f17",
    "papermill": {
     "duration": 0.040716,
     "end_time": "2022-11-25T16:12:30.736590",
     "exception": false,
     "start_time": "2022-11-25T16:12:30.695874",
     "status": "completed"
    },
    "tags": []
   },
   "outputs": [
    {
     "name": "stdout",
     "output_type": "stream",
     "text": [
      "model accuracy: \n",
      " 1.0\n",
      "Confusion metrix: \n",
      " [[3718    0]\n",
      " [   0 3797]]\n",
      "classification report: \n",
      "               precision    recall  f1-score   support\n",
      "\n",
      "           0       1.00      1.00      1.00      3718\n",
      "           1       1.00      1.00      1.00      3797\n",
      "\n",
      "    accuracy                           1.00      7515\n",
      "   macro avg       1.00      1.00      1.00      7515\n",
      "weighted avg       1.00      1.00      1.00      7515\n",
      "\n"
     ]
    }
   ],
   "source": [
    "#Model performance\n",
    "model_evaluation(y_test,pred)"
   ]
  },
  {
   "cell_type": "code",
   "execution_count": 44,
   "id": "76517b1f",
   "metadata": {
    "execution": {
     "iopub.execute_input": "2022-11-25T16:12:30.773114Z",
     "iopub.status.busy": "2022-11-25T16:12:30.772798Z",
     "iopub.status.idle": "2022-11-25T16:12:30.894832Z",
     "shell.execute_reply": "2022-11-25T16:12:30.893880Z"
    },
    "id": "caTp28vorPlh",
    "papermill": {
     "duration": 0.142911,
     "end_time": "2022-11-25T16:12:30.896969",
     "exception": false,
     "start_time": "2022-11-25T16:12:30.754058",
     "status": "completed"
    },
    "tags": []
   },
   "outputs": [
    {
     "data": {
      "image/png": "[encoded data removed]",
      "text/plain": [
       "<Figure size 432x288 with 1 Axes>"
      ]
     },
     "metadata": {
      "needs_background": "light"
     },
     "output_type": "display_data"
    }
   ],
   "source": [
    "#Ploting curve\n",
    "plot_roc_curve(y_test,roc_pred)"
   ]
  },
  {
   "cell_type": "markdown",
   "id": "bdc0dcce",
   "metadata": {
    "id": "GZ7eRPN-Hh3J",
    "papermill": {
     "duration": 0.016561,
     "end_time": "2022-11-25T16:12:30.930641",
     "exception": false,
     "start_time": "2022-11-25T16:12:30.914080",
     "status": "completed"
    },
    "tags": []
   },
   "source": [
    "<h2 style=\"color:#0D8D39 ;font-size: 19px \"><b>Xgboost implementation to detect fraud"
   ]
  },
  {
   "cell_type": "code",
   "execution_count": 45,
   "id": "f430569e",
   "metadata": {
    "execution": {
     "iopub.execute_input": "2022-11-25T16:12:30.965349Z",
     "iopub.status.busy": "2022-11-25T16:12:30.965065Z",
     "iopub.status.idle": "2022-11-25T16:12:30.969933Z",
     "shell.execute_reply": "2022-11-25T16:12:30.968920Z"
    },
    "id": "uNMfZ2giMVtZ",
    "papermill": {
     "duration": 0.024355,
     "end_time": "2022-11-25T16:12:30.971536",
     "exception": false,
     "start_time": "2022-11-25T16:12:30.947181",
     "status": "completed"
    },
    "tags": []
   },
   "outputs": [],
   "source": [
    "#Initializing xgb hyperparameter\n",
    "params={'learning_rate':[0.01, 0.1],\n",
    "        'max_depth':[2,5],\n",
    "        'min_child_weight':[1,3,5],\n",
    "        'subsample':[.5, .7],\n",
    "        'n_estimators':[100,150]}"
   ]
  },
  {
   "cell_type": "code",
   "execution_count": 46,
   "id": "d3b689e8",
   "metadata": {
    "execution": {
     "iopub.execute_input": "2022-11-25T16:12:31.006620Z",
     "iopub.status.busy": "2022-11-25T16:12:31.006304Z",
     "iopub.status.idle": "2022-11-25T16:12:31.011206Z",
     "shell.execute_reply": "2022-11-25T16:12:31.009859Z"
    },
    "id": "k43DRiKrIIQg",
    "papermill": {
     "duration": 0.024571,
     "end_time": "2022-11-25T16:12:31.013000",
     "exception": false,
     "start_time": "2022-11-25T16:12:30.988429",
     "status": "completed"
    },
    "tags": []
   },
   "outputs": [],
   "source": [
    "#XGB object initialization\n",
    "xgb_clf=xgb.XGBClassifier()"
   ]
  },
  {
   "cell_type": "code",
   "execution_count": 47,
   "id": "39b73ed0",
   "metadata": {
    "execution": {
     "iopub.execute_input": "2022-11-25T16:12:31.048977Z",
     "iopub.status.busy": "2022-11-25T16:12:31.047974Z",
     "iopub.status.idle": "2022-11-25T16:12:31.052723Z",
     "shell.execute_reply": "2022-11-25T16:12:31.051592Z"
    },
    "id": "mvP6ihu_TsVz",
    "papermill": {
     "duration": 0.025346,
     "end_time": "2022-11-25T16:12:31.055086",
     "exception": false,
     "start_time": "2022-11-25T16:12:31.029740",
     "status": "completed"
    },
    "tags": []
   },
   "outputs": [],
   "source": [
    "#GridSearchCV object creation \n",
    "gcv=GridSearchCV(estimator=xgb_clf, param_grid=params, cv=2, verbose=1)"
   ]
  },
  {
   "cell_type": "code",
   "execution_count": 48,
   "id": "98ecb947",
   "metadata": {
    "execution": {
     "iopub.execute_input": "2022-11-25T16:12:31.091498Z",
     "iopub.status.busy": "2022-11-25T16:12:31.091144Z",
     "iopub.status.idle": "2022-11-25T16:14:50.708139Z",
     "shell.execute_reply": "2022-11-25T16:14:50.707280Z"
    },
    "id": "I0dlQCw8U7ZM",
    "papermill": {
     "duration": 139.65085,
     "end_time": "2022-11-25T16:14:50.723466",
     "exception": false,
     "start_time": "2022-11-25T16:12:31.072616",
     "status": "completed"
    },
    "tags": []
   },
   "outputs": [
    {
     "name": "stdout",
     "output_type": "stream",
     "text": [
      "Fitting 2 folds for each of 48 candidates, totalling 96 fits\n"
     ]
    },
    {
     "data": {
      "text/plain": [
       "GridSearchCV(cv=2,\n",
       "             estimator=XGBClassifier(base_score=None, booster=None,\n",
       "                                     callbacks=None, colsample_bylevel=None,\n",
       "                                     colsample_bynode=None,\n",
       "                                     colsample_bytree=None,\n",
       "                                     early_stopping_rounds=None,\n",
       "                                     enable_categorical=False, eval_metric=None,\n",
       "                                     gamma=None, gpu_id=None, grow_policy=None,\n",
       "                                     importance_type=None,\n",
       "                                     interaction_constraints=None,\n",
       "                                     learning_rate=None, max_bin=None,\n",
       "                                     max_ca...\n",
       "                                     max_delta_step=None, max_depth=None,\n",
       "                                     max_leaves=None, min_child_weight=None,\n",
       "                                     missing=nan, monotone_constraints=None,\n",
       "                                     n_estimators=100, n_jobs=None,\n",
       "                                     num_parallel_tree=None, predictor=None,\n",
       "                                     random_state=None, reg_alpha=None,\n",
       "                                     reg_lambda=None, ...),\n",
       "             param_grid={'learning_rate': [0.01, 0.1], 'max_depth': [2, 5],\n",
       "                         'min_child_weight': [1, 3, 5],\n",
       "                         'n_estimators': [100, 150], 'subsample': [0.5, 0.7]},\n",
       "             verbose=1)"
      ]
     },
     "execution_count": 48,
     "metadata": {},
     "output_type": "execute_result"
    }
   ],
   "source": [
    "#Training the model\n",
    "gcv.fit(X_train,y_train)"
   ]
  },
  {
   "cell_type": "code",
   "execution_count": 49,
   "id": "57b6fa86",
   "metadata": {
    "execution": {
     "iopub.execute_input": "2022-11-25T16:14:50.759766Z",
     "iopub.status.busy": "2022-11-25T16:14:50.758671Z",
     "iopub.status.idle": "2022-11-25T16:14:50.787437Z",
     "shell.execute_reply": "2022-11-25T16:14:50.786736Z"
    },
    "id": "WH-XgrnxWNTq",
    "papermill": {
     "duration": 0.049103,
     "end_time": "2022-11-25T16:14:50.789497",
     "exception": false,
     "start_time": "2022-11-25T16:14:50.740394",
     "status": "completed"
    },
    "tags": []
   },
   "outputs": [],
   "source": [
    "#Prediction\n",
    "g_pred=gcv.predict(X_test)\n",
    "g_roc_pred=gcv.predict_proba(X_test)[:,1]"
   ]
  },
  {
   "cell_type": "code",
   "execution_count": 50,
   "id": "3c918ac8",
   "metadata": {
    "execution": {
     "iopub.execute_input": "2022-11-25T16:14:50.825793Z",
     "iopub.status.busy": "2022-11-25T16:14:50.824790Z",
     "iopub.status.idle": "2022-11-25T16:14:50.830058Z",
     "shell.execute_reply": "2022-11-25T16:14:50.829509Z"
    },
    "id": "OxTZjOBcagDu",
    "outputId": "641162fb-fde1-400e-c721-c5a72d8ae89e",
    "papermill": {
     "duration": 0.024705,
     "end_time": "2022-11-25T16:14:50.831604",
     "exception": false,
     "start_time": "2022-11-25T16:14:50.806899",
     "status": "completed"
    },
    "tags": []
   },
   "outputs": [
    {
     "data": {
      "text/plain": [
       "0.9999112924687306"
      ]
     },
     "execution_count": 50,
     "metadata": {},
     "output_type": "execute_result"
    }
   ],
   "source": [
    "#Best Score\n",
    "gcv.best_score_"
   ]
  },
  {
   "cell_type": "code",
   "execution_count": 51,
   "id": "dffbf490",
   "metadata": {
    "execution": {
     "iopub.execute_input": "2022-11-25T16:14:50.867597Z",
     "iopub.status.busy": "2022-11-25T16:14:50.866793Z",
     "iopub.status.idle": "2022-11-25T16:14:50.885857Z",
     "shell.execute_reply": "2022-11-25T16:14:50.884406Z"
    },
    "id": "NMXM37i7WryY",
    "papermill": {
     "duration": 0.040204,
     "end_time": "2022-11-25T16:14:50.888847",
     "exception": false,
     "start_time": "2022-11-25T16:14:50.848643",
     "status": "completed"
    },
    "tags": []
   },
   "outputs": [
    {
     "name": "stdout",
     "output_type": "stream",
     "text": [
      "model accuracy: \n",
      " 1.0\n",
      "Confusion metrix: \n",
      " [[3718    0]\n",
      " [   0 3797]]\n",
      "classification report: \n",
      "               precision    recall  f1-score   support\n",
      "\n",
      "           0       1.00      1.00      1.00      3718\n",
      "           1       1.00      1.00      1.00      3797\n",
      "\n",
      "    accuracy                           1.00      7515\n",
      "   macro avg       1.00      1.00      1.00      7515\n",
      "weighted avg       1.00      1.00      1.00      7515\n",
      "\n"
     ]
    }
   ],
   "source": [
    "#Model performance score\n",
    "model_evaluation(y_test,g_pred)"
   ]
  },
  {
   "cell_type": "code",
   "execution_count": 52,
   "id": "2f96e22e",
   "metadata": {
    "execution": {
     "iopub.execute_input": "2022-11-25T16:14:50.928437Z",
     "iopub.status.busy": "2022-11-25T16:14:50.928069Z",
     "iopub.status.idle": "2022-11-25T16:14:51.047230Z",
     "shell.execute_reply": "2022-11-25T16:14:51.046392Z"
    },
    "id": "RBXj51ZCW803",
    "outputId": "8821b3f1-7773-44c0-b63b-979c8d260d8f",
    "papermill": {
     "duration": 0.140296,
     "end_time": "2022-11-25T16:14:51.048920",
     "exception": false,
     "start_time": "2022-11-25T16:14:50.908624",
     "status": "completed"
    },
    "tags": []
   },
   "outputs": [
    {
     "data": {
      "image/png": "[encoded data removed]",
      "text/plain": [
       "<Figure size 432x288 with 1 Axes>"
      ]
     },
     "metadata": {
      "needs_background": "light"
     },
     "output_type": "display_data"
    }
   ],
   "source": [
    "#Visualizing the model performance\n",
    "plot_roc_curve(y_test,g_roc_pred)"
   ]
  },
  {
   "cell_type": "markdown",
   "id": "7475ce95",
   "metadata": {
    "id": "qkD97tPGXCru",
    "papermill": {
     "duration": 0.017583,
     "end_time": "2022-11-25T16:14:51.084288",
     "exception": false,
     "start_time": "2022-11-25T16:14:51.066705",
     "status": "completed"
    },
    "tags": []
   },
   "source": [
    "\n",
    "<a id=\"3\"></a>\n",
    "### <div style=\"text-align: left; background-color: #BB4ED8 ; font-family: Trebuchet MS; color: white; padding: 15px; line-height:1;border-radius:1px; margin-bottom: 0em; text-align: center; font-size: 25px\">Applying lightgbm & Randomized Search for fraud detection</div>"
   ]
  },
  {
   "cell_type": "code",
   "execution_count": 53,
   "id": "21caeedc",
   "metadata": {
    "execution": {
     "iopub.execute_input": "2022-11-25T16:14:51.122991Z",
     "iopub.status.busy": "2022-11-25T16:14:51.122427Z",
     "iopub.status.idle": "2022-11-25T16:14:51.126066Z",
     "shell.execute_reply": "2022-11-25T16:14:51.125558Z"
    },
    "id": "K7Q5K8lZXpLQ",
    "papermill": {
     "duration": 0.025793,
     "end_time": "2022-11-25T16:14:51.127754",
     "exception": false,
     "start_time": "2022-11-25T16:14:51.101961",
     "status": "completed"
    },
    "tags": []
   },
   "outputs": [],
   "source": [
    "#Lightgbm object\n",
    "LGB=lgb.LGBMClassifier()"
   ]
  },
  {
   "cell_type": "code",
   "execution_count": 54,
   "id": "6e79b79a",
   "metadata": {
    "execution": {
     "iopub.execute_input": "2022-11-25T16:14:51.164769Z",
     "iopub.status.busy": "2022-11-25T16:14:51.164273Z",
     "iopub.status.idle": "2022-11-25T16:14:51.168879Z",
     "shell.execute_reply": "2022-11-25T16:14:51.168339Z"
    },
    "id": "heETX95_YLTh",
    "papermill": {
     "duration": 0.025253,
     "end_time": "2022-11-25T16:14:51.170668",
     "exception": false,
     "start_time": "2022-11-25T16:14:51.145415",
     "status": "completed"
    },
    "tags": []
   },
   "outputs": [],
   "source": [
    "#Parameter initialization\n",
    "rs_params = {\n",
    "        'bagging_fraction': (0.5, 0.8),\n",
    "        'bagging_frequency': (5, 8),\n",
    "        'feature_fraction': (0.5, 0.8),\n",
    "        'max_depth': (10, 13),\n",
    "        'min_data_in_leaf': (90, 120),\n",
    "        'num_leaves': (1200, 1550),\n",
    "        'learning_rate': (0.01, 1.0)\n",
    "}"
   ]
  },
  {
   "cell_type": "code",
   "execution_count": 55,
   "id": "e25b0b08",
   "metadata": {
    "execution": {
     "iopub.execute_input": "2022-11-25T16:14:51.207605Z",
     "iopub.status.busy": "2022-11-25T16:14:51.207049Z",
     "iopub.status.idle": "2022-11-25T16:14:51.211082Z",
     "shell.execute_reply": "2022-11-25T16:14:51.210535Z"
    },
    "id": "GFD78MRrY1hC",
    "papermill": {
     "duration": 0.024806,
     "end_time": "2022-11-25T16:14:51.213043",
     "exception": false,
     "start_time": "2022-11-25T16:14:51.188237",
     "status": "completed"
    },
    "tags": []
   },
   "outputs": [],
   "source": [
    "#Ramdomized object \n",
    "rs_cv=RandomizedSearchCV(estimator=LGB, param_distributions=rs_params, cv=2, n_jobs=-1, verbose=1)"
   ]
  },
  {
   "cell_type": "code",
   "execution_count": 56,
   "id": "7cabd0cc",
   "metadata": {
    "execution": {
     "iopub.execute_input": "2022-11-25T16:14:51.249768Z",
     "iopub.status.busy": "2022-11-25T16:14:51.249310Z",
     "iopub.status.idle": "2022-11-25T16:14:51.258866Z",
     "shell.execute_reply": "2022-11-25T16:14:51.258249Z"
    },
    "papermill": {
     "duration": 0.030329,
     "end_time": "2022-11-25T16:14:51.260814",
     "exception": false,
     "start_time": "2022-11-25T16:14:51.230485",
     "status": "completed"
    },
    "tags": []
   },
   "outputs": [],
   "source": [
    "# Change columns names ([LightGBM] Do not support special JSON characters in feature name.)\n",
    "import re\n",
    "new_names = {col: re.sub(r'[^A-Za-z0-9_]+', '', col) for col in X_train.columns}\n",
    "new_n_list = list(new_names.values())\n",
    "# [LightGBM] Feature appears more than one time.\n",
    "new_names = {col: f'{new_col}_{i}' if new_col in new_n_list[:i] else new_col for i, (col, new_col) in enumerate(new_names.items())}\n",
    "X_train = X_train.rename(columns=new_names)"
   ]
  },
  {
   "cell_type": "code",
   "execution_count": 57,
   "id": "074a0dbb",
   "metadata": {
    "execution": {
     "iopub.execute_input": "2022-11-25T16:14:51.297905Z",
     "iopub.status.busy": "2022-11-25T16:14:51.297477Z",
     "iopub.status.idle": "2022-11-25T16:14:58.418925Z",
     "shell.execute_reply": "2022-11-25T16:14:58.418158Z"
    },
    "id": "PZrt1QfqZjM5",
    "outputId": "9c53dd04-3801-4ea9-915d-43117ae1c043",
    "papermill": {
     "duration": 7.142937,
     "end_time": "2022-11-25T16:14:58.421375",
     "exception": false,
     "start_time": "2022-11-25T16:14:51.278438",
     "status": "completed"
    },
    "tags": []
   },
   "outputs": [
    {
     "name": "stdout",
     "output_type": "stream",
     "text": [
      "Fitting 2 folds for each of 10 candidates, totalling 20 fits\n",
      "[LightGBM] [Warning] Unknown parameter: bagging_frequency\n",
      "[LightGBM] [Warning] feature_fraction is set=0.5, colsample_bytree=1.0 will be ignored. Current value: feature_fraction=0.5\n",
      "[LightGBM] [Warning] min_data_in_leaf is set=120, min_child_samples=20 will be ignored. Current value: min_data_in_leaf=120\n",
      "[LightGBM] [Warning] bagging_fraction is set=0.5, subsample=1.0 will be ignored. Current value: bagging_fraction=0.5\n"
     ]
    },
    {
     "data": {
      "text/plain": [
       "RandomizedSearchCV(cv=2, estimator=LGBMClassifier(), n_jobs=-1,\n",
       "                   param_distributions={'bagging_fraction': (0.5, 0.8),\n",
       "                                        'bagging_frequency': (5, 8),\n",
       "                                        'feature_fraction': (0.5, 0.8),\n",
       "                                        'learning_rate': (0.01, 1.0),\n",
       "                                        'max_depth': (10, 13),\n",
       "                                        'min_data_in_leaf': (90, 120),\n",
       "                                        'num_leaves': (1200, 1550)},\n",
       "                   verbose=1)"
      ]
     },
     "execution_count": 57,
     "metadata": {},
     "output_type": "execute_result"
    }
   ],
   "source": [
    "#Train the model\n",
    "rs_cv.fit(X_train,np.ravel(y_train))"
   ]
  },
  {
   "cell_type": "code",
   "execution_count": 58,
   "id": "12ff111e",
   "metadata": {
    "execution": {
     "iopub.execute_input": "2022-11-25T16:14:58.459082Z",
     "iopub.status.busy": "2022-11-25T16:14:58.458681Z",
     "iopub.status.idle": "2022-11-25T16:14:58.503027Z",
     "shell.execute_reply": "2022-11-25T16:14:58.502335Z"
    },
    "id": "sqQX4qfkZuPx",
    "papermill": {
     "duration": 0.065937,
     "end_time": "2022-11-25T16:14:58.505371",
     "exception": false,
     "start_time": "2022-11-25T16:14:58.439434",
     "status": "completed"
    },
    "tags": []
   },
   "outputs": [],
   "source": [
    "#prediction\n",
    "rs_pred=rs_cv.predict(X_test)\n",
    "rs_roc_pred=rs_cv.predict_proba(X_test)[:,1]"
   ]
  },
  {
   "cell_type": "code",
   "execution_count": 59,
   "id": "df27b601",
   "metadata": {
    "execution": {
     "iopub.execute_input": "2022-11-25T16:14:58.543703Z",
     "iopub.status.busy": "2022-11-25T16:14:58.543394Z",
     "iopub.status.idle": "2022-11-25T16:14:58.548827Z",
     "shell.execute_reply": "2022-11-25T16:14:58.548186Z"
    },
    "id": "a-WnHBbqZ-ME",
    "outputId": "ce460a4d-8ec7-45b9-8c6a-6f9a9914c1f6",
    "papermill": {
     "duration": 0.026315,
     "end_time": "2022-11-25T16:14:58.550332",
     "exception": false,
     "start_time": "2022-11-25T16:14:58.524017",
     "status": "completed"
    },
    "tags": []
   },
   "outputs": [
    {
     "data": {
      "text/plain": [
       "0.9998669387030958"
      ]
     },
     "execution_count": 59,
     "metadata": {},
     "output_type": "execute_result"
    }
   ],
   "source": [
    "#Score\n",
    "rs_cv.best_score_"
   ]
  },
  {
   "cell_type": "code",
   "execution_count": 60,
   "id": "1ec698b3",
   "metadata": {
    "execution": {
     "iopub.execute_input": "2022-11-25T16:14:58.589714Z",
     "iopub.status.busy": "2022-11-25T16:14:58.589411Z",
     "iopub.status.idle": "2022-11-25T16:14:58.610697Z",
     "shell.execute_reply": "2022-11-25T16:14:58.609081Z"
    },
    "id": "F4tGwDWzaKVy",
    "outputId": "9b0422f7-4893-46a3-fd1c-748e5999ede7",
    "papermill": {
     "duration": 0.043625,
     "end_time": "2022-11-25T16:14:58.612845",
     "exception": false,
     "start_time": "2022-11-25T16:14:58.569220",
     "status": "completed"
    },
    "tags": []
   },
   "outputs": [
    {
     "name": "stdout",
     "output_type": "stream",
     "text": [
      "model accuracy: \n",
      " 1.0\n",
      "Confusion metrix: \n",
      " [[3718    0]\n",
      " [   0 3797]]\n",
      "classification report: \n",
      "               precision    recall  f1-score   support\n",
      "\n",
      "           0       1.00      1.00      1.00      3718\n",
      "           1       1.00      1.00      1.00      3797\n",
      "\n",
      "    accuracy                           1.00      7515\n",
      "   macro avg       1.00      1.00      1.00      7515\n",
      "weighted avg       1.00      1.00      1.00      7515\n",
      "\n"
     ]
    }
   ],
   "source": [
    "#Model performance score\n",
    "model_evaluation(y_test,rs_pred)"
   ]
  },
  {
   "cell_type": "code",
   "execution_count": 61,
   "id": "ef30a8a1",
   "metadata": {
    "execution": {
     "iopub.execute_input": "2022-11-25T16:14:58.657127Z",
     "iopub.status.busy": "2022-11-25T16:14:58.655873Z",
     "iopub.status.idle": "2022-11-25T16:14:58.793722Z",
     "shell.execute_reply": "2022-11-25T16:14:58.792848Z"
    },
    "id": "GQmQrSfHaQ_R",
    "outputId": "6851e459-d677-4501-c549-d6751bb94981",
    "papermill": {
     "duration": 0.162173,
     "end_time": "2022-11-25T16:14:58.795779",
     "exception": false,
     "start_time": "2022-11-25T16:14:58.633606",
     "status": "completed"
    },
    "tags": []
   },
   "outputs": [
    {
     "data": {
      "image/png": "[encoded data removed]",
      "text/plain": [
       "<Figure size 432x288 with 1 Axes>"
      ]
     },
     "metadata": {
      "needs_background": "light"
     },
     "output_type": "display_data"
    }
   ],
   "source": [
    "#Roc plot\n",
    "plot_roc_curve(y_test,rs_roc_pred )"
   ]
  },
  {
   "cell_type": "markdown",
   "id": "99a5773b",
   "metadata": {
    "id": "Y5e-0Xu13SWL",
    "papermill": {
     "duration": 0.017654,
     "end_time": "2022-11-25T16:14:58.831996",
     "exception": false,
     "start_time": "2022-11-25T16:14:58.814342",
     "status": "completed"
    },
    "tags": []
   },
   "source": [
    "\n",
    "<a id=\"3\"></a>\n",
    "### <div style=\"text-align: left; background-color: #BB4ED8 ; font-family: Trebuchet MS; color: white; padding: 15px; line-height:1;border-radius:1px; margin-bottom: 0em; text-align: center; font-size: 25px\">Bayes Search for Fraud Detection</div>"
   ]
  },
  {
   "cell_type": "code",
   "execution_count": 62,
   "id": "f6e4643a",
   "metadata": {
    "execution": {
     "iopub.execute_input": "2022-11-25T16:14:58.870680Z",
     "iopub.status.busy": "2022-11-25T16:14:58.869622Z",
     "iopub.status.idle": "2022-11-25T16:14:58.874320Z",
     "shell.execute_reply": "2022-11-25T16:14:58.873756Z"
    },
    "id": "GpG5uCpUJapM",
    "papermill": {
     "duration": 0.026032,
     "end_time": "2022-11-25T16:14:58.875991",
     "exception": false,
     "start_time": "2022-11-25T16:14:58.849959",
     "status": "completed"
    },
    "tags": []
   },
   "outputs": [],
   "source": [
    "#Bayes Search parameter\n",
    "bs_params={\n",
    "       'max_depth':[4,6],\n",
    "       'n_estimators':[50, 100],\n",
    "       'learning_rate':[0.1, 0.2]\n",
    "}"
   ]
  },
  {
   "cell_type": "code",
   "execution_count": 63,
   "id": "dba8f428",
   "metadata": {
    "execution": {
     "iopub.execute_input": "2022-11-25T16:14:58.915772Z",
     "iopub.status.busy": "2022-11-25T16:14:58.915089Z",
     "iopub.status.idle": "2022-11-25T16:14:58.923868Z",
     "shell.execute_reply": "2022-11-25T16:14:58.922644Z"
    },
    "id": "yONkSbAiKcJD",
    "papermill": {
     "duration": 0.031754,
     "end_time": "2022-11-25T16:14:58.926310",
     "exception": false,
     "start_time": "2022-11-25T16:14:58.894556",
     "status": "completed"
    },
    "tags": []
   },
   "outputs": [],
   "source": [
    "#BayesSearch object \n",
    "bs=BayesSearchCV(LGB,\n",
    "                 bs_params,\n",
    "                 n_iter=5,\n",
    "                 scoring='roc_auc',\n",
    "                 cv=2,\n",
    "                 refit=True,\n",
    "                 verbose=1)"
   ]
  },
  {
   "cell_type": "code",
   "execution_count": 64,
   "id": "9e9b955f",
   "metadata": {
    "execution": {
     "iopub.execute_input": "2022-11-25T16:14:58.967145Z",
     "iopub.status.busy": "2022-11-25T16:14:58.966734Z",
     "iopub.status.idle": "2022-11-25T16:15:00.698596Z",
     "shell.execute_reply": "2022-11-25T16:15:00.696999Z"
    },
    "id": "06YmAnBgNpzN",
    "outputId": "c21d98a6-a142-4263-f056-496165f70476",
    "papermill": {
     "duration": 1.754544,
     "end_time": "2022-11-25T16:15:00.700588",
     "exception": false,
     "start_time": "2022-11-25T16:14:58.946044",
     "status": "completed"
    },
    "tags": []
   },
   "outputs": [
    {
     "name": "stdout",
     "output_type": "stream",
     "text": [
      "Fitting 2 folds for each of 1 candidates, totalling 2 fits\n",
      "Fitting 2 folds for each of 1 candidates, totalling 2 fits\n",
      "Fitting 2 folds for each of 1 candidates, totalling 2 fits\n",
      "Fitting 2 folds for each of 1 candidates, totalling 2 fits\n",
      "Fitting 2 folds for each of 1 candidates, totalling 2 fits\n"
     ]
    },
    {
     "data": {
      "text/plain": [
       "BayesSearchCV(cv=2, estimator=LGBMClassifier(), n_iter=5, scoring='roc_auc',\n",
       "              search_spaces={'learning_rate': [0.1, 0.2], 'max_depth': [4, 6],\n",
       "                             'n_estimators': [50, 100]},\n",
       "              verbose=1)"
      ]
     },
     "execution_count": 64,
     "metadata": {},
     "output_type": "execute_result"
    }
   ],
   "source": [
    "#Training the model\n",
    "bs.fit(X_train,np.ravel(y_train))"
   ]
  },
  {
   "cell_type": "code",
   "execution_count": 65,
   "id": "6ea0c992",
   "metadata": {
    "execution": {
     "iopub.execute_input": "2022-11-25T16:15:00.740040Z",
     "iopub.status.busy": "2022-11-25T16:15:00.739132Z",
     "iopub.status.idle": "2022-11-25T16:15:00.746424Z",
     "shell.execute_reply": "2022-11-25T16:15:00.745303Z"
    },
    "papermill": {
     "duration": 0.029427,
     "end_time": "2022-11-25T16:15:00.748604",
     "exception": false,
     "start_time": "2022-11-25T16:15:00.719177",
     "status": "completed"
    },
    "tags": []
   },
   "outputs": [
    {
     "data": {
      "text/plain": [
       "0.9999998268793537"
      ]
     },
     "execution_count": 65,
     "metadata": {},
     "output_type": "execute_result"
    }
   ],
   "source": [
    "#Score measuring\n",
    "bs.best_score_"
   ]
  },
  {
   "cell_type": "code",
   "execution_count": 66,
   "id": "990ccf01",
   "metadata": {
    "execution": {
     "iopub.execute_input": "2022-11-25T16:15:00.787656Z",
     "iopub.status.busy": "2022-11-25T16:15:00.787308Z",
     "iopub.status.idle": "2022-11-25T16:15:00.814872Z",
     "shell.execute_reply": "2022-11-25T16:15:00.813887Z"
    },
    "papermill": {
     "duration": 0.049867,
     "end_time": "2022-11-25T16:15:00.817277",
     "exception": false,
     "start_time": "2022-11-25T16:15:00.767410",
     "status": "completed"
    },
    "tags": []
   },
   "outputs": [],
   "source": [
    "#Model prediction\n",
    "gb_pred=bs.predict(X_test)\n",
    "gb_roc_prob=bs.predict_proba(X_test)[:,1]"
   ]
  },
  {
   "cell_type": "code",
   "execution_count": 67,
   "id": "d36585e4",
   "metadata": {
    "execution": {
     "iopub.execute_input": "2022-11-25T16:15:00.857565Z",
     "iopub.status.busy": "2022-11-25T16:15:00.857219Z",
     "iopub.status.idle": "2022-11-25T16:15:01.006179Z",
     "shell.execute_reply": "2022-11-25T16:15:01.004617Z"
    },
    "papermill": {
     "duration": 0.172814,
     "end_time": "2022-11-25T16:15:01.009107",
     "exception": false,
     "start_time": "2022-11-25T16:15:00.836293",
     "status": "completed"
    },
    "tags": []
   },
   "outputs": [
    {
     "name": "stdout",
     "output_type": "stream",
     "text": [
      "model accuracy: \n",
      " 1.0\n",
      "Confusion metrix: \n",
      " [[3718    0]\n",
      " [   0 3797]]\n",
      "classification report: \n",
      "               precision    recall  f1-score   support\n",
      "\n",
      "           0       1.00      1.00      1.00      3718\n",
      "           1       1.00      1.00      1.00      3797\n",
      "\n",
      "    accuracy                           1.00      7515\n",
      "   macro avg       1.00      1.00      1.00      7515\n",
      "weighted avg       1.00      1.00      1.00      7515\n",
      "\n"
     ]
    },
    {
     "data": {
      "image/png": "[encoded data removed]",
      "text/plain": [
       "<Figure size 432x288 with 1 Axes>"
      ]
     },
     "metadata": {
      "needs_background": "light"
     },
     "output_type": "display_data"
    }
   ],
   "source": [
    "#Model performance measure\n",
    "model_evaluation(y_test, gb_pred)\n",
    "plot_roc_curve(y_test,gb_roc_prob)"
   ]
  }
 ],
 "metadata": {
  "kernelspec": {
   "display_name": "Python 3",
   "language": "python",
   "name": "python3"
  },
  "language_info": {
   "codemirror_mode": {
    "name": "ipython",
    "version": 3
   },
   "file_extension": ".py",
   "mimetype": "text/x-python",
   "name": "python",
   "nbconvert_exporter": "python",
   "pygments_lexer": "ipython3",
   "version": "3.7.12"
  },
  "papermill": {
   "default_parameters": {},
   "duration": 178.380292,
   "end_time": "2022-11-25T16:15:03.650732",
   "environment_variables": {},
   "exception": null,
   "input_path": "__notebook__.ipynb",
   "output_path": "__notebook__.ipynb",
   "parameters": {},
   "start_time": "2022-11-25T16:12:05.270440",
   "version": "2.3.4"
  }
 },
 "nbformat": 4,
 "nbformat_minor": 5
}
