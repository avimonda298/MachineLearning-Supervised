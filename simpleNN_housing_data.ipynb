{
  "nbformat": 4,
  "nbformat_minor": 0,
  "metadata": {
    "colab": {
      "provenance": [],
      "include_colab_link": true
    },
    "kernelspec": {
      "name": "python3",
      "display_name": "Python 3"
    },
    "language_info": {
      "name": "python"
    }
  },
  "cells": [
    {
      "cell_type": "markdown",
      "metadata": {
        "id": "view-in-github",
        "colab_type": "text"
      },
      "source": [
        "<a href=\"https://colab.research.google.com/github/avimonda298/Python/blob/master/simpleNN_housing_data.ipynb\" target=\"_parent\"><img src=\"https://colab.research.google.com/assets/colab-badge.svg\" alt=\"Open In Colab\"/></a>"
      ]
    },
    {
      "cell_type": "code",
      "source": [
        "# Last amended: 29th October, 2022\n",
        "# California Housing Dataset\n",
        "# Experiments with NN\n",
        "# https://www.kaggle.com/datasets/camnugent/california-housing-prices"
      ],
      "metadata": {
        "id": "VDuKXUJ_L8S2"
      },
      "execution_count": null,
      "outputs": []
    },
    {
      "cell_type": "code",
      "execution_count": 1,
      "metadata": {
        "id": "t4NDs_JPESg_"
      },
      "outputs": [],
      "source": [
        "# 1.0\n",
        "import pandas as pd\n",
        "from sklearn.preprocessing import StandardScaler\n",
        "from sklearn.preprocessing import LabelEncoder\n",
        "from sklearn.model_selection import train_test_split\n",
        "\n",
        "# 1.1\n",
        "import tensorflow as tf\n",
        "\n",
        "# 1.2 Helper libraries\n",
        "import numpy as np\n",
        "import matplotlib.pyplot as plt\n"
      ]
    },
    {
      "cell_type": "code",
      "source": [
        "# 2.0 Mount google drive \n",
        "from google.colab import drive\n",
        "drive.mount('/gdrive')"
      ],
      "metadata": {
        "id": "11UKqlGTu9ka",
        "outputId": "ca164434-2773-4d39-b190-3f274b008d37",
        "colab": {
          "base_uri": "https://localhost:8080/"
        }
      },
      "execution_count": 3,
      "outputs": [
        {
          "output_type": "stream",
          "name": "stdout",
          "text": [
            "Drive already mounted at /gdrive; to attempt to forcibly remount, call drive.mount(\"/gdrive\", force_remount=True).\n"
          ]
        }
      ]
    },
    {
      "cell_type": "code",
      "source": [
        "# 2.1 Read FASHION-MNIST data\n",
        "\n",
        "path = \"/gdrive/MyDrive/Colab Datafiles/DeepLearning/\"\n"
      ],
      "metadata": {
        "id": "e_KwcYMREcUy"
      },
      "execution_count": 4,
      "outputs": []
    },
    {
      "cell_type": "code",
      "source": [
        "# 2.2\n",
        "data = pd.read_csv(path + \"housing.csv\")"
      ],
      "metadata": {
        "id": "lnhu8ZR5wznf"
      },
      "execution_count": 5,
      "outputs": []
    },
    {
      "cell_type": "code",
      "source": [
        "# 2.2.1\n",
        "data.head()"
      ],
      "metadata": {
        "id": "kV5KxQnLvimq",
        "outputId": "84a93bf6-b0b2-431b-a736-c0afb18d3982",
        "colab": {
          "base_uri": "https://localhost:8080/",
          "height": 270
        }
      },
      "execution_count": 6,
      "outputs": [
        {
          "output_type": "execute_result",
          "data": {
            "text/plain": [
              "   longitude  latitude  housing_median_age  total_rooms  total_bedrooms  \\\n",
              "0    -122.23     37.88                41.0        880.0           129.0   \n",
              "1    -122.22     37.86                21.0       7099.0          1106.0   \n",
              "2    -122.24     37.85                52.0       1467.0           190.0   \n",
              "3    -122.25     37.85                52.0       1274.0           235.0   \n",
              "4    -122.25     37.85                52.0       1627.0           280.0   \n",
              "\n",
              "   population  households  median_income  median_house_value ocean_proximity  \n",
              "0       322.0       126.0         8.3252            452600.0        NEAR BAY  \n",
              "1      2401.0      1138.0         8.3014            358500.0        NEAR BAY  \n",
              "2       496.0       177.0         7.2574            352100.0        NEAR BAY  \n",
              "3       558.0       219.0         5.6431            341300.0        NEAR BAY  \n",
              "4       565.0       259.0         3.8462            342200.0        NEAR BAY  "
            ],
            "text/html": [
              "\n",
              "  <div id=\"df-11345189-dd53-4977-91ee-94aef2ca6b3d\">\n",
              "    <div class=\"colab-df-container\">\n",
              "      <div>\n",
              "<style scoped>\n",
              "    .dataframe tbody tr th:only-of-type {\n",
              "        vertical-align: middle;\n",
              "    }\n",
              "\n",
              "    .dataframe tbody tr th {\n",
              "        vertical-align: top;\n",
              "    }\n",
              "\n",
              "    .dataframe thead th {\n",
              "        text-align: right;\n",
              "    }\n",
              "</style>\n",
              "<table border=\"1\" class=\"dataframe\">\n",
              "  <thead>\n",
              "    <tr style=\"text-align: right;\">\n",
              "      <th></th>\n",
              "      <th>longitude</th>\n",
              "      <th>latitude</th>\n",
              "      <th>housing_median_age</th>\n",
              "      <th>total_rooms</th>\n",
              "      <th>total_bedrooms</th>\n",
              "      <th>population</th>\n",
              "      <th>households</th>\n",
              "      <th>median_income</th>\n",
              "      <th>median_house_value</th>\n",
              "      <th>ocean_proximity</th>\n",
              "    </tr>\n",
              "  </thead>\n",
              "  <tbody>\n",
              "    <tr>\n",
              "      <th>0</th>\n",
              "      <td>-122.23</td>\n",
              "      <td>37.88</td>\n",
              "      <td>41.0</td>\n",
              "      <td>880.0</td>\n",
              "      <td>129.0</td>\n",
              "      <td>322.0</td>\n",
              "      <td>126.0</td>\n",
              "      <td>8.3252</td>\n",
              "      <td>452600.0</td>\n",
              "      <td>NEAR BAY</td>\n",
              "    </tr>\n",
              "    <tr>\n",
              "      <th>1</th>\n",
              "      <td>-122.22</td>\n",
              "      <td>37.86</td>\n",
              "      <td>21.0</td>\n",
              "      <td>7099.0</td>\n",
              "      <td>1106.0</td>\n",
              "      <td>2401.0</td>\n",
              "      <td>1138.0</td>\n",
              "      <td>8.3014</td>\n",
              "      <td>358500.0</td>\n",
              "      <td>NEAR BAY</td>\n",
              "    </tr>\n",
              "    <tr>\n",
              "      <th>2</th>\n",
              "      <td>-122.24</td>\n",
              "      <td>37.85</td>\n",
              "      <td>52.0</td>\n",
              "      <td>1467.0</td>\n",
              "      <td>190.0</td>\n",
              "      <td>496.0</td>\n",
              "      <td>177.0</td>\n",
              "      <td>7.2574</td>\n",
              "      <td>352100.0</td>\n",
              "      <td>NEAR BAY</td>\n",
              "    </tr>\n",
              "    <tr>\n",
              "      <th>3</th>\n",
              "      <td>-122.25</td>\n",
              "      <td>37.85</td>\n",
              "      <td>52.0</td>\n",
              "      <td>1274.0</td>\n",
              "      <td>235.0</td>\n",
              "      <td>558.0</td>\n",
              "      <td>219.0</td>\n",
              "      <td>5.6431</td>\n",
              "      <td>341300.0</td>\n",
              "      <td>NEAR BAY</td>\n",
              "    </tr>\n",
              "    <tr>\n",
              "      <th>4</th>\n",
              "      <td>-122.25</td>\n",
              "      <td>37.85</td>\n",
              "      <td>52.0</td>\n",
              "      <td>1627.0</td>\n",
              "      <td>280.0</td>\n",
              "      <td>565.0</td>\n",
              "      <td>259.0</td>\n",
              "      <td>3.8462</td>\n",
              "      <td>342200.0</td>\n",
              "      <td>NEAR BAY</td>\n",
              "    </tr>\n",
              "  </tbody>\n",
              "</table>\n",
              "</div>\n",
              "      <button class=\"colab-df-convert\" onclick=\"convertToInteractive('df-11345189-dd53-4977-91ee-94aef2ca6b3d')\"\n",
              "              title=\"Convert this dataframe to an interactive table.\"\n",
              "              style=\"display:none;\">\n",
              "        \n",
              "  <svg xmlns=\"http://www.w3.org/2000/svg\" height=\"24px\"viewBox=\"0 0 24 24\"\n",
              "       width=\"24px\">\n",
              "    <path d=\"M0 0h24v24H0V0z\" fill=\"none\"/>\n",
              "    <path d=\"M18.56 5.44l.94 2.06.94-2.06 2.06-.94-2.06-.94-.94-2.06-.94 2.06-2.06.94zm-11 1L8.5 8.5l.94-2.06 2.06-.94-2.06-.94L8.5 2.5l-.94 2.06-2.06.94zm10 10l.94 2.06.94-2.06 2.06-.94-2.06-.94-.94-2.06-.94 2.06-2.06.94z\"/><path d=\"M17.41 7.96l-1.37-1.37c-.4-.4-.92-.59-1.43-.59-.52 0-1.04.2-1.43.59L10.3 9.45l-7.72 7.72c-.78.78-.78 2.05 0 2.83L4 21.41c.39.39.9.59 1.41.59.51 0 1.02-.2 1.41-.59l7.78-7.78 2.81-2.81c.8-.78.8-2.07 0-2.86zM5.41 20L4 18.59l7.72-7.72 1.47 1.35L5.41 20z\"/>\n",
              "  </svg>\n",
              "      </button>\n",
              "      \n",
              "  <style>\n",
              "    .colab-df-container {\n",
              "      display:flex;\n",
              "      flex-wrap:wrap;\n",
              "      gap: 12px;\n",
              "    }\n",
              "\n",
              "    .colab-df-convert {\n",
              "      background-color: #E8F0FE;\n",
              "      border: none;\n",
              "      border-radius: 50%;\n",
              "      cursor: pointer;\n",
              "      display: none;\n",
              "      fill: #1967D2;\n",
              "      height: 32px;\n",
              "      padding: 0 0 0 0;\n",
              "      width: 32px;\n",
              "    }\n",
              "\n",
              "    .colab-df-convert:hover {\n",
              "      background-color: #E2EBFA;\n",
              "      box-shadow: 0px 1px 2px rgba(60, 64, 67, 0.3), 0px 1px 3px 1px rgba(60, 64, 67, 0.15);\n",
              "      fill: #174EA6;\n",
              "    }\n",
              "\n",
              "    [theme=dark] .colab-df-convert {\n",
              "      background-color: #3B4455;\n",
              "      fill: #D2E3FC;\n",
              "    }\n",
              "\n",
              "    [theme=dark] .colab-df-convert:hover {\n",
              "      background-color: #434B5C;\n",
              "      box-shadow: 0px 1px 3px 1px rgba(0, 0, 0, 0.15);\n",
              "      filter: drop-shadow(0px 1px 2px rgba(0, 0, 0, 0.3));\n",
              "      fill: #FFFFFF;\n",
              "    }\n",
              "  </style>\n",
              "\n",
              "      <script>\n",
              "        const buttonEl =\n",
              "          document.querySelector('#df-11345189-dd53-4977-91ee-94aef2ca6b3d button.colab-df-convert');\n",
              "        buttonEl.style.display =\n",
              "          google.colab.kernel.accessAllowed ? 'block' : 'none';\n",
              "\n",
              "        async function convertToInteractive(key) {\n",
              "          const element = document.querySelector('#df-11345189-dd53-4977-91ee-94aef2ca6b3d');\n",
              "          const dataTable =\n",
              "            await google.colab.kernel.invokeFunction('convertToInteractive',\n",
              "                                                     [key], {});\n",
              "          if (!dataTable) return;\n",
              "\n",
              "          const docLinkHtml = 'Like what you see? Visit the ' +\n",
              "            '<a target=\"_blank\" href=https://colab.research.google.com/notebooks/data_table.ipynb>data table notebook</a>'\n",
              "            + ' to learn more about interactive tables.';\n",
              "          element.innerHTML = '';\n",
              "          dataTable['output_type'] = 'display_data';\n",
              "          await google.colab.output.renderOutput(dataTable, element);\n",
              "          const docLink = document.createElement('div');\n",
              "          docLink.innerHTML = docLinkHtml;\n",
              "          element.appendChild(docLink);\n",
              "        }\n",
              "      </script>\n",
              "    </div>\n",
              "  </div>\n",
              "  "
            ]
          },
          "metadata": {},
          "execution_count": 6
        }
      ]
    },
    {
      "cell_type": "code",
      "source": [
        "# 2.2.2\n",
        "data.shape"
      ],
      "metadata": {
        "id": "xvzzZC1_vlP9",
        "outputId": "9c83996c-dd20-4a25-d951-bbb1e7768c5f",
        "colab": {
          "base_uri": "https://localhost:8080/"
        }
      },
      "execution_count": 7,
      "outputs": [
        {
          "output_type": "execute_result",
          "data": {
            "text/plain": [
              "(20640, 10)"
            ]
          },
          "metadata": {},
          "execution_count": 7
        }
      ]
    },
    {
      "cell_type": "code",
      "source": [
        "# 2.3 Pop out target\n",
        "y = data.pop('median_house_value')"
      ],
      "metadata": {
        "id": "N3KCovgwEtmt"
      },
      "execution_count": 8,
      "outputs": []
    },
    {
      "cell_type": "code",
      "source": [
        "# 2.3.1\n",
        "data.shape   # (20640, 9)"
      ],
      "metadata": {
        "colab": {
          "base_uri": "https://localhost:8080/"
        },
        "id": "GmDd06fNJjsM",
        "outputId": "37b32e2e-cfc3-48a4-9100-0fb636d69def"
      },
      "execution_count": 9,
      "outputs": [
        {
          "output_type": "execute_result",
          "data": {
            "text/plain": [
              "(20640, 9)"
            ]
          },
          "metadata": {},
          "execution_count": 9
        }
      ]
    },
    {
      "cell_type": "code",
      "source": [
        "# 3.0 Check NULL\n",
        "data.isnull().sum()"
      ],
      "metadata": {
        "id": "fG-9A9AN8MZp",
        "outputId": "24bfcf23-9eae-4055-bf78-6634e203678b",
        "colab": {
          "base_uri": "https://localhost:8080/"
        }
      },
      "execution_count": 10,
      "outputs": [
        {
          "output_type": "execute_result",
          "data": {
            "text/plain": [
              "longitude               0\n",
              "latitude                0\n",
              "housing_median_age      0\n",
              "total_rooms             0\n",
              "total_bedrooms        207\n",
              "population              0\n",
              "households              0\n",
              "median_income           0\n",
              "ocean_proximity         0\n",
              "dtype: int64"
            ]
          },
          "metadata": {},
          "execution_count": 10
        }
      ]
    },
    {
      "cell_type": "code",
      "source": [
        "data['total_bedrooms'].median()"
      ],
      "metadata": {
        "id": "-GLH72NAtRw6",
        "outputId": "b8c6317f-bcb5-4231-8ad4-e728d050fcba",
        "colab": {
          "base_uri": "https://localhost:8080/"
        }
      },
      "execution_count": 11,
      "outputs": [
        {
          "output_type": "execute_result",
          "data": {
            "text/plain": [
              "435.0"
            ]
          },
          "metadata": {},
          "execution_count": 11
        }
      ]
    },
    {
      "cell_type": "code",
      "source": [
        "# 3.1 Fill null values with 'median'\n",
        "\n",
        "data['total_bedrooms']= data['total_bedrooms'].fillna(data['total_bedrooms'].median())"
      ],
      "metadata": {
        "id": "FhMy7EdU8Shr"
      },
      "execution_count": 12,
      "outputs": []
    },
    {
      "cell_type": "code",
      "source": [
        "# 3.2\n",
        "data[:2]"
      ],
      "metadata": {
        "id": "WyDhQZsHJmMk",
        "outputId": "0361d5d8-3493-4a9e-bb0e-54314c282fd9",
        "colab": {
          "base_uri": "https://localhost:8080/",
          "height": 176
        }
      },
      "execution_count": 13,
      "outputs": [
        {
          "output_type": "execute_result",
          "data": {
            "text/plain": [
              "   longitude  latitude  housing_median_age  total_rooms  total_bedrooms  \\\n",
              "0    -122.23     37.88                41.0        880.0           129.0   \n",
              "1    -122.22     37.86                21.0       7099.0          1106.0   \n",
              "\n",
              "   population  households  median_income ocean_proximity  \n",
              "0       322.0       126.0         8.3252        NEAR BAY  \n",
              "1      2401.0      1138.0         8.3014        NEAR BAY  "
            ],
            "text/html": [
              "\n",
              "  <div id=\"df-536661a5-72f5-4e38-b37d-594104ade347\">\n",
              "    <div class=\"colab-df-container\">\n",
              "      <div>\n",
              "<style scoped>\n",
              "    .dataframe tbody tr th:only-of-type {\n",
              "        vertical-align: middle;\n",
              "    }\n",
              "\n",
              "    .dataframe tbody tr th {\n",
              "        vertical-align: top;\n",
              "    }\n",
              "\n",
              "    .dataframe thead th {\n",
              "        text-align: right;\n",
              "    }\n",
              "</style>\n",
              "<table border=\"1\" class=\"dataframe\">\n",
              "  <thead>\n",
              "    <tr style=\"text-align: right;\">\n",
              "      <th></th>\n",
              "      <th>longitude</th>\n",
              "      <th>latitude</th>\n",
              "      <th>housing_median_age</th>\n",
              "      <th>total_rooms</th>\n",
              "      <th>total_bedrooms</th>\n",
              "      <th>population</th>\n",
              "      <th>households</th>\n",
              "      <th>median_income</th>\n",
              "      <th>ocean_proximity</th>\n",
              "    </tr>\n",
              "  </thead>\n",
              "  <tbody>\n",
              "    <tr>\n",
              "      <th>0</th>\n",
              "      <td>-122.23</td>\n",
              "      <td>37.88</td>\n",
              "      <td>41.0</td>\n",
              "      <td>880.0</td>\n",
              "      <td>129.0</td>\n",
              "      <td>322.0</td>\n",
              "      <td>126.0</td>\n",
              "      <td>8.3252</td>\n",
              "      <td>NEAR BAY</td>\n",
              "    </tr>\n",
              "    <tr>\n",
              "      <th>1</th>\n",
              "      <td>-122.22</td>\n",
              "      <td>37.86</td>\n",
              "      <td>21.0</td>\n",
              "      <td>7099.0</td>\n",
              "      <td>1106.0</td>\n",
              "      <td>2401.0</td>\n",
              "      <td>1138.0</td>\n",
              "      <td>8.3014</td>\n",
              "      <td>NEAR BAY</td>\n",
              "    </tr>\n",
              "  </tbody>\n",
              "</table>\n",
              "</div>\n",
              "      <button class=\"colab-df-convert\" onclick=\"convertToInteractive('df-536661a5-72f5-4e38-b37d-594104ade347')\"\n",
              "              title=\"Convert this dataframe to an interactive table.\"\n",
              "              style=\"display:none;\">\n",
              "        \n",
              "  <svg xmlns=\"http://www.w3.org/2000/svg\" height=\"24px\"viewBox=\"0 0 24 24\"\n",
              "       width=\"24px\">\n",
              "    <path d=\"M0 0h24v24H0V0z\" fill=\"none\"/>\n",
              "    <path d=\"M18.56 5.44l.94 2.06.94-2.06 2.06-.94-2.06-.94-.94-2.06-.94 2.06-2.06.94zm-11 1L8.5 8.5l.94-2.06 2.06-.94-2.06-.94L8.5 2.5l-.94 2.06-2.06.94zm10 10l.94 2.06.94-2.06 2.06-.94-2.06-.94-.94-2.06-.94 2.06-2.06.94z\"/><path d=\"M17.41 7.96l-1.37-1.37c-.4-.4-.92-.59-1.43-.59-.52 0-1.04.2-1.43.59L10.3 9.45l-7.72 7.72c-.78.78-.78 2.05 0 2.83L4 21.41c.39.39.9.59 1.41.59.51 0 1.02-.2 1.41-.59l7.78-7.78 2.81-2.81c.8-.78.8-2.07 0-2.86zM5.41 20L4 18.59l7.72-7.72 1.47 1.35L5.41 20z\"/>\n",
              "  </svg>\n",
              "      </button>\n",
              "      \n",
              "  <style>\n",
              "    .colab-df-container {\n",
              "      display:flex;\n",
              "      flex-wrap:wrap;\n",
              "      gap: 12px;\n",
              "    }\n",
              "\n",
              "    .colab-df-convert {\n",
              "      background-color: #E8F0FE;\n",
              "      border: none;\n",
              "      border-radius: 50%;\n",
              "      cursor: pointer;\n",
              "      display: none;\n",
              "      fill: #1967D2;\n",
              "      height: 32px;\n",
              "      padding: 0 0 0 0;\n",
              "      width: 32px;\n",
              "    }\n",
              "\n",
              "    .colab-df-convert:hover {\n",
              "      background-color: #E2EBFA;\n",
              "      box-shadow: 0px 1px 2px rgba(60, 64, 67, 0.3), 0px 1px 3px 1px rgba(60, 64, 67, 0.15);\n",
              "      fill: #174EA6;\n",
              "    }\n",
              "\n",
              "    [theme=dark] .colab-df-convert {\n",
              "      background-color: #3B4455;\n",
              "      fill: #D2E3FC;\n",
              "    }\n",
              "\n",
              "    [theme=dark] .colab-df-convert:hover {\n",
              "      background-color: #434B5C;\n",
              "      box-shadow: 0px 1px 3px 1px rgba(0, 0, 0, 0.15);\n",
              "      filter: drop-shadow(0px 1px 2px rgba(0, 0, 0, 0.3));\n",
              "      fill: #FFFFFF;\n",
              "    }\n",
              "  </style>\n",
              "\n",
              "      <script>\n",
              "        const buttonEl =\n",
              "          document.querySelector('#df-536661a5-72f5-4e38-b37d-594104ade347 button.colab-df-convert');\n",
              "        buttonEl.style.display =\n",
              "          google.colab.kernel.accessAllowed ? 'block' : 'none';\n",
              "\n",
              "        async function convertToInteractive(key) {\n",
              "          const element = document.querySelector('#df-536661a5-72f5-4e38-b37d-594104ade347');\n",
              "          const dataTable =\n",
              "            await google.colab.kernel.invokeFunction('convertToInteractive',\n",
              "                                                     [key], {});\n",
              "          if (!dataTable) return;\n",
              "\n",
              "          const docLinkHtml = 'Like what you see? Visit the ' +\n",
              "            '<a target=\"_blank\" href=https://colab.research.google.com/notebooks/data_table.ipynb>data table notebook</a>'\n",
              "            + ' to learn more about interactive tables.';\n",
              "          element.innerHTML = '';\n",
              "          dataTable['output_type'] = 'display_data';\n",
              "          await google.colab.output.renderOutput(dataTable, element);\n",
              "          const docLink = document.createElement('div');\n",
              "          docLink.innerHTML = docLinkHtml;\n",
              "          element.appendChild(docLink);\n",
              "        }\n",
              "      </script>\n",
              "    </div>\n",
              "  </div>\n",
              "  "
            ]
          },
          "metadata": {},
          "execution_count": 13
        }
      ]
    },
    {
      "cell_type": "code",
      "source": [
        "# 4.0\n",
        "# Label encode ocean_proximity:\n",
        " \n",
        "le = LabelEncoder()\n",
        "le.fit(data['ocean_proximity'])\n",
        "data['ocean_proximity'] = le.transform(data['ocean_proximity'])"
      ],
      "metadata": {
        "id": "xaM7F22l1hW5"
      },
      "execution_count": 14,
      "outputs": []
    },
    {
      "cell_type": "code",
      "source": [
        "# 4.1 Check data again:\n",
        "data.head(3)"
      ],
      "metadata": {
        "id": "I8irUezG1yeE",
        "outputId": "ec3fb882-9888-4da1-b4e0-b8f3288f6fc1",
        "colab": {
          "base_uri": "https://localhost:8080/",
          "height": 207
        }
      },
      "execution_count": 15,
      "outputs": [
        {
          "output_type": "execute_result",
          "data": {
            "text/plain": [
              "   longitude  latitude  housing_median_age  total_rooms  total_bedrooms  \\\n",
              "0    -122.23     37.88                41.0        880.0           129.0   \n",
              "1    -122.22     37.86                21.0       7099.0          1106.0   \n",
              "2    -122.24     37.85                52.0       1467.0           190.0   \n",
              "\n",
              "   population  households  median_income  ocean_proximity  \n",
              "0       322.0       126.0         8.3252                3  \n",
              "1      2401.0      1138.0         8.3014                3  \n",
              "2       496.0       177.0         7.2574                3  "
            ],
            "text/html": [
              "\n",
              "  <div id=\"df-39e14bee-f6b7-4538-b23a-e9d8a1c23983\">\n",
              "    <div class=\"colab-df-container\">\n",
              "      <div>\n",
              "<style scoped>\n",
              "    .dataframe tbody tr th:only-of-type {\n",
              "        vertical-align: middle;\n",
              "    }\n",
              "\n",
              "    .dataframe tbody tr th {\n",
              "        vertical-align: top;\n",
              "    }\n",
              "\n",
              "    .dataframe thead th {\n",
              "        text-align: right;\n",
              "    }\n",
              "</style>\n",
              "<table border=\"1\" class=\"dataframe\">\n",
              "  <thead>\n",
              "    <tr style=\"text-align: right;\">\n",
              "      <th></th>\n",
              "      <th>longitude</th>\n",
              "      <th>latitude</th>\n",
              "      <th>housing_median_age</th>\n",
              "      <th>total_rooms</th>\n",
              "      <th>total_bedrooms</th>\n",
              "      <th>population</th>\n",
              "      <th>households</th>\n",
              "      <th>median_income</th>\n",
              "      <th>ocean_proximity</th>\n",
              "    </tr>\n",
              "  </thead>\n",
              "  <tbody>\n",
              "    <tr>\n",
              "      <th>0</th>\n",
              "      <td>-122.23</td>\n",
              "      <td>37.88</td>\n",
              "      <td>41.0</td>\n",
              "      <td>880.0</td>\n",
              "      <td>129.0</td>\n",
              "      <td>322.0</td>\n",
              "      <td>126.0</td>\n",
              "      <td>8.3252</td>\n",
              "      <td>3</td>\n",
              "    </tr>\n",
              "    <tr>\n",
              "      <th>1</th>\n",
              "      <td>-122.22</td>\n",
              "      <td>37.86</td>\n",
              "      <td>21.0</td>\n",
              "      <td>7099.0</td>\n",
              "      <td>1106.0</td>\n",
              "      <td>2401.0</td>\n",
              "      <td>1138.0</td>\n",
              "      <td>8.3014</td>\n",
              "      <td>3</td>\n",
              "    </tr>\n",
              "    <tr>\n",
              "      <th>2</th>\n",
              "      <td>-122.24</td>\n",
              "      <td>37.85</td>\n",
              "      <td>52.0</td>\n",
              "      <td>1467.0</td>\n",
              "      <td>190.0</td>\n",
              "      <td>496.0</td>\n",
              "      <td>177.0</td>\n",
              "      <td>7.2574</td>\n",
              "      <td>3</td>\n",
              "    </tr>\n",
              "  </tbody>\n",
              "</table>\n",
              "</div>\n",
              "      <button class=\"colab-df-convert\" onclick=\"convertToInteractive('df-39e14bee-f6b7-4538-b23a-e9d8a1c23983')\"\n",
              "              title=\"Convert this dataframe to an interactive table.\"\n",
              "              style=\"display:none;\">\n",
              "        \n",
              "  <svg xmlns=\"http://www.w3.org/2000/svg\" height=\"24px\"viewBox=\"0 0 24 24\"\n",
              "       width=\"24px\">\n",
              "    <path d=\"M0 0h24v24H0V0z\" fill=\"none\"/>\n",
              "    <path d=\"M18.56 5.44l.94 2.06.94-2.06 2.06-.94-2.06-.94-.94-2.06-.94 2.06-2.06.94zm-11 1L8.5 8.5l.94-2.06 2.06-.94-2.06-.94L8.5 2.5l-.94 2.06-2.06.94zm10 10l.94 2.06.94-2.06 2.06-.94-2.06-.94-.94-2.06-.94 2.06-2.06.94z\"/><path d=\"M17.41 7.96l-1.37-1.37c-.4-.4-.92-.59-1.43-.59-.52 0-1.04.2-1.43.59L10.3 9.45l-7.72 7.72c-.78.78-.78 2.05 0 2.83L4 21.41c.39.39.9.59 1.41.59.51 0 1.02-.2 1.41-.59l7.78-7.78 2.81-2.81c.8-.78.8-2.07 0-2.86zM5.41 20L4 18.59l7.72-7.72 1.47 1.35L5.41 20z\"/>\n",
              "  </svg>\n",
              "      </button>\n",
              "      \n",
              "  <style>\n",
              "    .colab-df-container {\n",
              "      display:flex;\n",
              "      flex-wrap:wrap;\n",
              "      gap: 12px;\n",
              "    }\n",
              "\n",
              "    .colab-df-convert {\n",
              "      background-color: #E8F0FE;\n",
              "      border: none;\n",
              "      border-radius: 50%;\n",
              "      cursor: pointer;\n",
              "      display: none;\n",
              "      fill: #1967D2;\n",
              "      height: 32px;\n",
              "      padding: 0 0 0 0;\n",
              "      width: 32px;\n",
              "    }\n",
              "\n",
              "    .colab-df-convert:hover {\n",
              "      background-color: #E2EBFA;\n",
              "      box-shadow: 0px 1px 2px rgba(60, 64, 67, 0.3), 0px 1px 3px 1px rgba(60, 64, 67, 0.15);\n",
              "      fill: #174EA6;\n",
              "    }\n",
              "\n",
              "    [theme=dark] .colab-df-convert {\n",
              "      background-color: #3B4455;\n",
              "      fill: #D2E3FC;\n",
              "    }\n",
              "\n",
              "    [theme=dark] .colab-df-convert:hover {\n",
              "      background-color: #434B5C;\n",
              "      box-shadow: 0px 1px 3px 1px rgba(0, 0, 0, 0.15);\n",
              "      filter: drop-shadow(0px 1px 2px rgba(0, 0, 0, 0.3));\n",
              "      fill: #FFFFFF;\n",
              "    }\n",
              "  </style>\n",
              "\n",
              "      <script>\n",
              "        const buttonEl =\n",
              "          document.querySelector('#df-39e14bee-f6b7-4538-b23a-e9d8a1c23983 button.colab-df-convert');\n",
              "        buttonEl.style.display =\n",
              "          google.colab.kernel.accessAllowed ? 'block' : 'none';\n",
              "\n",
              "        async function convertToInteractive(key) {\n",
              "          const element = document.querySelector('#df-39e14bee-f6b7-4538-b23a-e9d8a1c23983');\n",
              "          const dataTable =\n",
              "            await google.colab.kernel.invokeFunction('convertToInteractive',\n",
              "                                                     [key], {});\n",
              "          if (!dataTable) return;\n",
              "\n",
              "          const docLinkHtml = 'Like what you see? Visit the ' +\n",
              "            '<a target=\"_blank\" href=https://colab.research.google.com/notebooks/data_table.ipynb>data table notebook</a>'\n",
              "            + ' to learn more about interactive tables.';\n",
              "          element.innerHTML = '';\n",
              "          dataTable['output_type'] = 'display_data';\n",
              "          await google.colab.output.renderOutput(dataTable, element);\n",
              "          const docLink = document.createElement('div');\n",
              "          docLink.innerHTML = docLinkHtml;\n",
              "          element.appendChild(docLink);\n",
              "        }\n",
              "      </script>\n",
              "    </div>\n",
              "  </div>\n",
              "  "
            ]
          },
          "metadata": {},
          "execution_count": 15
        }
      ]
    },
    {
      "cell_type": "code",
      "source": [
        "# 5.0 Scale data\n",
        "ss = StandardScaler()\n",
        "ss.fit(data)\n",
        "X = ss.transform(data)"
      ],
      "metadata": {
        "id": "wKkicmIIIYnM"
      },
      "execution_count": 16,
      "outputs": []
    },
    {
      "cell_type": "code",
      "source": [
        "# 5.1\n",
        "X[:5]"
      ],
      "metadata": {
        "id": "PkbMnfCd57P7",
        "colab": {
          "base_uri": "https://localhost:8080/"
        },
        "outputId": "3a6761ae-b4b5-4356-aafa-d925ff38ad0c"
      },
      "execution_count": 17,
      "outputs": [
        {
          "output_type": "execute_result",
          "data": {
            "text/plain": [
              "array([[-1.32783522,  1.05254828,  0.98214266, -0.8048191 , -0.97247648,\n",
              "        -0.9744286 , -0.97703285,  2.34476576,  1.2910888 ],\n",
              "       [-1.32284391,  1.04318455, -0.60701891,  2.0458901 ,  1.35714343,\n",
              "         0.86143887,  1.66996103,  2.33223796,  1.2910888 ],\n",
              "       [-1.33282653,  1.03850269,  1.85618152, -0.53574589, -0.82702426,\n",
              "        -0.82077735, -0.84363692,  1.7826994 ,  1.2910888 ],\n",
              "       [-1.33781784,  1.03850269,  1.85618152, -0.62421459, -0.71972345,\n",
              "        -0.76602806, -0.73378144,  0.93296751,  1.2910888 ],\n",
              "       [-1.33781784,  1.03850269,  1.85618152, -0.46240395, -0.61242263,\n",
              "        -0.75984669, -0.62915718, -0.012881  ,  1.2910888 ]])"
            ]
          },
          "metadata": {},
          "execution_count": 17
        }
      ]
    },
    {
      "cell_type": "code",
      "source": [
        "# 6.0 Split data:\n",
        "\n",
        "X_train,X_test,y_train,y_test = train_test_split(X,y, test_size = 0.15)\n",
        "display(X_train.shape)\n",
        "display(X_test.shape)"
      ],
      "metadata": {
        "colab": {
          "base_uri": "https://localhost:8080/",
          "height": 53
        },
        "id": "NPr69PhkqlWH",
        "outputId": "6b6f92a4-98ec-401f-9b99-a6fe913d37dd"
      },
      "execution_count": 22,
      "outputs": [
        {
          "output_type": "display_data",
          "data": {
            "text/plain": [
              "(17544, 9)"
            ]
          },
          "metadata": {}
        },
        {
          "output_type": "display_data",
          "data": {
            "text/plain": [
              "(3096, 9)"
            ]
          },
          "metadata": {}
        }
      ]
    },
    {
      "cell_type": "markdown",
      "source": [
        "## Model"
      ],
      "metadata": {
        "id": "BKGxZacvpAUU"
      }
    },
    {
      "cell_type": "code",
      "source": [
        "se = StandardScaler()\n",
        "y_tr = se.fit_transform(y_train.values.reshape(17544,1))\n",
        "y_tr = y_tr.reshape(17544)\n",
        "y_tr"
      ],
      "metadata": {
        "id": "Srsz6z44sNDU",
        "outputId": "63cb15b0-2ad8-4431-c6bb-067a696a91ea",
        "colab": {
          "base_uri": "https://localhost:8080/"
        }
      },
      "execution_count": 102,
      "outputs": [
        {
          "output_type": "execute_result",
          "data": {
            "text/plain": [
              "array([ 0.58605843, -0.55400428, -0.21112179, ..., -0.0444308 ,\n",
              "        0.61715105, -0.42963381])"
            ]
          },
          "metadata": {},
          "execution_count": 102
        }
      ]
    },
    {
      "cell_type": "code",
      "source": [
        "len(y_train)"
      ],
      "metadata": {
        "id": "Ie1fC-Ihmgeg",
        "outputId": "e71240d6-fa75-4a63-fcfe-877228aa16e2",
        "colab": {
          "base_uri": "https://localhost:8080/"
        }
      },
      "execution_count": 71,
      "outputs": [
        {
          "output_type": "execute_result",
          "data": {
            "text/plain": [
              "17544"
            ]
          },
          "metadata": {},
          "execution_count": 71
        }
      ]
    },
    {
      "cell_type": "code",
      "source": [
        "gh=np.array([1,-1,1,-1]*4386)"
      ],
      "metadata": {
        "id": "Mg3pWICwmkUt"
      },
      "execution_count": 72,
      "outputs": []
    },
    {
      "cell_type": "code",
      "source": [
        "y_tr=gh.reshape(17544)*y_train"
      ],
      "metadata": {
        "id": "gNtnFHdNmtIX"
      },
      "execution_count": 73,
      "outputs": []
    },
    {
      "cell_type": "code",
      "source": [
        "y_tr"
      ],
      "metadata": {
        "id": "ZbSp5-nSm1QA",
        "outputId": "99afff06-ac60-417b-efbe-c8fd344542e0",
        "colab": {
          "base_uri": "https://localhost:8080/"
        }
      },
      "execution_count": 74,
      "outputs": [
        {
          "output_type": "execute_result",
          "data": {
            "text/plain": [
              "19537    275000.0\n",
              "2861    -143000.0\n",
              "6099     182700.0\n",
              "5131     -92500.0\n",
              "16710    144800.0\n",
              "           ...   \n",
              "18863   -124600.0\n",
              "13442    120200.0\n",
              "18552   -202000.0\n",
              "6384     278600.0\n",
              "10059   -157400.0\n",
              "Name: median_house_value, Length: 17544, dtype: float64"
            ]
          },
          "metadata": {},
          "execution_count": 74
        }
      ]
    },
    {
      "cell_type": "code",
      "source": [
        "del model"
      ],
      "metadata": {
        "id": "H_HSJ4KFeyCG"
      },
      "execution_count": 112,
      "outputs": []
    },
    {
      "cell_type": "code",
      "source": [
        "# 6.0\n",
        "model = tf.keras.Sequential()"
      ],
      "metadata": {
        "id": "3u7a51m5Ixfm"
      },
      "execution_count": 113,
      "outputs": []
    },
    {
      "cell_type": "code",
      "source": [
        "# 6.1\n",
        "model.add( tf.keras.layers.Input(shape = (9,) ))"
      ],
      "metadata": {
        "id": "71VW2avIJEsh"
      },
      "execution_count": 114,
      "outputs": []
    },
    {
      "cell_type": "code",
      "source": [
        "model.add(tf.keras.layers.Dense(20, activation = 'relu'))"
      ],
      "metadata": {
        "id": "gfdocZ-Pa41F"
      },
      "execution_count": 115,
      "outputs": []
    },
    {
      "cell_type": "code",
      "source": [
        "model.add(tf.keras.layers.Dense(20, activation = 'relu'))"
      ],
      "metadata": {
        "id": "h6eN7heLa77_"
      },
      "execution_count": 116,
      "outputs": []
    },
    {
      "cell_type": "code",
      "source": [
        "model.add(tf.keras.layers.Dense(1,)) "
      ],
      "metadata": {
        "id": "_avdj4nnbCAj"
      },
      "execution_count": 108,
      "outputs": []
    },
    {
      "cell_type": "code",
      "source": [
        "model.compile(\n",
        "                 loss = 'mean_squared_error',\n",
        "                 optimizer = 'rmsprop',  # Try first with default optimizer and then with 'adam'\n",
        "                                      #  may not make much difference \n",
        "                 metrics = ['mean_absolute_error', 'mean_squared_error']\n",
        "\n",
        "              )"
      ],
      "metadata": {
        "id": "fi6ned08nOGQ"
      },
      "execution_count": 109,
      "outputs": []
    },
    {
      "cell_type": "code",
      "source": [
        "history = model.fit(X_train,y_tr,\n",
        "                    epochs = 200,\n",
        "                    validation_split=0.2\n",
        "                   )"
      ],
      "metadata": {
        "id": "iTDemv-vnRnP",
        "outputId": "a01a48aa-2d4d-48c5-df96-5ec03a4537fa",
        "colab": {
          "base_uri": "https://localhost:8080/"
        }
      },
      "execution_count": 110,
      "outputs": [
        {
          "output_type": "stream",
          "name": "stdout",
          "text": [
            "Epoch 1/200\n",
            "439/439 [==============================] - 2s 3ms/step - loss: 0.4111 - mean_absolute_error: 0.4654 - mean_squared_error: 0.4111 - val_loss: 0.3155 - val_mean_absolute_error: 0.3957 - val_mean_squared_error: 0.3155\n",
            "Epoch 2/200\n",
            "439/439 [==============================] - 1s 2ms/step - loss: 0.2974 - mean_absolute_error: 0.3862 - mean_squared_error: 0.2974 - val_loss: 0.2842 - val_mean_absolute_error: 0.3713 - val_mean_squared_error: 0.2842\n",
            "Epoch 3/200\n",
            "439/439 [==============================] - 1s 2ms/step - loss: 0.2776 - mean_absolute_error: 0.3689 - mean_squared_error: 0.2776 - val_loss: 0.2735 - val_mean_absolute_error: 0.3631 - val_mean_squared_error: 0.2735\n",
            "Epoch 4/200\n",
            "439/439 [==============================] - 1s 3ms/step - loss: 0.2691 - mean_absolute_error: 0.3617 - mean_squared_error: 0.2691 - val_loss: 0.2650 - val_mean_absolute_error: 0.3619 - val_mean_squared_error: 0.2650\n",
            "Epoch 5/200\n",
            "439/439 [==============================] - 1s 2ms/step - loss: 0.2622 - mean_absolute_error: 0.3559 - mean_squared_error: 0.2622 - val_loss: 0.2636 - val_mean_absolute_error: 0.3571 - val_mean_squared_error: 0.2636\n",
            "Epoch 6/200\n",
            "439/439 [==============================] - 1s 2ms/step - loss: 0.2595 - mean_absolute_error: 0.3537 - mean_squared_error: 0.2595 - val_loss: 0.2610 - val_mean_absolute_error: 0.3588 - val_mean_squared_error: 0.2610\n",
            "Epoch 7/200\n",
            "439/439 [==============================] - 1s 2ms/step - loss: 0.2554 - mean_absolute_error: 0.3511 - mean_squared_error: 0.2554 - val_loss: 0.2604 - val_mean_absolute_error: 0.3566 - val_mean_squared_error: 0.2604\n",
            "Epoch 8/200\n",
            "439/439 [==============================] - 2s 5ms/step - loss: 0.2537 - mean_absolute_error: 0.3488 - mean_squared_error: 0.2537 - val_loss: 0.2528 - val_mean_absolute_error: 0.3506 - val_mean_squared_error: 0.2528\n",
            "Epoch 9/200\n",
            "439/439 [==============================] - 1s 2ms/step - loss: 0.2515 - mean_absolute_error: 0.3468 - mean_squared_error: 0.2515 - val_loss: 0.2537 - val_mean_absolute_error: 0.3595 - val_mean_squared_error: 0.2537\n",
            "Epoch 10/200\n",
            "439/439 [==============================] - 1s 2ms/step - loss: 0.2500 - mean_absolute_error: 0.3463 - mean_squared_error: 0.2500 - val_loss: 0.2534 - val_mean_absolute_error: 0.3446 - val_mean_squared_error: 0.2534\n",
            "Epoch 11/200\n",
            "439/439 [==============================] - 1s 2ms/step - loss: 0.2482 - mean_absolute_error: 0.3438 - mean_squared_error: 0.2482 - val_loss: 0.2567 - val_mean_absolute_error: 0.3444 - val_mean_squared_error: 0.2567\n",
            "Epoch 12/200\n",
            "439/439 [==============================] - 1s 2ms/step - loss: 0.2472 - mean_absolute_error: 0.3439 - mean_squared_error: 0.2472 - val_loss: 0.2519 - val_mean_absolute_error: 0.3443 - val_mean_squared_error: 0.2519\n",
            "Epoch 13/200\n",
            "439/439 [==============================] - 1s 2ms/step - loss: 0.2448 - mean_absolute_error: 0.3420 - mean_squared_error: 0.2448 - val_loss: 0.2490 - val_mean_absolute_error: 0.3461 - val_mean_squared_error: 0.2490\n",
            "Epoch 14/200\n",
            "439/439 [==============================] - 1s 2ms/step - loss: 0.2427 - mean_absolute_error: 0.3402 - mean_squared_error: 0.2427 - val_loss: 0.2460 - val_mean_absolute_error: 0.3505 - val_mean_squared_error: 0.2460\n",
            "Epoch 15/200\n",
            "439/439 [==============================] - 1s 2ms/step - loss: 0.2421 - mean_absolute_error: 0.3388 - mean_squared_error: 0.2421 - val_loss: 0.2454 - val_mean_absolute_error: 0.3468 - val_mean_squared_error: 0.2454\n",
            "Epoch 16/200\n",
            "439/439 [==============================] - 1s 2ms/step - loss: 0.2402 - mean_absolute_error: 0.3378 - mean_squared_error: 0.2402 - val_loss: 0.2478 - val_mean_absolute_error: 0.3475 - val_mean_squared_error: 0.2478\n",
            "Epoch 17/200\n",
            "439/439 [==============================] - 1s 2ms/step - loss: 0.2391 - mean_absolute_error: 0.3370 - mean_squared_error: 0.2391 - val_loss: 0.2456 - val_mean_absolute_error: 0.3437 - val_mean_squared_error: 0.2456\n",
            "Epoch 18/200\n",
            "439/439 [==============================] - 1s 2ms/step - loss: 0.2381 - mean_absolute_error: 0.3363 - mean_squared_error: 0.2381 - val_loss: 0.2488 - val_mean_absolute_error: 0.3609 - val_mean_squared_error: 0.2488\n",
            "Epoch 19/200\n",
            "439/439 [==============================] - 1s 2ms/step - loss: 0.2362 - mean_absolute_error: 0.3342 - mean_squared_error: 0.2362 - val_loss: 0.2468 - val_mean_absolute_error: 0.3510 - val_mean_squared_error: 0.2468\n",
            "Epoch 20/200\n",
            "439/439 [==============================] - 1s 2ms/step - loss: 0.2356 - mean_absolute_error: 0.3339 - mean_squared_error: 0.2356 - val_loss: 0.2400 - val_mean_absolute_error: 0.3456 - val_mean_squared_error: 0.2400\n",
            "Epoch 21/200\n",
            "439/439 [==============================] - 1s 3ms/step - loss: 0.2342 - mean_absolute_error: 0.3330 - mean_squared_error: 0.2342 - val_loss: 0.2396 - val_mean_absolute_error: 0.3455 - val_mean_squared_error: 0.2396\n",
            "Epoch 22/200\n",
            "439/439 [==============================] - 1s 2ms/step - loss: 0.2334 - mean_absolute_error: 0.3317 - mean_squared_error: 0.2334 - val_loss: 0.2498 - val_mean_absolute_error: 0.3463 - val_mean_squared_error: 0.2498\n",
            "Epoch 23/200\n",
            "439/439 [==============================] - 1s 2ms/step - loss: 0.2330 - mean_absolute_error: 0.3321 - mean_squared_error: 0.2330 - val_loss: 0.2389 - val_mean_absolute_error: 0.3336 - val_mean_squared_error: 0.2389\n",
            "Epoch 24/200\n",
            "439/439 [==============================] - 1s 2ms/step - loss: 0.2322 - mean_absolute_error: 0.3303 - mean_squared_error: 0.2322 - val_loss: 0.2378 - val_mean_absolute_error: 0.3394 - val_mean_squared_error: 0.2378\n",
            "Epoch 25/200\n",
            "439/439 [==============================] - 1s 2ms/step - loss: 0.2303 - mean_absolute_error: 0.3296 - mean_squared_error: 0.2303 - val_loss: 0.2396 - val_mean_absolute_error: 0.3450 - val_mean_squared_error: 0.2396\n",
            "Epoch 26/200\n",
            "439/439 [==============================] - 1s 2ms/step - loss: 0.2300 - mean_absolute_error: 0.3291 - mean_squared_error: 0.2300 - val_loss: 0.2348 - val_mean_absolute_error: 0.3378 - val_mean_squared_error: 0.2348\n",
            "Epoch 27/200\n",
            "439/439 [==============================] - 2s 4ms/step - loss: 0.2294 - mean_absolute_error: 0.3284 - mean_squared_error: 0.2294 - val_loss: 0.2403 - val_mean_absolute_error: 0.3369 - val_mean_squared_error: 0.2403\n",
            "Epoch 28/200\n",
            "439/439 [==============================] - 1s 2ms/step - loss: 0.2292 - mean_absolute_error: 0.3275 - mean_squared_error: 0.2292 - val_loss: 0.2362 - val_mean_absolute_error: 0.3346 - val_mean_squared_error: 0.2362\n",
            "Epoch 29/200\n",
            "439/439 [==============================] - 1s 2ms/step - loss: 0.2275 - mean_absolute_error: 0.3270 - mean_squared_error: 0.2275 - val_loss: 0.2399 - val_mean_absolute_error: 0.3346 - val_mean_squared_error: 0.2399\n",
            "Epoch 30/200\n",
            "439/439 [==============================] - 1s 2ms/step - loss: 0.2281 - mean_absolute_error: 0.3271 - mean_squared_error: 0.2281 - val_loss: 0.2363 - val_mean_absolute_error: 0.3347 - val_mean_squared_error: 0.2363\n",
            "Epoch 31/200\n",
            "439/439 [==============================] - 1s 2ms/step - loss: 0.2269 - mean_absolute_error: 0.3265 - mean_squared_error: 0.2269 - val_loss: 0.2390 - val_mean_absolute_error: 0.3361 - val_mean_squared_error: 0.2390\n",
            "Epoch 32/200\n",
            "439/439 [==============================] - 1s 2ms/step - loss: 0.2268 - mean_absolute_error: 0.3258 - mean_squared_error: 0.2268 - val_loss: 0.2374 - val_mean_absolute_error: 0.3467 - val_mean_squared_error: 0.2374\n",
            "Epoch 33/200\n",
            "439/439 [==============================] - 1s 2ms/step - loss: 0.2258 - mean_absolute_error: 0.3255 - mean_squared_error: 0.2258 - val_loss: 0.2395 - val_mean_absolute_error: 0.3373 - val_mean_squared_error: 0.2395\n",
            "Epoch 34/200\n",
            "439/439 [==============================] - 1s 2ms/step - loss: 0.2252 - mean_absolute_error: 0.3248 - mean_squared_error: 0.2252 - val_loss: 0.2337 - val_mean_absolute_error: 0.3323 - val_mean_squared_error: 0.2337\n",
            "Epoch 35/200\n",
            "439/439 [==============================] - 1s 2ms/step - loss: 0.2250 - mean_absolute_error: 0.3251 - mean_squared_error: 0.2250 - val_loss: 0.2334 - val_mean_absolute_error: 0.3375 - val_mean_squared_error: 0.2334\n",
            "Epoch 36/200\n",
            "439/439 [==============================] - 1s 2ms/step - loss: 0.2241 - mean_absolute_error: 0.3244 - mean_squared_error: 0.2241 - val_loss: 0.2313 - val_mean_absolute_error: 0.3349 - val_mean_squared_error: 0.2313\n",
            "Epoch 37/200\n",
            "439/439 [==============================] - 1s 2ms/step - loss: 0.2240 - mean_absolute_error: 0.3247 - mean_squared_error: 0.2240 - val_loss: 0.2480 - val_mean_absolute_error: 0.3626 - val_mean_squared_error: 0.2480\n",
            "Epoch 38/200\n",
            "439/439 [==============================] - 1s 2ms/step - loss: 0.2224 - mean_absolute_error: 0.3237 - mean_squared_error: 0.2224 - val_loss: 0.2411 - val_mean_absolute_error: 0.3410 - val_mean_squared_error: 0.2411\n",
            "Epoch 39/200\n",
            "439/439 [==============================] - 1s 2ms/step - loss: 0.2227 - mean_absolute_error: 0.3234 - mean_squared_error: 0.2227 - val_loss: 0.2363 - val_mean_absolute_error: 0.3324 - val_mean_squared_error: 0.2363\n",
            "Epoch 40/200\n",
            "439/439 [==============================] - 3s 6ms/step - loss: 0.2230 - mean_absolute_error: 0.3227 - mean_squared_error: 0.2230 - val_loss: 0.2319 - val_mean_absolute_error: 0.3274 - val_mean_squared_error: 0.2319\n",
            "Epoch 41/200\n",
            "439/439 [==============================] - 2s 5ms/step - loss: 0.2219 - mean_absolute_error: 0.3221 - mean_squared_error: 0.2219 - val_loss: 0.2373 - val_mean_absolute_error: 0.3353 - val_mean_squared_error: 0.2373\n",
            "Epoch 42/200\n",
            "439/439 [==============================] - 1s 2ms/step - loss: 0.2222 - mean_absolute_error: 0.3222 - mean_squared_error: 0.2222 - val_loss: 0.2346 - val_mean_absolute_error: 0.3390 - val_mean_squared_error: 0.2346\n",
            "Epoch 43/200\n",
            "439/439 [==============================] - 1s 2ms/step - loss: 0.2216 - mean_absolute_error: 0.3215 - mean_squared_error: 0.2216 - val_loss: 0.2289 - val_mean_absolute_error: 0.3361 - val_mean_squared_error: 0.2289\n",
            "Epoch 44/200\n",
            "439/439 [==============================] - 1s 2ms/step - loss: 0.2201 - mean_absolute_error: 0.3215 - mean_squared_error: 0.2201 - val_loss: 0.2291 - val_mean_absolute_error: 0.3325 - val_mean_squared_error: 0.2291\n",
            "Epoch 45/200\n",
            "439/439 [==============================] - 1s 2ms/step - loss: 0.2205 - mean_absolute_error: 0.3210 - mean_squared_error: 0.2205 - val_loss: 0.2298 - val_mean_absolute_error: 0.3305 - val_mean_squared_error: 0.2298\n",
            "Epoch 46/200\n",
            "439/439 [==============================] - 1s 2ms/step - loss: 0.2198 - mean_absolute_error: 0.3208 - mean_squared_error: 0.2198 - val_loss: 0.2451 - val_mean_absolute_error: 0.3585 - val_mean_squared_error: 0.2451\n",
            "Epoch 47/200\n",
            "439/439 [==============================] - 1s 2ms/step - loss: 0.2203 - mean_absolute_error: 0.3207 - mean_squared_error: 0.2203 - val_loss: 0.2308 - val_mean_absolute_error: 0.3373 - val_mean_squared_error: 0.2308\n",
            "Epoch 48/200\n",
            "439/439 [==============================] - 1s 2ms/step - loss: 0.2192 - mean_absolute_error: 0.3206 - mean_squared_error: 0.2192 - val_loss: 0.2280 - val_mean_absolute_error: 0.3288 - val_mean_squared_error: 0.2280\n",
            "Epoch 49/200\n",
            "439/439 [==============================] - 1s 2ms/step - loss: 0.2191 - mean_absolute_error: 0.3203 - mean_squared_error: 0.2191 - val_loss: 0.2259 - val_mean_absolute_error: 0.3281 - val_mean_squared_error: 0.2259\n",
            "Epoch 50/200\n",
            "439/439 [==============================] - 1s 2ms/step - loss: 0.2182 - mean_absolute_error: 0.3199 - mean_squared_error: 0.2182 - val_loss: 0.2304 - val_mean_absolute_error: 0.3260 - val_mean_squared_error: 0.2304\n",
            "Epoch 51/200\n",
            "439/439 [==============================] - 1s 2ms/step - loss: 0.2182 - mean_absolute_error: 0.3190 - mean_squared_error: 0.2182 - val_loss: 0.2316 - val_mean_absolute_error: 0.3291 - val_mean_squared_error: 0.2316\n",
            "Epoch 52/200\n",
            "439/439 [==============================] - 1s 2ms/step - loss: 0.2175 - mean_absolute_error: 0.3194 - mean_squared_error: 0.2175 - val_loss: 0.2267 - val_mean_absolute_error: 0.3277 - val_mean_squared_error: 0.2267\n",
            "Epoch 53/200\n",
            "439/439 [==============================] - 1s 2ms/step - loss: 0.2173 - mean_absolute_error: 0.3195 - mean_squared_error: 0.2173 - val_loss: 0.2280 - val_mean_absolute_error: 0.3319 - val_mean_squared_error: 0.2280\n",
            "Epoch 54/200\n",
            "439/439 [==============================] - 1s 2ms/step - loss: 0.2168 - mean_absolute_error: 0.3186 - mean_squared_error: 0.2168 - val_loss: 0.2283 - val_mean_absolute_error: 0.3309 - val_mean_squared_error: 0.2283\n",
            "Epoch 55/200\n",
            "439/439 [==============================] - 1s 2ms/step - loss: 0.2169 - mean_absolute_error: 0.3182 - mean_squared_error: 0.2169 - val_loss: 0.2237 - val_mean_absolute_error: 0.3252 - val_mean_squared_error: 0.2237\n",
            "Epoch 56/200\n",
            "439/439 [==============================] - 1s 2ms/step - loss: 0.2166 - mean_absolute_error: 0.3180 - mean_squared_error: 0.2166 - val_loss: 0.2245 - val_mean_absolute_error: 0.3279 - val_mean_squared_error: 0.2245\n",
            "Epoch 57/200\n",
            "439/439 [==============================] - 1s 2ms/step - loss: 0.2156 - mean_absolute_error: 0.3166 - mean_squared_error: 0.2156 - val_loss: 0.2407 - val_mean_absolute_error: 0.3328 - val_mean_squared_error: 0.2407\n",
            "Epoch 58/200\n",
            "439/439 [==============================] - 1s 2ms/step - loss: 0.2156 - mean_absolute_error: 0.3170 - mean_squared_error: 0.2156 - val_loss: 0.2275 - val_mean_absolute_error: 0.3371 - val_mean_squared_error: 0.2275\n",
            "Epoch 59/200\n",
            "439/439 [==============================] - 1s 2ms/step - loss: 0.2155 - mean_absolute_error: 0.3171 - mean_squared_error: 0.2155 - val_loss: 0.2294 - val_mean_absolute_error: 0.3332 - val_mean_squared_error: 0.2294\n",
            "Epoch 60/200\n",
            "439/439 [==============================] - 1s 3ms/step - loss: 0.2157 - mean_absolute_error: 0.3171 - mean_squared_error: 0.2157 - val_loss: 0.2252 - val_mean_absolute_error: 0.3251 - val_mean_squared_error: 0.2252\n",
            "Epoch 61/200\n",
            "439/439 [==============================] - 1s 2ms/step - loss: 0.2148 - mean_absolute_error: 0.3162 - mean_squared_error: 0.2148 - val_loss: 0.2264 - val_mean_absolute_error: 0.3277 - val_mean_squared_error: 0.2264\n",
            "Epoch 62/200\n",
            "439/439 [==============================] - 1s 2ms/step - loss: 0.2142 - mean_absolute_error: 0.3157 - mean_squared_error: 0.2142 - val_loss: 0.2284 - val_mean_absolute_error: 0.3262 - val_mean_squared_error: 0.2284\n",
            "Epoch 63/200\n",
            "439/439 [==============================] - 1s 2ms/step - loss: 0.2144 - mean_absolute_error: 0.3156 - mean_squared_error: 0.2144 - val_loss: 0.2219 - val_mean_absolute_error: 0.3247 - val_mean_squared_error: 0.2219\n",
            "Epoch 64/200\n",
            "439/439 [==============================] - 1s 2ms/step - loss: 0.2135 - mean_absolute_error: 0.3158 - mean_squared_error: 0.2135 - val_loss: 0.2218 - val_mean_absolute_error: 0.3255 - val_mean_squared_error: 0.2218\n",
            "Epoch 65/200\n",
            "439/439 [==============================] - 1s 2ms/step - loss: 0.2133 - mean_absolute_error: 0.3154 - mean_squared_error: 0.2133 - val_loss: 0.2204 - val_mean_absolute_error: 0.3231 - val_mean_squared_error: 0.2204\n",
            "Epoch 66/200\n",
            "439/439 [==============================] - 1s 2ms/step - loss: 0.2131 - mean_absolute_error: 0.3155 - mean_squared_error: 0.2131 - val_loss: 0.2225 - val_mean_absolute_error: 0.3243 - val_mean_squared_error: 0.2225\n",
            "Epoch 67/200\n",
            "439/439 [==============================] - 1s 2ms/step - loss: 0.2132 - mean_absolute_error: 0.3153 - mean_squared_error: 0.2132 - val_loss: 0.2210 - val_mean_absolute_error: 0.3221 - val_mean_squared_error: 0.2210\n",
            "Epoch 68/200\n",
            "439/439 [==============================] - 1s 2ms/step - loss: 0.2125 - mean_absolute_error: 0.3147 - mean_squared_error: 0.2125 - val_loss: 0.2250 - val_mean_absolute_error: 0.3294 - val_mean_squared_error: 0.2250\n",
            "Epoch 69/200\n",
            "439/439 [==============================] - 1s 3ms/step - loss: 0.2116 - mean_absolute_error: 0.3145 - mean_squared_error: 0.2116 - val_loss: 0.2225 - val_mean_absolute_error: 0.3254 - val_mean_squared_error: 0.2225\n",
            "Epoch 70/200\n",
            "439/439 [==============================] - 1s 2ms/step - loss: 0.2120 - mean_absolute_error: 0.3133 - mean_squared_error: 0.2120 - val_loss: 0.2201 - val_mean_absolute_error: 0.3276 - val_mean_squared_error: 0.2201\n",
            "Epoch 71/200\n",
            "439/439 [==============================] - 1s 2ms/step - loss: 0.2119 - mean_absolute_error: 0.3133 - mean_squared_error: 0.2119 - val_loss: 0.2270 - val_mean_absolute_error: 0.3209 - val_mean_squared_error: 0.2270\n",
            "Epoch 72/200\n",
            "439/439 [==============================] - 1s 2ms/step - loss: 0.2108 - mean_absolute_error: 0.3133 - mean_squared_error: 0.2108 - val_loss: 0.2209 - val_mean_absolute_error: 0.3216 - val_mean_squared_error: 0.2209\n",
            "Epoch 73/200\n",
            "439/439 [==============================] - 1s 2ms/step - loss: 0.2113 - mean_absolute_error: 0.3145 - mean_squared_error: 0.2113 - val_loss: 0.2219 - val_mean_absolute_error: 0.3279 - val_mean_squared_error: 0.2219\n",
            "Epoch 74/200\n",
            "439/439 [==============================] - 1s 2ms/step - loss: 0.2106 - mean_absolute_error: 0.3125 - mean_squared_error: 0.2106 - val_loss: 0.2177 - val_mean_absolute_error: 0.3224 - val_mean_squared_error: 0.2177\n",
            "Epoch 75/200\n",
            "439/439 [==============================] - 1s 2ms/step - loss: 0.2104 - mean_absolute_error: 0.3127 - mean_squared_error: 0.2104 - val_loss: 0.2253 - val_mean_absolute_error: 0.3217 - val_mean_squared_error: 0.2253\n",
            "Epoch 76/200\n",
            "439/439 [==============================] - 1s 2ms/step - loss: 0.2101 - mean_absolute_error: 0.3127 - mean_squared_error: 0.2101 - val_loss: 0.2223 - val_mean_absolute_error: 0.3206 - val_mean_squared_error: 0.2223\n",
            "Epoch 77/200\n",
            "439/439 [==============================] - 1s 2ms/step - loss: 0.2097 - mean_absolute_error: 0.3121 - mean_squared_error: 0.2097 - val_loss: 0.2243 - val_mean_absolute_error: 0.3208 - val_mean_squared_error: 0.2243\n",
            "Epoch 78/200\n",
            "439/439 [==============================] - 1s 2ms/step - loss: 0.2095 - mean_absolute_error: 0.3121 - mean_squared_error: 0.2095 - val_loss: 0.2237 - val_mean_absolute_error: 0.3301 - val_mean_squared_error: 0.2237\n",
            "Epoch 79/200\n",
            "439/439 [==============================] - 1s 2ms/step - loss: 0.2095 - mean_absolute_error: 0.3117 - mean_squared_error: 0.2095 - val_loss: 0.2187 - val_mean_absolute_error: 0.3237 - val_mean_squared_error: 0.2187\n",
            "Epoch 80/200\n",
            "439/439 [==============================] - 1s 2ms/step - loss: 0.2096 - mean_absolute_error: 0.3119 - mean_squared_error: 0.2096 - val_loss: 0.2230 - val_mean_absolute_error: 0.3201 - val_mean_squared_error: 0.2230\n",
            "Epoch 81/200\n",
            "439/439 [==============================] - 1s 2ms/step - loss: 0.2094 - mean_absolute_error: 0.3112 - mean_squared_error: 0.2094 - val_loss: 0.2213 - val_mean_absolute_error: 0.3240 - val_mean_squared_error: 0.2213\n",
            "Epoch 82/200\n",
            "439/439 [==============================] - 1s 2ms/step - loss: 0.2086 - mean_absolute_error: 0.3107 - mean_squared_error: 0.2086 - val_loss: 0.2309 - val_mean_absolute_error: 0.3247 - val_mean_squared_error: 0.2309\n",
            "Epoch 83/200\n",
            "439/439 [==============================] - 1s 2ms/step - loss: 0.2090 - mean_absolute_error: 0.3113 - mean_squared_error: 0.2090 - val_loss: 0.2190 - val_mean_absolute_error: 0.3251 - val_mean_squared_error: 0.2190\n",
            "Epoch 84/200\n",
            "439/439 [==============================] - 1s 2ms/step - loss: 0.2081 - mean_absolute_error: 0.3105 - mean_squared_error: 0.2081 - val_loss: 0.2391 - val_mean_absolute_error: 0.3536 - val_mean_squared_error: 0.2391\n",
            "Epoch 85/200\n",
            "439/439 [==============================] - 1s 2ms/step - loss: 0.2074 - mean_absolute_error: 0.3117 - mean_squared_error: 0.2074 - val_loss: 0.2310 - val_mean_absolute_error: 0.3436 - val_mean_squared_error: 0.2310\n",
            "Epoch 86/200\n",
            "439/439 [==============================] - 1s 2ms/step - loss: 0.2083 - mean_absolute_error: 0.3104 - mean_squared_error: 0.2083 - val_loss: 0.2209 - val_mean_absolute_error: 0.3303 - val_mean_squared_error: 0.2209\n",
            "Epoch 87/200\n",
            "439/439 [==============================] - 1s 2ms/step - loss: 0.2072 - mean_absolute_error: 0.3102 - mean_squared_error: 0.2072 - val_loss: 0.2194 - val_mean_absolute_error: 0.3244 - val_mean_squared_error: 0.2194\n",
            "Epoch 88/200\n",
            "439/439 [==============================] - 1s 2ms/step - loss: 0.2077 - mean_absolute_error: 0.3108 - mean_squared_error: 0.2077 - val_loss: 0.2258 - val_mean_absolute_error: 0.3240 - val_mean_squared_error: 0.2258\n",
            "Epoch 89/200\n",
            "439/439 [==============================] - 1s 2ms/step - loss: 0.2073 - mean_absolute_error: 0.3104 - mean_squared_error: 0.2073 - val_loss: 0.2161 - val_mean_absolute_error: 0.3212 - val_mean_squared_error: 0.2161\n",
            "Epoch 90/200\n",
            "439/439 [==============================] - 1s 2ms/step - loss: 0.2060 - mean_absolute_error: 0.3100 - mean_squared_error: 0.2060 - val_loss: 0.2299 - val_mean_absolute_error: 0.3262 - val_mean_squared_error: 0.2299\n",
            "Epoch 91/200\n",
            "439/439 [==============================] - 1s 2ms/step - loss: 0.2060 - mean_absolute_error: 0.3094 - mean_squared_error: 0.2060 - val_loss: 0.2258 - val_mean_absolute_error: 0.3369 - val_mean_squared_error: 0.2258\n",
            "Epoch 92/200\n",
            "439/439 [==============================] - 1s 2ms/step - loss: 0.2056 - mean_absolute_error: 0.3095 - mean_squared_error: 0.2056 - val_loss: 0.2210 - val_mean_absolute_error: 0.3267 - val_mean_squared_error: 0.2210\n",
            "Epoch 93/200\n",
            "439/439 [==============================] - 1s 2ms/step - loss: 0.2063 - mean_absolute_error: 0.3099 - mean_squared_error: 0.2063 - val_loss: 0.2165 - val_mean_absolute_error: 0.3168 - val_mean_squared_error: 0.2165\n",
            "Epoch 94/200\n",
            "439/439 [==============================] - 1s 2ms/step - loss: 0.2060 - mean_absolute_error: 0.3086 - mean_squared_error: 0.2060 - val_loss: 0.2188 - val_mean_absolute_error: 0.3187 - val_mean_squared_error: 0.2188\n",
            "Epoch 95/200\n",
            "439/439 [==============================] - 1s 2ms/step - loss: 0.2060 - mean_absolute_error: 0.3085 - mean_squared_error: 0.2060 - val_loss: 0.2232 - val_mean_absolute_error: 0.3255 - val_mean_squared_error: 0.2232\n",
            "Epoch 96/200\n",
            "439/439 [==============================] - 1s 2ms/step - loss: 0.2055 - mean_absolute_error: 0.3090 - mean_squared_error: 0.2055 - val_loss: 0.2215 - val_mean_absolute_error: 0.3179 - val_mean_squared_error: 0.2215\n",
            "Epoch 97/200\n",
            "439/439 [==============================] - 1s 2ms/step - loss: 0.2050 - mean_absolute_error: 0.3087 - mean_squared_error: 0.2050 - val_loss: 0.2195 - val_mean_absolute_error: 0.3191 - val_mean_squared_error: 0.2195\n",
            "Epoch 98/200\n",
            "439/439 [==============================] - 1s 2ms/step - loss: 0.2058 - mean_absolute_error: 0.3096 - mean_squared_error: 0.2058 - val_loss: 0.2193 - val_mean_absolute_error: 0.3177 - val_mean_squared_error: 0.2193\n",
            "Epoch 99/200\n",
            "439/439 [==============================] - 1s 2ms/step - loss: 0.2050 - mean_absolute_error: 0.3081 - mean_squared_error: 0.2050 - val_loss: 0.2178 - val_mean_absolute_error: 0.3211 - val_mean_squared_error: 0.2178\n",
            "Epoch 100/200\n",
            "439/439 [==============================] - 1s 3ms/step - loss: 0.2049 - mean_absolute_error: 0.3090 - mean_squared_error: 0.2049 - val_loss: 0.2206 - val_mean_absolute_error: 0.3295 - val_mean_squared_error: 0.2206\n",
            "Epoch 101/200\n",
            "439/439 [==============================] - 1s 2ms/step - loss: 0.2049 - mean_absolute_error: 0.3091 - mean_squared_error: 0.2049 - val_loss: 0.2148 - val_mean_absolute_error: 0.3153 - val_mean_squared_error: 0.2148\n",
            "Epoch 102/200\n",
            "439/439 [==============================] - 1s 2ms/step - loss: 0.2039 - mean_absolute_error: 0.3082 - mean_squared_error: 0.2039 - val_loss: 0.2216 - val_mean_absolute_error: 0.3335 - val_mean_squared_error: 0.2216\n",
            "Epoch 103/200\n",
            "439/439 [==============================] - 1s 2ms/step - loss: 0.2044 - mean_absolute_error: 0.3085 - mean_squared_error: 0.2044 - val_loss: 0.2183 - val_mean_absolute_error: 0.3173 - val_mean_squared_error: 0.2183\n",
            "Epoch 104/200\n",
            "439/439 [==============================] - 1s 2ms/step - loss: 0.2042 - mean_absolute_error: 0.3085 - mean_squared_error: 0.2042 - val_loss: 0.2205 - val_mean_absolute_error: 0.3244 - val_mean_squared_error: 0.2205\n",
            "Epoch 105/200\n",
            "439/439 [==============================] - 1s 3ms/step - loss: 0.2046 - mean_absolute_error: 0.3079 - mean_squared_error: 0.2046 - val_loss: 0.2226 - val_mean_absolute_error: 0.3313 - val_mean_squared_error: 0.2226\n",
            "Epoch 106/200\n",
            "439/439 [==============================] - 1s 2ms/step - loss: 0.2040 - mean_absolute_error: 0.3079 - mean_squared_error: 0.2040 - val_loss: 0.2194 - val_mean_absolute_error: 0.3188 - val_mean_squared_error: 0.2194\n",
            "Epoch 107/200\n",
            "439/439 [==============================] - 1s 2ms/step - loss: 0.2039 - mean_absolute_error: 0.3080 - mean_squared_error: 0.2039 - val_loss: 0.2152 - val_mean_absolute_error: 0.3180 - val_mean_squared_error: 0.2152\n",
            "Epoch 108/200\n",
            "439/439 [==============================] - 1s 2ms/step - loss: 0.2039 - mean_absolute_error: 0.3081 - mean_squared_error: 0.2039 - val_loss: 0.2188 - val_mean_absolute_error: 0.3186 - val_mean_squared_error: 0.2188\n",
            "Epoch 109/200\n",
            "439/439 [==============================] - 1s 2ms/step - loss: 0.2037 - mean_absolute_error: 0.3078 - mean_squared_error: 0.2037 - val_loss: 0.2189 - val_mean_absolute_error: 0.3197 - val_mean_squared_error: 0.2189\n",
            "Epoch 110/200\n",
            "439/439 [==============================] - 1s 2ms/step - loss: 0.2034 - mean_absolute_error: 0.3078 - mean_squared_error: 0.2034 - val_loss: 0.2162 - val_mean_absolute_error: 0.3178 - val_mean_squared_error: 0.2162\n",
            "Epoch 111/200\n",
            "439/439 [==============================] - 1s 2ms/step - loss: 0.2028 - mean_absolute_error: 0.3078 - mean_squared_error: 0.2028 - val_loss: 0.2163 - val_mean_absolute_error: 0.3209 - val_mean_squared_error: 0.2163\n",
            "Epoch 112/200\n",
            "439/439 [==============================] - 1s 2ms/step - loss: 0.2034 - mean_absolute_error: 0.3073 - mean_squared_error: 0.2034 - val_loss: 0.2184 - val_mean_absolute_error: 0.3214 - val_mean_squared_error: 0.2184\n",
            "Epoch 113/200\n",
            "439/439 [==============================] - 1s 2ms/step - loss: 0.2026 - mean_absolute_error: 0.3078 - mean_squared_error: 0.2026 - val_loss: 0.2168 - val_mean_absolute_error: 0.3190 - val_mean_squared_error: 0.2168\n",
            "Epoch 114/200\n",
            "439/439 [==============================] - 1s 2ms/step - loss: 0.2031 - mean_absolute_error: 0.3086 - mean_squared_error: 0.2031 - val_loss: 0.2220 - val_mean_absolute_error: 0.3240 - val_mean_squared_error: 0.2220\n",
            "Epoch 115/200\n",
            "439/439 [==============================] - 1s 2ms/step - loss: 0.2028 - mean_absolute_error: 0.3071 - mean_squared_error: 0.2028 - val_loss: 0.2138 - val_mean_absolute_error: 0.3168 - val_mean_squared_error: 0.2138\n",
            "Epoch 116/200\n",
            "439/439 [==============================] - 1s 2ms/step - loss: 0.2030 - mean_absolute_error: 0.3069 - mean_squared_error: 0.2030 - val_loss: 0.2181 - val_mean_absolute_error: 0.3153 - val_mean_squared_error: 0.2181\n",
            "Epoch 117/200\n",
            "439/439 [==============================] - 1s 2ms/step - loss: 0.2024 - mean_absolute_error: 0.3069 - mean_squared_error: 0.2024 - val_loss: 0.2156 - val_mean_absolute_error: 0.3144 - val_mean_squared_error: 0.2156\n",
            "Epoch 118/200\n",
            "439/439 [==============================] - 1s 2ms/step - loss: 0.2026 - mean_absolute_error: 0.3069 - mean_squared_error: 0.2026 - val_loss: 0.2201 - val_mean_absolute_error: 0.3246 - val_mean_squared_error: 0.2201\n",
            "Epoch 119/200\n",
            "439/439 [==============================] - 1s 2ms/step - loss: 0.2018 - mean_absolute_error: 0.3065 - mean_squared_error: 0.2018 - val_loss: 0.2283 - val_mean_absolute_error: 0.3278 - val_mean_squared_error: 0.2283\n",
            "Epoch 120/200\n",
            "439/439 [==============================] - 1s 2ms/step - loss: 0.2019 - mean_absolute_error: 0.3072 - mean_squared_error: 0.2019 - val_loss: 0.2142 - val_mean_absolute_error: 0.3190 - val_mean_squared_error: 0.2142\n",
            "Epoch 121/200\n",
            "439/439 [==============================] - 1s 2ms/step - loss: 0.2017 - mean_absolute_error: 0.3066 - mean_squared_error: 0.2017 - val_loss: 0.2177 - val_mean_absolute_error: 0.3224 - val_mean_squared_error: 0.2177\n",
            "Epoch 122/200\n",
            "439/439 [==============================] - 1s 3ms/step - loss: 0.2016 - mean_absolute_error: 0.3070 - mean_squared_error: 0.2016 - val_loss: 0.2128 - val_mean_absolute_error: 0.3174 - val_mean_squared_error: 0.2128\n",
            "Epoch 123/200\n",
            "439/439 [==============================] - 1s 2ms/step - loss: 0.2015 - mean_absolute_error: 0.3056 - mean_squared_error: 0.2015 - val_loss: 0.2139 - val_mean_absolute_error: 0.3131 - val_mean_squared_error: 0.2139\n",
            "Epoch 124/200\n",
            "439/439 [==============================] - 2s 4ms/step - loss: 0.2014 - mean_absolute_error: 0.3065 - mean_squared_error: 0.2014 - val_loss: 0.2165 - val_mean_absolute_error: 0.3213 - val_mean_squared_error: 0.2165\n",
            "Epoch 125/200\n",
            "439/439 [==============================] - 2s 4ms/step - loss: 0.2018 - mean_absolute_error: 0.3061 - mean_squared_error: 0.2018 - val_loss: 0.2125 - val_mean_absolute_error: 0.3166 - val_mean_squared_error: 0.2125\n",
            "Epoch 126/200\n",
            "439/439 [==============================] - 2s 4ms/step - loss: 0.2002 - mean_absolute_error: 0.3054 - mean_squared_error: 0.2002 - val_loss: 0.2148 - val_mean_absolute_error: 0.3194 - val_mean_squared_error: 0.2148\n",
            "Epoch 127/200\n",
            "439/439 [==============================] - 1s 3ms/step - loss: 0.2007 - mean_absolute_error: 0.3046 - mean_squared_error: 0.2007 - val_loss: 0.2199 - val_mean_absolute_error: 0.3262 - val_mean_squared_error: 0.2199\n",
            "Epoch 128/200\n",
            "439/439 [==============================] - 1s 3ms/step - loss: 0.2013 - mean_absolute_error: 0.3065 - mean_squared_error: 0.2013 - val_loss: 0.2143 - val_mean_absolute_error: 0.3162 - val_mean_squared_error: 0.2143\n",
            "Epoch 129/200\n",
            "439/439 [==============================] - 1s 3ms/step - loss: 0.2013 - mean_absolute_error: 0.3057 - mean_squared_error: 0.2013 - val_loss: 0.2114 - val_mean_absolute_error: 0.3128 - val_mean_squared_error: 0.2114\n",
            "Epoch 130/200\n",
            "439/439 [==============================] - 1s 3ms/step - loss: 0.2009 - mean_absolute_error: 0.3055 - mean_squared_error: 0.2009 - val_loss: 0.2129 - val_mean_absolute_error: 0.3129 - val_mean_squared_error: 0.2129\n",
            "Epoch 131/200\n",
            "439/439 [==============================] - 1s 2ms/step - loss: 0.2008 - mean_absolute_error: 0.3051 - mean_squared_error: 0.2008 - val_loss: 0.2132 - val_mean_absolute_error: 0.3155 - val_mean_squared_error: 0.2132\n",
            "Epoch 132/200\n",
            "439/439 [==============================] - 1s 2ms/step - loss: 0.2005 - mean_absolute_error: 0.3063 - mean_squared_error: 0.2005 - val_loss: 0.2180 - val_mean_absolute_error: 0.3316 - val_mean_squared_error: 0.2180\n",
            "Epoch 133/200\n",
            "439/439 [==============================] - 1s 3ms/step - loss: 0.1997 - mean_absolute_error: 0.3046 - mean_squared_error: 0.1997 - val_loss: 0.2111 - val_mean_absolute_error: 0.3178 - val_mean_squared_error: 0.2111\n",
            "Epoch 134/200\n",
            "439/439 [==============================] - 1s 2ms/step - loss: 0.1992 - mean_absolute_error: 0.3051 - mean_squared_error: 0.1992 - val_loss: 0.2167 - val_mean_absolute_error: 0.3177 - val_mean_squared_error: 0.2167\n",
            "Epoch 135/200\n",
            "439/439 [==============================] - 1s 3ms/step - loss: 0.2009 - mean_absolute_error: 0.3058 - mean_squared_error: 0.2009 - val_loss: 0.2102 - val_mean_absolute_error: 0.3189 - val_mean_squared_error: 0.2102\n",
            "Epoch 136/200\n",
            "439/439 [==============================] - 1s 3ms/step - loss: 0.2000 - mean_absolute_error: 0.3051 - mean_squared_error: 0.2000 - val_loss: 0.2147 - val_mean_absolute_error: 0.3149 - val_mean_squared_error: 0.2147\n",
            "Epoch 137/200\n",
            "439/439 [==============================] - 1s 2ms/step - loss: 0.1993 - mean_absolute_error: 0.3042 - mean_squared_error: 0.1993 - val_loss: 0.2129 - val_mean_absolute_error: 0.3136 - val_mean_squared_error: 0.2129\n",
            "Epoch 138/200\n",
            "439/439 [==============================] - 1s 2ms/step - loss: 0.1999 - mean_absolute_error: 0.3046 - mean_squared_error: 0.1999 - val_loss: 0.2182 - val_mean_absolute_error: 0.3162 - val_mean_squared_error: 0.2182\n",
            "Epoch 139/200\n",
            "439/439 [==============================] - 1s 3ms/step - loss: 0.1993 - mean_absolute_error: 0.3041 - mean_squared_error: 0.1993 - val_loss: 0.2154 - val_mean_absolute_error: 0.3209 - val_mean_squared_error: 0.2154\n",
            "Epoch 140/200\n",
            "439/439 [==============================] - 1s 2ms/step - loss: 0.1997 - mean_absolute_error: 0.3046 - mean_squared_error: 0.1997 - val_loss: 0.2161 - val_mean_absolute_error: 0.3150 - val_mean_squared_error: 0.2161\n",
            "Epoch 141/200\n",
            "439/439 [==============================] - 1s 2ms/step - loss: 0.1994 - mean_absolute_error: 0.3030 - mean_squared_error: 0.1994 - val_loss: 0.2171 - val_mean_absolute_error: 0.3174 - val_mean_squared_error: 0.2171\n",
            "Epoch 142/200\n",
            "439/439 [==============================] - 1s 2ms/step - loss: 0.1992 - mean_absolute_error: 0.3046 - mean_squared_error: 0.1992 - val_loss: 0.2154 - val_mean_absolute_error: 0.3183 - val_mean_squared_error: 0.2154\n",
            "Epoch 143/200\n",
            "439/439 [==============================] - 1s 2ms/step - loss: 0.1986 - mean_absolute_error: 0.3039 - mean_squared_error: 0.1986 - val_loss: 0.2109 - val_mean_absolute_error: 0.3137 - val_mean_squared_error: 0.2109\n",
            "Epoch 144/200\n",
            "439/439 [==============================] - 1s 2ms/step - loss: 0.1983 - mean_absolute_error: 0.3035 - mean_squared_error: 0.1983 - val_loss: 0.2130 - val_mean_absolute_error: 0.3225 - val_mean_squared_error: 0.2130\n",
            "Epoch 145/200\n",
            "439/439 [==============================] - 1s 3ms/step - loss: 0.1981 - mean_absolute_error: 0.3043 - mean_squared_error: 0.1981 - val_loss: 0.2149 - val_mean_absolute_error: 0.3188 - val_mean_squared_error: 0.2149\n",
            "Epoch 146/200\n",
            "439/439 [==============================] - 1s 2ms/step - loss: 0.1985 - mean_absolute_error: 0.3038 - mean_squared_error: 0.1985 - val_loss: 0.2122 - val_mean_absolute_error: 0.3208 - val_mean_squared_error: 0.2122\n",
            "Epoch 147/200\n",
            "439/439 [==============================] - 1s 2ms/step - loss: 0.1991 - mean_absolute_error: 0.3042 - mean_squared_error: 0.1991 - val_loss: 0.2151 - val_mean_absolute_error: 0.3168 - val_mean_squared_error: 0.2151\n",
            "Epoch 148/200\n",
            "439/439 [==============================] - 1s 2ms/step - loss: 0.1988 - mean_absolute_error: 0.3037 - mean_squared_error: 0.1988 - val_loss: 0.2110 - val_mean_absolute_error: 0.3148 - val_mean_squared_error: 0.2110\n",
            "Epoch 149/200\n",
            "439/439 [==============================] - 1s 2ms/step - loss: 0.1986 - mean_absolute_error: 0.3041 - mean_squared_error: 0.1986 - val_loss: 0.2188 - val_mean_absolute_error: 0.3253 - val_mean_squared_error: 0.2188\n",
            "Epoch 150/200\n",
            "439/439 [==============================] - 1s 2ms/step - loss: 0.1973 - mean_absolute_error: 0.3033 - mean_squared_error: 0.1973 - val_loss: 0.2387 - val_mean_absolute_error: 0.3616 - val_mean_squared_error: 0.2387\n",
            "Epoch 151/200\n",
            "439/439 [==============================] - 1s 2ms/step - loss: 0.1980 - mean_absolute_error: 0.3031 - mean_squared_error: 0.1980 - val_loss: 0.2138 - val_mean_absolute_error: 0.3197 - val_mean_squared_error: 0.2138\n",
            "Epoch 152/200\n",
            "439/439 [==============================] - 1s 2ms/step - loss: 0.1983 - mean_absolute_error: 0.3032 - mean_squared_error: 0.1983 - val_loss: 0.2154 - val_mean_absolute_error: 0.3295 - val_mean_squared_error: 0.2154\n",
            "Epoch 153/200\n",
            "439/439 [==============================] - 1s 2ms/step - loss: 0.1973 - mean_absolute_error: 0.3029 - mean_squared_error: 0.1973 - val_loss: 0.2168 - val_mean_absolute_error: 0.3150 - val_mean_squared_error: 0.2168\n",
            "Epoch 154/200\n",
            "439/439 [==============================] - 1s 2ms/step - loss: 0.1975 - mean_absolute_error: 0.3027 - mean_squared_error: 0.1975 - val_loss: 0.2255 - val_mean_absolute_error: 0.3426 - val_mean_squared_error: 0.2255\n",
            "Epoch 155/200\n",
            "439/439 [==============================] - 1s 2ms/step - loss: 0.1961 - mean_absolute_error: 0.3019 - mean_squared_error: 0.1961 - val_loss: 0.2111 - val_mean_absolute_error: 0.3138 - val_mean_squared_error: 0.2111\n",
            "Epoch 156/200\n",
            "439/439 [==============================] - 1s 2ms/step - loss: 0.1969 - mean_absolute_error: 0.3030 - mean_squared_error: 0.1969 - val_loss: 0.2187 - val_mean_absolute_error: 0.3339 - val_mean_squared_error: 0.2187\n",
            "Epoch 157/200\n",
            "439/439 [==============================] - 1s 2ms/step - loss: 0.1970 - mean_absolute_error: 0.3027 - mean_squared_error: 0.1970 - val_loss: 0.2096 - val_mean_absolute_error: 0.3131 - val_mean_squared_error: 0.2096\n",
            "Epoch 158/200\n",
            "439/439 [==============================] - 1s 2ms/step - loss: 0.1980 - mean_absolute_error: 0.3038 - mean_squared_error: 0.1980 - val_loss: 0.2112 - val_mean_absolute_error: 0.3185 - val_mean_squared_error: 0.2112\n",
            "Epoch 159/200\n",
            "439/439 [==============================] - 1s 2ms/step - loss: 0.1971 - mean_absolute_error: 0.3034 - mean_squared_error: 0.1971 - val_loss: 0.2160 - val_mean_absolute_error: 0.3238 - val_mean_squared_error: 0.2160\n",
            "Epoch 160/200\n",
            "439/439 [==============================] - 1s 2ms/step - loss: 0.1971 - mean_absolute_error: 0.3034 - mean_squared_error: 0.1971 - val_loss: 0.2121 - val_mean_absolute_error: 0.3133 - val_mean_squared_error: 0.2121\n",
            "Epoch 161/200\n",
            "439/439 [==============================] - 1s 2ms/step - loss: 0.1962 - mean_absolute_error: 0.3024 - mean_squared_error: 0.1962 - val_loss: 0.2124 - val_mean_absolute_error: 0.3185 - val_mean_squared_error: 0.2124\n",
            "Epoch 162/200\n",
            "439/439 [==============================] - 1s 2ms/step - loss: 0.1968 - mean_absolute_error: 0.3029 - mean_squared_error: 0.1968 - val_loss: 0.2120 - val_mean_absolute_error: 0.3165 - val_mean_squared_error: 0.2120\n",
            "Epoch 163/200\n",
            "439/439 [==============================] - 1s 2ms/step - loss: 0.1967 - mean_absolute_error: 0.3021 - mean_squared_error: 0.1967 - val_loss: 0.2201 - val_mean_absolute_error: 0.3184 - val_mean_squared_error: 0.2201\n",
            "Epoch 164/200\n",
            "439/439 [==============================] - 1s 2ms/step - loss: 0.1970 - mean_absolute_error: 0.3031 - mean_squared_error: 0.1970 - val_loss: 0.2113 - val_mean_absolute_error: 0.3143 - val_mean_squared_error: 0.2113\n",
            "Epoch 165/200\n",
            "439/439 [==============================] - 1s 2ms/step - loss: 0.1959 - mean_absolute_error: 0.3020 - mean_squared_error: 0.1959 - val_loss: 0.2131 - val_mean_absolute_error: 0.3160 - val_mean_squared_error: 0.2131\n",
            "Epoch 166/200\n",
            "439/439 [==============================] - 1s 3ms/step - loss: 0.1955 - mean_absolute_error: 0.3019 - mean_squared_error: 0.1955 - val_loss: 0.2146 - val_mean_absolute_error: 0.3206 - val_mean_squared_error: 0.2146\n",
            "Epoch 167/200\n",
            "439/439 [==============================] - 1s 2ms/step - loss: 0.1957 - mean_absolute_error: 0.3024 - mean_squared_error: 0.1957 - val_loss: 0.2256 - val_mean_absolute_error: 0.3474 - val_mean_squared_error: 0.2256\n",
            "Epoch 168/200\n",
            "439/439 [==============================] - 1s 2ms/step - loss: 0.1962 - mean_absolute_error: 0.3019 - mean_squared_error: 0.1962 - val_loss: 0.2112 - val_mean_absolute_error: 0.3144 - val_mean_squared_error: 0.2112\n",
            "Epoch 169/200\n",
            "439/439 [==============================] - 1s 2ms/step - loss: 0.1960 - mean_absolute_error: 0.3029 - mean_squared_error: 0.1960 - val_loss: 0.2140 - val_mean_absolute_error: 0.3156 - val_mean_squared_error: 0.2140\n",
            "Epoch 170/200\n",
            "439/439 [==============================] - 1s 2ms/step - loss: 0.1954 - mean_absolute_error: 0.3014 - mean_squared_error: 0.1954 - val_loss: 0.2195 - val_mean_absolute_error: 0.3331 - val_mean_squared_error: 0.2195\n",
            "Epoch 171/200\n",
            "439/439 [==============================] - 1s 2ms/step - loss: 0.1957 - mean_absolute_error: 0.3021 - mean_squared_error: 0.1957 - val_loss: 0.2282 - val_mean_absolute_error: 0.3259 - val_mean_squared_error: 0.2282\n",
            "Epoch 172/200\n",
            "439/439 [==============================] - 1s 3ms/step - loss: 0.1951 - mean_absolute_error: 0.3022 - mean_squared_error: 0.1951 - val_loss: 0.2110 - val_mean_absolute_error: 0.3166 - val_mean_squared_error: 0.2110\n",
            "Epoch 173/200\n",
            "439/439 [==============================] - 1s 2ms/step - loss: 0.1961 - mean_absolute_error: 0.3022 - mean_squared_error: 0.1961 - val_loss: 0.2100 - val_mean_absolute_error: 0.3220 - val_mean_squared_error: 0.2100\n",
            "Epoch 174/200\n",
            "439/439 [==============================] - 1s 3ms/step - loss: 0.1952 - mean_absolute_error: 0.3009 - mean_squared_error: 0.1952 - val_loss: 0.2161 - val_mean_absolute_error: 0.3158 - val_mean_squared_error: 0.2161\n",
            "Epoch 175/200\n",
            "439/439 [==============================] - 1s 2ms/step - loss: 0.1947 - mean_absolute_error: 0.3004 - mean_squared_error: 0.1947 - val_loss: 0.2118 - val_mean_absolute_error: 0.3189 - val_mean_squared_error: 0.2118\n",
            "Epoch 176/200\n",
            "439/439 [==============================] - 1s 3ms/step - loss: 0.1947 - mean_absolute_error: 0.3014 - mean_squared_error: 0.1947 - val_loss: 0.2130 - val_mean_absolute_error: 0.3166 - val_mean_squared_error: 0.2130\n",
            "Epoch 177/200\n",
            "439/439 [==============================] - 1s 3ms/step - loss: 0.1953 - mean_absolute_error: 0.3024 - mean_squared_error: 0.1953 - val_loss: 0.2106 - val_mean_absolute_error: 0.3158 - val_mean_squared_error: 0.2106\n",
            "Epoch 178/200\n",
            "439/439 [==============================] - 1s 2ms/step - loss: 0.1950 - mean_absolute_error: 0.3010 - mean_squared_error: 0.1950 - val_loss: 0.2101 - val_mean_absolute_error: 0.3156 - val_mean_squared_error: 0.2101\n",
            "Epoch 179/200\n",
            "439/439 [==============================] - 1s 3ms/step - loss: 0.1955 - mean_absolute_error: 0.3014 - mean_squared_error: 0.1955 - val_loss: 0.2145 - val_mean_absolute_error: 0.3182 - val_mean_squared_error: 0.2145\n",
            "Epoch 180/200\n",
            "439/439 [==============================] - 1s 2ms/step - loss: 0.1951 - mean_absolute_error: 0.3012 - mean_squared_error: 0.1951 - val_loss: 0.2170 - val_mean_absolute_error: 0.3143 - val_mean_squared_error: 0.2170\n",
            "Epoch 181/200\n",
            "439/439 [==============================] - 1s 3ms/step - loss: 0.1948 - mean_absolute_error: 0.3010 - mean_squared_error: 0.1948 - val_loss: 0.2134 - val_mean_absolute_error: 0.3170 - val_mean_squared_error: 0.2134\n",
            "Epoch 182/200\n",
            "439/439 [==============================] - 1s 3ms/step - loss: 0.1940 - mean_absolute_error: 0.3004 - mean_squared_error: 0.1940 - val_loss: 0.2123 - val_mean_absolute_error: 0.3139 - val_mean_squared_error: 0.2123\n",
            "Epoch 183/200\n",
            "439/439 [==============================] - 1s 3ms/step - loss: 0.1949 - mean_absolute_error: 0.3016 - mean_squared_error: 0.1949 - val_loss: 0.2189 - val_mean_absolute_error: 0.3208 - val_mean_squared_error: 0.2189\n",
            "Epoch 184/200\n",
            "439/439 [==============================] - 1s 2ms/step - loss: 0.1946 - mean_absolute_error: 0.3011 - mean_squared_error: 0.1946 - val_loss: 0.2365 - val_mean_absolute_error: 0.3293 - val_mean_squared_error: 0.2365\n",
            "Epoch 185/200\n",
            "439/439 [==============================] - 1s 2ms/step - loss: 0.1946 - mean_absolute_error: 0.2998 - mean_squared_error: 0.1946 - val_loss: 0.2167 - val_mean_absolute_error: 0.3303 - val_mean_squared_error: 0.2167\n",
            "Epoch 186/200\n",
            "439/439 [==============================] - 1s 2ms/step - loss: 0.1934 - mean_absolute_error: 0.3004 - mean_squared_error: 0.1934 - val_loss: 0.2129 - val_mean_absolute_error: 0.3182 - val_mean_squared_error: 0.2129\n",
            "Epoch 187/200\n",
            "439/439 [==============================] - 1s 3ms/step - loss: 0.1940 - mean_absolute_error: 0.3007 - mean_squared_error: 0.1940 - val_loss: 0.2198 - val_mean_absolute_error: 0.3178 - val_mean_squared_error: 0.2198\n",
            "Epoch 188/200\n",
            "439/439 [==============================] - 1s 3ms/step - loss: 0.1941 - mean_absolute_error: 0.3007 - mean_squared_error: 0.1941 - val_loss: 0.2100 - val_mean_absolute_error: 0.3188 - val_mean_squared_error: 0.2100\n",
            "Epoch 189/200\n",
            "439/439 [==============================] - 1s 3ms/step - loss: 0.1934 - mean_absolute_error: 0.3006 - mean_squared_error: 0.1934 - val_loss: 0.2128 - val_mean_absolute_error: 0.3159 - val_mean_squared_error: 0.2128\n",
            "Epoch 190/200\n",
            "439/439 [==============================] - 1s 3ms/step - loss: 0.1941 - mean_absolute_error: 0.3003 - mean_squared_error: 0.1941 - val_loss: 0.2140 - val_mean_absolute_error: 0.3234 - val_mean_squared_error: 0.2140\n",
            "Epoch 191/200\n",
            "439/439 [==============================] - 1s 3ms/step - loss: 0.1936 - mean_absolute_error: 0.2999 - mean_squared_error: 0.1936 - val_loss: 0.2182 - val_mean_absolute_error: 0.3264 - val_mean_squared_error: 0.2182\n",
            "Epoch 192/200\n",
            "439/439 [==============================] - 1s 3ms/step - loss: 0.1945 - mean_absolute_error: 0.3008 - mean_squared_error: 0.1945 - val_loss: 0.2153 - val_mean_absolute_error: 0.3241 - val_mean_squared_error: 0.2153\n",
            "Epoch 193/200\n",
            "439/439 [==============================] - 1s 2ms/step - loss: 0.1929 - mean_absolute_error: 0.2996 - mean_squared_error: 0.1929 - val_loss: 0.2180 - val_mean_absolute_error: 0.3151 - val_mean_squared_error: 0.2180\n",
            "Epoch 194/200\n",
            "439/439 [==============================] - 1s 3ms/step - loss: 0.1940 - mean_absolute_error: 0.3001 - mean_squared_error: 0.1940 - val_loss: 0.2122 - val_mean_absolute_error: 0.3128 - val_mean_squared_error: 0.2122\n",
            "Epoch 195/200\n",
            "439/439 [==============================] - 1s 2ms/step - loss: 0.1940 - mean_absolute_error: 0.3004 - mean_squared_error: 0.1940 - val_loss: 0.2104 - val_mean_absolute_error: 0.3104 - val_mean_squared_error: 0.2104\n",
            "Epoch 196/200\n",
            "439/439 [==============================] - 1s 3ms/step - loss: 0.1939 - mean_absolute_error: 0.2999 - mean_squared_error: 0.1939 - val_loss: 0.2105 - val_mean_absolute_error: 0.3142 - val_mean_squared_error: 0.2105\n",
            "Epoch 197/200\n",
            "439/439 [==============================] - 1s 3ms/step - loss: 0.1943 - mean_absolute_error: 0.3012 - mean_squared_error: 0.1943 - val_loss: 0.2101 - val_mean_absolute_error: 0.3131 - val_mean_squared_error: 0.2101\n",
            "Epoch 198/200\n",
            "439/439 [==============================] - 1s 2ms/step - loss: 0.1937 - mean_absolute_error: 0.3010 - mean_squared_error: 0.1937 - val_loss: 0.2115 - val_mean_absolute_error: 0.3237 - val_mean_squared_error: 0.2115\n",
            "Epoch 199/200\n",
            "439/439 [==============================] - 1s 3ms/step - loss: 0.1940 - mean_absolute_error: 0.3005 - mean_squared_error: 0.1940 - val_loss: 0.2092 - val_mean_absolute_error: 0.3124 - val_mean_squared_error: 0.2092\n",
            "Epoch 200/200\n",
            "439/439 [==============================] - 1s 2ms/step - loss: 0.1930 - mean_absolute_error: 0.3004 - mean_squared_error: 0.1930 - val_loss: 0.2165 - val_mean_absolute_error: 0.3272 - val_mean_squared_error: 0.2165\n"
          ]
        }
      ]
    },
    {
      "cell_type": "code",
      "source": [
        "# 6.2 Start \n",
        "model.add(tf.keras.layers.Dense(40, activation = 'relu'))  # MAke it 5 and then 20 (not more or less)"
      ],
      "metadata": {
        "id": "fUDftH3BJ_-L"
      },
      "execution_count": 21,
      "outputs": []
    },
    {
      "cell_type": "code",
      "source": [
        "# 6.2.1 Experiment with adding a dropout layer\n",
        "#       but then increase number of units in Dense layer from 20 to 40\n",
        "model.add(tf.keras.layers.Dropout(rate = 0.5 ))"
      ],
      "metadata": {
        "id": "NNAVQxIDwuVk"
      },
      "execution_count": null,
      "outputs": []
    },
    {
      "cell_type": "code",
      "source": [
        "model.add(tf.keras.layers.Dense(20, activation = 'relu'))  \n",
        "model.add(tf.keras.layers.Dropout(rate = 0.5 ))"
      ],
      "metadata": {
        "id": "Dj5lOyfyyDaQ"
      },
      "execution_count": null,
      "outputs": []
    },
    {
      "cell_type": "code",
      "source": [
        "model.add(tf.keras.layers.Dense(10, activation = 'relu'))  \n",
        "#model.add(tf.keras.layers.Dropout(rate = 0.5 ))"
      ],
      "metadata": {
        "id": "8zHYh7XCy2cJ"
      },
      "execution_count": null,
      "outputs": []
    },
    {
      "cell_type": "code",
      "source": [
        "# 6.3 Experiment first with activation of sigmoid\n",
        "#     and then no activation function\n",
        "model.add(tf.keras.layers.Dense(1, activation='sigmoid'))    # Keep sigmoid; then remove sigmoid"
      ],
      "metadata": {
        "id": "glw8SP83KQBL"
      },
      "execution_count": 48,
      "outputs": []
    },
    {
      "cell_type": "code",
      "source": [
        "# 6.4 Model summary:\n",
        "model.summary()"
      ],
      "metadata": {
        "id": "HcfvweBLKWiQ",
        "outputId": "6657d0f1-5d74-40cc-a6e3-9dd92354e4cd",
        "colab": {
          "base_uri": "https://localhost:8080/"
        }
      },
      "execution_count": 67,
      "outputs": [
        {
          "output_type": "stream",
          "name": "stdout",
          "text": [
            "Model: \"sequential_5\"\n",
            "_________________________________________________________________\n",
            " Layer (type)                Output Shape              Param #   \n",
            "=================================================================\n",
            " dense_14 (Dense)            (None, 20)                200       \n",
            "                                                                 \n",
            " dense_15 (Dense)            (None, 20)                420       \n",
            "                                                                 \n",
            " dense_16 (Dense)            (None, 1)                 21        \n",
            "                                                                 \n",
            "=================================================================\n",
            "Total params: 641\n",
            "Trainable params: 641\n",
            "Non-trainable params: 0\n",
            "_________________________________________________________________\n"
          ]
        }
      ]
    },
    {
      "cell_type": "code",
      "source": [
        "model.compile(\n",
        "                 loss = 'mean_squared_error',\n",
        "                 optimizer = 'rmsprop',  # Try first with default optimizer and then with 'adam'\n",
        "                                      #  may not make much difference \n",
        "                 metrics = ['mean_absolute_error', 'mean_squared_error']\n",
        "\n",
        "              )"
      ],
      "metadata": {
        "id": "qIC9tSuxbOX-"
      },
      "execution_count": 68,
      "outputs": []
    },
    {
      "cell_type": "code",
      "source": [
        "# 6.5 Compile model\n",
        "#     Expt with adam\n",
        "model.compile(\n",
        "                 loss = 'mae',\n",
        "                 optimizer = 'adam',  # Try first with default optimizer and then with 'adam'\n",
        "                                      #  may not make much difference \n",
        "                 metrics = ['mae']\n",
        "\n",
        "              )"
      ],
      "metadata": {
        "id": "6LLk36OpKYIJ"
      },
      "execution_count": null,
      "outputs": []
    },
    {
      "cell_type": "code",
      "source": [
        "history = model.fit(X_train,y_tr,\n",
        "                    epochs = 200,\n",
        "                    validation_split=0.2\n",
        "                   )"
      ],
      "metadata": {
        "id": "6dxb9j2abuaM"
      },
      "execution_count": null,
      "outputs": []
    },
    {
      "cell_type": "code",
      "source": [
        "history.history.keys()"
      ],
      "metadata": {
        "id": "qz65DxM4eIaY",
        "outputId": "a38a2e90-7bce-4ba4-cbcf-98cea6cc06cb",
        "colab": {
          "base_uri": "https://localhost:8080/"
        }
      },
      "execution_count": 37,
      "outputs": [
        {
          "output_type": "execute_result",
          "data": {
            "text/plain": [
              "dict_keys(['loss', 'mean_absolute_error', 'mean_squared_error', 'val_loss', 'val_mean_absolute_error', 'val_mean_squared_error'])"
            ]
          },
          "metadata": {},
          "execution_count": 37
        }
      ]
    },
    {
      "cell_type": "code",
      "source": [
        "plt.plot(history.history['loss'], label='tr_loss')\n",
        "plt.plot(history.history['mean_absolute_error'], label='val loss')\n",
        "plt.legend()"
      ],
      "metadata": {
        "id": "xYsJUREWejAG",
        "outputId": "72c1de01-e2c7-4d15-d3fc-19a7c1f41ec9",
        "colab": {
          "base_uri": "https://localhost:8080/",
          "height": 283
        }
      },
      "execution_count": 111,
      "outputs": [
        {
          "output_type": "execute_result",
          "data": {
            "text/plain": [
              "<matplotlib.legend.Legend at 0x7f76894b7b50>"
            ]
          },
          "metadata": {},
          "execution_count": 111
        },
        {
          "output_type": "display_data",
          "data": {
            "text/plain": [
              "<Figure size 432x288 with 1 Axes>"
            ],
            "image/png": "[encoded data removed]"
          },
          "metadata": {
            "needs_background": "light"
          }
        }
      ]
    },
    {
      "cell_type": "code",
      "source": [],
      "metadata": {
        "id": "MOAgnK3oeDSX"
      },
      "execution_count": null,
      "outputs": []
    },
    {
      "cell_type": "code",
      "source": [
        "# 7.0\n",
        "history = model.fit(X_train,y_train,\n",
        "                    epochs = 70,\n",
        "                    validation_data = (X_test, y_test)\n",
        "                   )"
      ],
      "metadata": {
        "id": "SxH9wqFAKj6R",
        "outputId": "52d1473b-e7b6-45c8-b34b-3f7782f45c09",
        "colab": {
          "base_uri": "https://localhost:8080/"
        }
      },
      "execution_count": null,
      "outputs": [
        {
          "output_type": "stream",
          "name": "stdout",
          "text": [
            "Epoch 1/70\n",
            "549/549 [==============================] - 2s 3ms/step - loss: 202302.9844 - mae: 202302.9844 - val_loss: 185277.0000 - val_mae: 185277.0000\n",
            "Epoch 2/70\n",
            "549/549 [==============================] - 2s 3ms/step - loss: 133477.3438 - mae: 133477.3438 - val_loss: 92973.9141 - val_mae: 92973.9141\n",
            "Epoch 3/70\n",
            "549/549 [==============================] - 1s 2ms/step - loss: 95824.3281 - mae: 95824.3281 - val_loss: 75812.4375 - val_mae: 75812.4375\n",
            "Epoch 4/70\n",
            "549/549 [==============================] - 1s 3ms/step - loss: 85449.5078 - mae: 85449.5078 - val_loss: 67652.8359 - val_mae: 67652.8359\n",
            "Epoch 5/70\n",
            "549/549 [==============================] - 1s 3ms/step - loss: 81122.1172 - mae: 81122.1172 - val_loss: 62249.5312 - val_mae: 62249.5312\n",
            "Epoch 6/70\n",
            "549/549 [==============================] - 1s 3ms/step - loss: 77531.3906 - mae: 77531.3906 - val_loss: 58334.4766 - val_mae: 58334.4766\n",
            "Epoch 7/70\n",
            "549/549 [==============================] - 1s 3ms/step - loss: 74600.5938 - mae: 74600.5938 - val_loss: 55813.9531 - val_mae: 55813.9531\n",
            "Epoch 8/70\n",
            "549/549 [==============================] - 1s 2ms/step - loss: 72944.0234 - mae: 72944.0234 - val_loss: 54570.2695 - val_mae: 54570.2695\n",
            "Epoch 9/70\n",
            "549/549 [==============================] - 2s 3ms/step - loss: 71530.2109 - mae: 71530.2109 - val_loss: 52981.9336 - val_mae: 52981.9336\n",
            "Epoch 10/70\n",
            "549/549 [==============================] - 1s 3ms/step - loss: 70632.1797 - mae: 70632.1797 - val_loss: 51883.7422 - val_mae: 51883.7422\n",
            "Epoch 11/70\n",
            "549/549 [==============================] - 1s 2ms/step - loss: 69541.6797 - mae: 69541.6797 - val_loss: 51618.5273 - val_mae: 51618.5273\n",
            "Epoch 12/70\n",
            "549/549 [==============================] - 1s 2ms/step - loss: 68815.6797 - mae: 68815.6797 - val_loss: 50753.8438 - val_mae: 50753.8438\n",
            "Epoch 13/70\n",
            "549/549 [==============================] - 1s 2ms/step - loss: 68153.4609 - mae: 68153.4609 - val_loss: 50326.5625 - val_mae: 50326.5625\n",
            "Epoch 14/70\n",
            "549/549 [==============================] - 1s 2ms/step - loss: 67825.1172 - mae: 67825.1172 - val_loss: 49956.5234 - val_mae: 49956.5234\n",
            "Epoch 15/70\n",
            "549/549 [==============================] - 1s 2ms/step - loss: 67341.5703 - mae: 67341.5703 - val_loss: 49925.1641 - val_mae: 49925.1641\n",
            "Epoch 16/70\n",
            "549/549 [==============================] - 1s 3ms/step - loss: 67603.0312 - mae: 67603.0312 - val_loss: 49667.7969 - val_mae: 49667.7969\n",
            "Epoch 17/70\n",
            "549/549 [==============================] - 1s 2ms/step - loss: 66769.1328 - mae: 66769.1328 - val_loss: 49045.3242 - val_mae: 49045.3242\n",
            "Epoch 18/70\n",
            "549/549 [==============================] - 1s 3ms/step - loss: 67262.5234 - mae: 67262.5234 - val_loss: 48760.0938 - val_mae: 48760.0938\n",
            "Epoch 19/70\n",
            "549/549 [==============================] - 1s 2ms/step - loss: 66675.7109 - mae: 66675.7109 - val_loss: 49090.5625 - val_mae: 49090.5625\n",
            "Epoch 20/70\n",
            "549/549 [==============================] - 1s 2ms/step - loss: 66111.3750 - mae: 66111.3750 - val_loss: 48838.5781 - val_mae: 48838.5781\n",
            "Epoch 21/70\n",
            "549/549 [==============================] - 1s 2ms/step - loss: 66540.5938 - mae: 66540.5938 - val_loss: 48922.2422 - val_mae: 48922.2422\n",
            "Epoch 22/70\n",
            "549/549 [==============================] - 1s 2ms/step - loss: 66242.9375 - mae: 66242.9375 - val_loss: 48625.7070 - val_mae: 48625.7070\n",
            "Epoch 23/70\n",
            "549/549 [==============================] - 1s 2ms/step - loss: 66289.6484 - mae: 66289.6484 - val_loss: 48458.5000 - val_mae: 48458.5000\n",
            "Epoch 24/70\n",
            "549/549 [==============================] - 1s 2ms/step - loss: 66076.6875 - mae: 66076.6875 - val_loss: 48353.6133 - val_mae: 48353.6133\n",
            "Epoch 25/70\n",
            "549/549 [==============================] - 1s 2ms/step - loss: 65591.4453 - mae: 65591.4453 - val_loss: 48494.4805 - val_mae: 48494.4805\n",
            "Epoch 26/70\n",
            "549/549 [==============================] - 1s 2ms/step - loss: 65627.3047 - mae: 65627.3047 - val_loss: 48012.3867 - val_mae: 48012.3867\n",
            "Epoch 27/70\n",
            "549/549 [==============================] - 1s 2ms/step - loss: 65388.5430 - mae: 65388.5430 - val_loss: 48214.1758 - val_mae: 48214.1758\n",
            "Epoch 28/70\n",
            "549/549 [==============================] - 2s 3ms/step - loss: 65886.6172 - mae: 65886.6172 - val_loss: 48045.8203 - val_mae: 48045.8203\n",
            "Epoch 29/70\n",
            "549/549 [==============================] - 1s 3ms/step - loss: 65836.0938 - mae: 65836.0938 - val_loss: 48289.8750 - val_mae: 48289.8750\n",
            "Epoch 30/70\n",
            "549/549 [==============================] - 1s 3ms/step - loss: 65399.6445 - mae: 65399.6445 - val_loss: 48546.6602 - val_mae: 48546.6602\n",
            "Epoch 31/70\n",
            "549/549 [==============================] - 1s 2ms/step - loss: 65719.4219 - mae: 65719.4219 - val_loss: 48276.9805 - val_mae: 48276.9805\n",
            "Epoch 32/70\n",
            "549/549 [==============================] - 1s 3ms/step - loss: 65593.2109 - mae: 65593.2109 - val_loss: 47973.6680 - val_mae: 47973.6680\n",
            "Epoch 33/70\n",
            "549/549 [==============================] - 1s 2ms/step - loss: 65633.7812 - mae: 65633.7812 - val_loss: 47802.8750 - val_mae: 47802.8750\n",
            "Epoch 34/70\n",
            "549/549 [==============================] - 2s 3ms/step - loss: 66186.4922 - mae: 66186.4922 - val_loss: 47713.3086 - val_mae: 47713.3086\n",
            "Epoch 35/70\n",
            "549/549 [==============================] - 1s 2ms/step - loss: 65808.6875 - mae: 65808.6875 - val_loss: 48390.2227 - val_mae: 48390.2227\n",
            "Epoch 36/70\n",
            "549/549 [==============================] - 1s 2ms/step - loss: 65387.6797 - mae: 65387.6797 - val_loss: 47706.1641 - val_mae: 47706.1641\n",
            "Epoch 37/70\n",
            "549/549 [==============================] - 1s 2ms/step - loss: 65136.7578 - mae: 65136.7578 - val_loss: 47908.3867 - val_mae: 47908.3867\n",
            "Epoch 38/70\n",
            "549/549 [==============================] - 1s 2ms/step - loss: 65165.2930 - mae: 65165.2930 - val_loss: 47575.8750 - val_mae: 47575.8750\n",
            "Epoch 39/70\n",
            "549/549 [==============================] - 1s 2ms/step - loss: 64707.4141 - mae: 64707.4141 - val_loss: 47619.8672 - val_mae: 47619.8672\n",
            "Epoch 40/70\n",
            "549/549 [==============================] - 1s 2ms/step - loss: 64976.4609 - mae: 64976.4609 - val_loss: 47787.2656 - val_mae: 47787.2656\n",
            "Epoch 41/70\n",
            "549/549 [==============================] - 1s 2ms/step - loss: 65356.0000 - mae: 65356.0000 - val_loss: 48155.1406 - val_mae: 48155.1406\n",
            "Epoch 42/70\n",
            "549/549 [==============================] - 1s 2ms/step - loss: 64418.8594 - mae: 64418.8594 - val_loss: 47530.0117 - val_mae: 47530.0117\n",
            "Epoch 43/70\n",
            "549/549 [==============================] - 1s 2ms/step - loss: 64835.8828 - mae: 64835.8828 - val_loss: 47704.5547 - val_mae: 47704.5547\n",
            "Epoch 44/70\n",
            "549/549 [==============================] - 1s 3ms/step - loss: 65253.2969 - mae: 65253.2969 - val_loss: 47533.7812 - val_mae: 47533.7812\n",
            "Epoch 45/70\n",
            "549/549 [==============================] - 1s 2ms/step - loss: 65334.0117 - mae: 65334.0117 - val_loss: 47351.4727 - val_mae: 47351.4727\n",
            "Epoch 46/70\n",
            "549/549 [==============================] - 1s 2ms/step - loss: 64892.3594 - mae: 64892.3594 - val_loss: 47672.1719 - val_mae: 47672.1719\n",
            "Epoch 47/70\n",
            "549/549 [==============================] - 2s 4ms/step - loss: 64094.9258 - mae: 64094.9258 - val_loss: 47025.1016 - val_mae: 47025.1016\n",
            "Epoch 48/70\n",
            "549/549 [==============================] - 1s 2ms/step - loss: 64608.4727 - mae: 64608.4727 - val_loss: 47472.4023 - val_mae: 47472.4023\n",
            "Epoch 49/70\n",
            "549/549 [==============================] - 1s 2ms/step - loss: 64552.1055 - mae: 64552.1055 - val_loss: 47412.9062 - val_mae: 47412.9062\n",
            "Epoch 50/70\n",
            "549/549 [==============================] - 1s 3ms/step - loss: 64542.4961 - mae: 64542.4961 - val_loss: 47441.1211 - val_mae: 47441.1211\n",
            "Epoch 51/70\n",
            "549/549 [==============================] - 1s 3ms/step - loss: 64411.5117 - mae: 64411.5117 - val_loss: 47287.8281 - val_mae: 47287.8281\n",
            "Epoch 52/70\n",
            "549/549 [==============================] - 1s 3ms/step - loss: 64106.8945 - mae: 64106.8945 - val_loss: 47623.1523 - val_mae: 47623.1523\n",
            "Epoch 53/70\n",
            "549/549 [==============================] - 1s 3ms/step - loss: 64505.8867 - mae: 64505.8867 - val_loss: 47244.6719 - val_mae: 47244.6719\n",
            "Epoch 54/70\n",
            "549/549 [==============================] - 2s 3ms/step - loss: 63905.0000 - mae: 63905.0000 - val_loss: 47150.9922 - val_mae: 47150.9922\n",
            "Epoch 55/70\n",
            "549/549 [==============================] - 2s 3ms/step - loss: 64292.5156 - mae: 64292.5156 - val_loss: 47472.1602 - val_mae: 47472.1602\n",
            "Epoch 56/70\n",
            "549/549 [==============================] - 2s 3ms/step - loss: 64249.1875 - mae: 64249.1875 - val_loss: 47079.1250 - val_mae: 47079.1250\n",
            "Epoch 57/70\n",
            "549/549 [==============================] - 1s 2ms/step - loss: 64324.7656 - mae: 64324.7656 - val_loss: 47214.8750 - val_mae: 47214.8750\n",
            "Epoch 58/70\n",
            "549/549 [==============================] - 1s 3ms/step - loss: 63996.8281 - mae: 63996.8281 - val_loss: 47168.9609 - val_mae: 47168.9609\n",
            "Epoch 59/70\n",
            "549/549 [==============================] - 1s 3ms/step - loss: 64272.3789 - mae: 64272.3789 - val_loss: 46852.9453 - val_mae: 46852.9453\n",
            "Epoch 60/70\n",
            "549/549 [==============================] - 1s 2ms/step - loss: 63981.0586 - mae: 63981.0586 - val_loss: 47307.2852 - val_mae: 47307.2852\n",
            "Epoch 61/70\n",
            "549/549 [==============================] - 1s 2ms/step - loss: 64968.6523 - mae: 64968.6523 - val_loss: 47384.8438 - val_mae: 47384.8438\n",
            "Epoch 62/70\n",
            "549/549 [==============================] - 1s 3ms/step - loss: 63771.6797 - mae: 63771.6797 - val_loss: 47128.9414 - val_mae: 47128.9414\n",
            "Epoch 63/70\n",
            "549/549 [==============================] - 1s 3ms/step - loss: 64297.6094 - mae: 64297.6094 - val_loss: 47051.2539 - val_mae: 47051.2539\n",
            "Epoch 64/70\n",
            "549/549 [==============================] - 1s 2ms/step - loss: 64336.9688 - mae: 64336.9688 - val_loss: 47061.0352 - val_mae: 47061.0352\n",
            "Epoch 65/70\n",
            "549/549 [==============================] - 2s 3ms/step - loss: 64388.4648 - mae: 64388.4648 - val_loss: 47231.6289 - val_mae: 47231.6289\n",
            "Epoch 66/70\n",
            "549/549 [==============================] - 2s 4ms/step - loss: 64031.9062 - mae: 64031.9062 - val_loss: 46620.7969 - val_mae: 46620.7969\n",
            "Epoch 67/70\n",
            "549/549 [==============================] - 2s 4ms/step - loss: 64010.9219 - mae: 64010.9219 - val_loss: 46830.0742 - val_mae: 46830.0742\n",
            "Epoch 68/70\n",
            "549/549 [==============================] - 2s 3ms/step - loss: 63833.9961 - mae: 63833.9961 - val_loss: 46846.2070 - val_mae: 46846.2070\n",
            "Epoch 69/70\n",
            "549/549 [==============================] - 2s 3ms/step - loss: 63542.0625 - mae: 63542.0625 - val_loss: 46617.8984 - val_mae: 46617.8984\n",
            "Epoch 70/70\n",
            "549/549 [==============================] - 2s 3ms/step - loss: 63853.7734 - mae: 63853.7734 - val_loss: 46563.8359 - val_mae: 46563.8359\n"
          ]
        }
      ]
    },
    {
      "cell_type": "code",
      "source": [
        "# 7.1\n",
        "model.evaluate(X_test,y_test)"
      ],
      "metadata": {
        "id": "E8CUmuEXKsgT",
        "outputId": "fc7345b3-9839-4aa9-ac47-4d0cdd50412f",
        "colab": {
          "base_uri": "https://localhost:8080/"
        }
      },
      "execution_count": null,
      "outputs": [
        {
          "output_type": "stream",
          "name": "stdout",
          "text": [
            "97/97 [==============================] - 0s 2ms/step - loss: 0.6292 - mae: 0.6292\n"
          ]
        },
        {
          "output_type": "execute_result",
          "data": {
            "text/plain": [
              "[0.6291962265968323, 0.6291962265968323]"
            ]
          },
          "metadata": {},
          "execution_count": 129
        }
      ]
    },
    {
      "cell_type": "code",
      "source": [
        "######################### I am done #################"
      ],
      "metadata": {
        "id": "bzQX6UdZK-E-"
      },
      "execution_count": null,
      "outputs": []
    }
  ]
}